{
  "cells": [
    {
      "cell_type": "markdown",
      "metadata": {
        "id": "jN7tT2jvuYxo"
      },
      "source": [
        "# Lesson 4 Notebook: BERT Endeavors\n",
        "\n",
        "**Description:** After some setup for our standard IMDB movie classification task we will explore BERT (obtained from the [Huggingface Transformer library](https://huggingface.co/docs/transformers/index)) and apply it to text classification (in one way).\n",
        "\n",
        "<a id = 'returnToTop'></a>\n",
        "\n",
        "## Notebook Contents\n",
        "  * 1. [Setup](#setup)\n",
        "  * 2. [Data Acquisition](#dataAcquisition)  \n",
        "  * 3. [BERT Basics](#bertBasics)\n",
        "    * 3.1 [Tokenization](#tokenization)\n",
        "    * 3.2 [Model Structure & Output](#modelOutput)\n",
        "    * 3.3 [Context Based Embeddings with BERT](#contextualEmbeddings)\n",
        "  * 4. [Text Classification with BERT (using the Pooler Output)](#BERTClassification)\n",
        "    * 4.1 [Class Exercise](#classExercise)\n",
        "\n",
        "  [![Open In Colab](https://colab.research.google.com/assets/colab-badge.svg)](https://colab.research.google.com/github/datasci-w266/2024-summer-main/blob/master/materials/lesson_notebooks/lesson_4_BERT.ipynb)"
      ]
    },
    {
      "cell_type": "markdown",
      "metadata": {
        "id": "knuH9pWDuYxs"
      },
      "source": [
        "[Return to Top](#returnToTop)  \n",
        "<a id = 'setup'></a>\n",
        "\n",
        "## 1. Setup\n",
        "\n",
        "This notebook requires the tensorflow dataset and other prerequisites that you must download and then store locally."
      ]
    },
    {
      "cell_type": "code",
      "execution_count": 1,
      "metadata": {
        "id": "bbeFE53buYxu",
        "colab": {
          "base_uri": "https://localhost:8080/"
        },
        "outputId": "38b58ef2-2267-462d-9b1f-f1c1256d50e6"
      },
      "outputs": [
        {
          "output_type": "stream",
          "name": "stdout",
          "text": [
            "\u001b[2K     \u001b[90m━━━━━━━━━━━━━━━━━━━━━━━━━━━━━━━━━━━━━━━━\u001b[0m \u001b[32m5.2/5.2 MB\u001b[0m \u001b[31m12.3 MB/s\u001b[0m eta \u001b[36m0:00:00\u001b[0m\n",
            "\u001b[2K     \u001b[90m━━━━━━━━━━━━━━━━━━━━━━━━━━━━━━━━━━━━━━━━\u001b[0m \u001b[32m116.3/116.3 kB\u001b[0m \u001b[31m6.4 MB/s\u001b[0m eta \u001b[36m0:00:00\u001b[0m\n",
            "\u001b[2K     \u001b[90m━━━━━━━━━━━━━━━━━━━━━━━━━━━━━━━━━━━━━━━━\u001b[0m \u001b[32m1.7/1.7 MB\u001b[0m \u001b[31m10.8 MB/s\u001b[0m eta \u001b[36m0:00:00\u001b[0m\n",
            "\u001b[2K     \u001b[90m━━━━━━━━━━━━━━━━━━━━━━━━━━━━━━━━━━━━━━━━\u001b[0m \u001b[32m5.2/5.2 MB\u001b[0m \u001b[31m16.3 MB/s\u001b[0m eta \u001b[36m0:00:00\u001b[0m\n",
            "\u001b[?25h"
          ]
        }
      ],
      "source": [
        "!pip install tensorflow-datasets==4.8 --quiet\n",
        "!pip install tensorflow==2.15.0 --quiet #15 13\n",
        "!pip install tf_keras==2.15.0 --quiet\n",
        "!pip install tensorflow-text==2.15.0 --quiet #15"
      ]
    },
    {
      "cell_type": "markdown",
      "metadata": {
        "id": "9CdExqwDuYxv"
      },
      "source": [
        "pydot is also helpful, along with **graphviz**."
      ]
    },
    {
      "cell_type": "code",
      "execution_count": 2,
      "metadata": {
        "id": "wZqfhqnkuYxw"
      },
      "outputs": [],
      "source": [
        "!pip install pydot --quiet"
      ]
    },
    {
      "cell_type": "markdown",
      "metadata": {
        "id": "aMj2BoojPoYz"
      },
      "source": [
        "For BERT and other Transformer libraries we generally use Huggingface's implementations:"
      ]
    },
    {
      "cell_type": "code",
      "execution_count": 3,
      "metadata": {
        "id": "KMdabVGlPoqk",
        "colab": {
          "base_uri": "https://localhost:8080/"
        },
        "outputId": "b121f0c3-3dab-4e80-e80f-3de5d1726ed9"
      },
      "outputs": [
        {
          "output_type": "stream",
          "name": "stdout",
          "text": [
            "\u001b[2K     \u001b[90m━━━━━━━━━━━━━━━━━━━━━━━━━━━━━━━━━━━━━━━━\u001b[0m \u001b[32m3.8/3.8 MB\u001b[0m \u001b[31m13.4 MB/s\u001b[0m eta \u001b[36m0:00:00\u001b[0m\n",
            "\u001b[2K     \u001b[90m━━━━━━━━━━━━━━━━━━━━━━━━━━━━━━━━━━━━━━━━\u001b[0m \u001b[32m897.5/897.5 kB\u001b[0m \u001b[31m27.4 MB/s\u001b[0m eta \u001b[36m0:00:00\u001b[0m\n",
            "\u001b[?25h"
          ]
        }
      ],
      "source": [
        "!pip install transformers==4.17 --quiet"
      ]
    },
    {
      "cell_type": "markdown",
      "metadata": {
        "id": "UEuJaUNnuYxw"
      },
      "source": [
        "Ready to do the imports."
      ]
    },
    {
      "cell_type": "code",
      "execution_count": 4,
      "metadata": {
        "id": "tB-wHngguYxx"
      },
      "outputs": [],
      "source": [
        "import numpy as np\n",
        "import tensorflow as tf\n",
        "from tensorflow import keras\n",
        "\n",
        "from tensorflow.keras.layers import Embedding, Input, Dense, Lambda\n",
        "from tensorflow.keras.models import Model\n",
        "import tensorflow.keras.backend as K\n",
        "import tensorflow_datasets as tfds\n",
        "\n",
        "\n",
        "\n",
        "import sklearn as sk\n",
        "import os\n",
        "import nltk\n",
        "from nltk.data import find\n",
        "\n",
        "import matplotlib.pyplot as plt\n",
        "\n",
        "import re"
      ]
    },
    {
      "cell_type": "markdown",
      "metadata": {
        "id": "RW0-oUC9P5B8"
      },
      "source": [
        "For the Transformer library we need to import the **tokenizer** and the TensorFlow **model**:"
      ]
    },
    {
      "cell_type": "code",
      "execution_count": 5,
      "metadata": {
        "id": "Zn-icS7sP5pj"
      },
      "outputs": [],
      "source": [
        "from transformers import BertTokenizer, TFBertModel\n",
        "\n",
        "from transformers import logging\n",
        "logging.set_verbosity_error()"
      ]
    },
    {
      "cell_type": "markdown",
      "metadata": {
        "id": "8ctSoNnMuYxy"
      },
      "source": [
        "We then continue for now as we have before.\n",
        "\n",
        "Below is a helper function to plot histories."
      ]
    },
    {
      "cell_type": "code",
      "execution_count": 6,
      "metadata": {
        "id": "x9aSk4WWuYxz"
      },
      "outputs": [],
      "source": [
        "# 4-window plot of loss and accuracy for two models, for comparison\n",
        "\n",
        "def make_plot(axs,\n",
        "              model_history1,\n",
        "              model_history2,\n",
        "              model_1_name='model 1',\n",
        "              model_2_name='model 2',\n",
        "              ):\n",
        "    box = dict(facecolor='yellow', pad=5, alpha=0.2)\n",
        "\n",
        "    for i, metric in enumerate(['loss', 'accuracy']):\n",
        "        y_lim_lower1 = np.min(model_history1.history[metric])\n",
        "        y_lim_lower2 = np.min(model_history2.history[metric])\n",
        "        y_lim_lower = min(y_lim_lower1, y_lim_lower2) * 0.9\n",
        "\n",
        "        y_lim_upper1 = np.max(model_history1.history[metric])\n",
        "        y_lim_upper2 = np.max(model_history2.history[metric])\n",
        "        y_lim_upper = max(y_lim_upper1, y_lim_upper2) * 1.1\n",
        "\n",
        "        for j, model_history in enumerate([model_history1, model_history2]):\n",
        "            model_name = [model_1_name, model_2_name][j]\n",
        "            ax1 = axs[i, j]\n",
        "            ax1.plot(model_history.history[metric])\n",
        "            ax1.plot(model_history.history['val_%s' % metric])\n",
        "            ax1.set_title('%s - %s' % (metric, model_name))\n",
        "            ax1.set_ylabel(metric, bbox=box)\n",
        "            ax1.set_ylim(y_lim_lower, y_lim_upper)"
      ]
    },
    {
      "cell_type": "markdown",
      "metadata": {
        "id": "z_Bw3EB5Vwye"
      },
      "source": [
        "A small function calculating the cosine similarity may also come in handy:"
      ]
    },
    {
      "cell_type": "code",
      "execution_count": 7,
      "metadata": {
        "id": "g3nNnV2_Vw_L"
      },
      "outputs": [],
      "source": [
        "def cosine_similarities(vecs):\n",
        "    for v_1 in vecs:\n",
        "        similarities = ''\n",
        "        for v_2 in vecs:\n",
        "            similarities += ('\\t' + str(np.dot(v_1, v_2)/np.sqrt(np.dot(v_1, v_1) * np.dot(v_2, v_2)))[:4])\n",
        "        print(similarities)"
      ]
    },
    {
      "cell_type": "markdown",
      "metadata": {
        "id": "nVV7cXFjuYx4"
      },
      "source": [
        "[Return to Top](#returnToTop)  \n",
        "<a id = 'dataAcquisition'></a>\n",
        "\n",
        "## 2. Data Acquisition\n",
        "\n",
        "We will use the IMDB dataset delivered as part of the tensorflow-datasets library, and split into training and test sets. For expedience, we will limit ourselves in terms of train and test examples."
      ]
    },
    {
      "cell_type": "code",
      "execution_count": 8,
      "metadata": {
        "colab": {
          "base_uri": "https://localhost:8080/",
          "height": 138,
          "referenced_widgets": [
            "17d38baf61314261b89b3901f126dccf",
            "80cc86d54a9947fb97cb5cfe668e178e",
            "232b01cd4d9343748d3a8bab0552c1ef",
            "95171c6cce0043d685b90858b47f2ef8",
            "744bdf4c3a0249e1b1fb7353f9a86e2b",
            "ad7f8b2b9d6f4033baa7819c3f15297a",
            "1e088e5f622c4e74b34b173e02267d1d",
            "cd5188fb259e4e87b7c093869047a26f",
            "5cd1744ddf57426eb85f5aa2804523e7",
            "3a42b742fe8440f2b27aae3aac289a8b",
            "bdf3c589134b4bfea5cc32e9a7f88112",
            "9c63ee5cc78b45739d59d733f9fdcca1",
            "daebc71a5ee944bea666aa525683fc16",
            "bb846e364f804a29afe2e1407c10410b",
            "2cd9a27134fd43a9a9f8cccf191e2b0b",
            "f76f9af0387e43358c7ec12a3d22038e",
            "9e924c7c9a1947eab51714cae66602c4",
            "8048209413d24594879b9bacd27bbd9d",
            "90e4ccd377c147f3992dbaaf3b6d1592",
            "b1eec22b352148779876086c977a6739",
            "4364a1a5c7744f7fbe7176f0118d779d",
            "6eb4101c780a497ea63bf69e8ce3e9b1",
            "078fc14112924d8e807e4d4aaf46dcd8",
            "0b5f9d9bc6ab4162aa987986f60267ac",
            "503cadface0642518697f9600608ee48",
            "946e9395bb7b44878967ce5143a23feb",
            "e1a3874bc3bb468887918d2bb70cb887",
            "0f9dfbfdc6a6491094f0daa36442308a",
            "1183160c626343f4a124b349d91c05d0",
            "4a090ba8aca247198b6d40c56eca121c",
            "41a4e83f8b3c4071a65b2cf28cc7a36d",
            "5c03df6b0de14c7d8e06610c46155753",
            "bc682dce9e834443a2b8dbed058d61da",
            "392b5fc4582b4ff7bcd1654b46b671ed",
            "c6f8e70193c04fabb999e2e2eaf0270e",
            "0fb3518d91f040658a7da45ea3ccf25e",
            "94341841933b4219b9f3988cdbd3c363",
            "63782a4ec62c4ddf8fc9d39e0005f23c",
            "fd40ecaa7b784f7eb77f97f9c9cf8ca1",
            "926d2651f2a149fb8916207e224fa15c",
            "0cc8919eb8114e84bff54bdceffdf00c",
            "0c3bc14a4bbf4210b05e6b68b5722820",
            "ca71127d9cde403393f8a850811971df",
            "45522db9f0c845658c8e2d9ea033a893",
            "e2d22162c1a949c9b50d672934b7d7f4",
            "2652a48dcd89441b90f6931b4425d03d",
            "ce81f1b0202e474485123200daa6f70e",
            "ccd69cb101144b77baedda04e28b2ae9",
            "bd121cc353e24fe18f7d08a0e23c7b53",
            "bcc906121d8349cd9a5b4ed2ee97ef02",
            "883ca9a2599343deb4eb5d7e8a974553",
            "8f37c9de83e74bd3b3cc1ca842d16046",
            "c706cf76e07943ddbd7505b943b1c25a",
            "50e8563993b44d63ad126aa37396af56",
            "f0fc8bd4d62a499c99e06056f425feeb",
            "3b84e2671caa4418b1028855b15d0614",
            "ccb6be87e81c4713bd157782bca2af26",
            "598602e0592047dcaea0f3e40a6c39fc",
            "41da30caa413420498e6c637eec96266",
            "3241df07dfbe4fd4ba5452854c923abe",
            "5eb67f883dd44a4684d3ebaca11de311",
            "3ad08a79824b439d9ca0283d13e57f7a",
            "f76a6ad52ddf44aab85e73bc47f5829d",
            "9c38fe599a6149abab0b56caac1d1d9f",
            "899c1a41afcb4bda9c4906e15f6c7a96",
            "26d4d6be501e4e56978e3a259eac7221",
            "a57721b42c6d4db59d1dc822d6f9d295",
            "835aa66a979c49b6a86817ef1a5bd594",
            "70456d59257b48b6aed9361a4217430d",
            "c40eaadf55134a76bc300a8287602fe7",
            "e451837c05414f1d88092ba852bab4ca",
            "4ef9d5595b4f485884206ec944615ec0",
            "b194adfe3add47ac836a14f3545eee3d",
            "cb07160e8fab4670aeb15f14808a7a5c",
            "5726d85e5e09472fb822e41fdeb081e5",
            "4f6abedba9bb47539fe3d4a61237f085",
            "ed8ac28233ff4978a5837fa638d38d01",
            "35e586eda90147c28b3c98f49681088c",
            "f2038564063a42e79a2cba7de70b7888",
            "03ac8d87cd2a4f2e92b848762c8eee45",
            "700bd4cde4994103acaf96dcf359b6db",
            "62076ffe9f994d67b0271e00007bfac7",
            "c3690b3dd4dd48ef8f1e63562e59fd0f",
            "a7d8a2b22638403f95aac0383ea66298",
            "3ee4f6beb0854f508b7cca3c33a2f150",
            "9c00358e07b34fb38ee160d9f37566f1",
            "fffaf9559d444cbbbc080f43cfedd445",
            "3799b400f6e1430586c53b5b901c636f",
            "27a25e22531a4a62bda60c9d8c932974",
            "10e5b2d6888d493d95dcd1d7c49bf6ca",
            "7957c97aabea4ea6b1cd328f65bf0e2c",
            "bcc1d335f49c4194a1945f9d4abcc49d",
            "583333a3ecf24d179986f2271f9aa298",
            "806c642810824fbe9eec92c3dae387c5",
            "c88761bc40d64c469610dbed97222507",
            "ff8c209435d74dbf8989c33d6ce8d6d8",
            "fad0f4c31cc74fee832839eb51da3396",
            "b85e5be2c2a444ad90674bcd76b4897d",
            "86d3d16420cc4296a87408d5358e1f9d"
          ]
        },
        "id": "DEsvBbocuYx4",
        "outputId": "07aac3be-b393-4705-e4e7-3d44a7291fd5"
      },
      "outputs": [
        {
          "output_type": "stream",
          "name": "stdout",
          "text": [
            "Downloading and preparing dataset 80.23 MiB (download: 80.23 MiB, generated: Unknown size, total: 80.23 MiB) to /root/tensorflow_datasets/imdb_reviews/plain_text/1.0.0...\n"
          ]
        },
        {
          "output_type": "display_data",
          "data": {
            "text/plain": [
              "Dl Completed...: 0 url [00:00, ? url/s]"
            ],
            "application/vnd.jupyter.widget-view+json": {
              "version_major": 2,
              "version_minor": 0,
              "model_id": "17d38baf61314261b89b3901f126dccf"
            }
          },
          "metadata": {}
        },
        {
          "output_type": "display_data",
          "data": {
            "text/plain": [
              "Dl Size...: 0 MiB [00:00, ? MiB/s]"
            ],
            "application/vnd.jupyter.widget-view+json": {
              "version_major": 2,
              "version_minor": 0,
              "model_id": "9c63ee5cc78b45739d59d733f9fdcca1"
            }
          },
          "metadata": {}
        },
        {
          "output_type": "display_data",
          "data": {
            "text/plain": [
              "Generating splits...:   0%|          | 0/3 [00:00<?, ? splits/s]"
            ],
            "application/vnd.jupyter.widget-view+json": {
              "version_major": 2,
              "version_minor": 0,
              "model_id": "078fc14112924d8e807e4d4aaf46dcd8"
            }
          },
          "metadata": {}
        },
        {
          "output_type": "display_data",
          "data": {
            "text/plain": [
              "Generating train examples...:   0%|          | 0/25000 [00:00<?, ? examples/s]"
            ],
            "application/vnd.jupyter.widget-view+json": {
              "version_major": 2,
              "version_minor": 0,
              "model_id": "392b5fc4582b4ff7bcd1654b46b671ed"
            }
          },
          "metadata": {}
        },
        {
          "output_type": "display_data",
          "data": {
            "text/plain": [
              "Shuffling /root/tensorflow_datasets/imdb_reviews/plain_text/1.0.0.incompleteVHNWAV/imdb_reviews-train.tfrecord…"
            ],
            "application/vnd.jupyter.widget-view+json": {
              "version_major": 2,
              "version_minor": 0,
              "model_id": "e2d22162c1a949c9b50d672934b7d7f4"
            }
          },
          "metadata": {}
        },
        {
          "output_type": "display_data",
          "data": {
            "text/plain": [
              "Generating test examples...:   0%|          | 0/25000 [00:00<?, ? examples/s]"
            ],
            "application/vnd.jupyter.widget-view+json": {
              "version_major": 2,
              "version_minor": 0,
              "model_id": "3b84e2671caa4418b1028855b15d0614"
            }
          },
          "metadata": {}
        },
        {
          "output_type": "display_data",
          "data": {
            "text/plain": [
              "Shuffling /root/tensorflow_datasets/imdb_reviews/plain_text/1.0.0.incompleteVHNWAV/imdb_reviews-test.tfrecord*…"
            ],
            "application/vnd.jupyter.widget-view+json": {
              "version_major": 2,
              "version_minor": 0,
              "model_id": "a57721b42c6d4db59d1dc822d6f9d295"
            }
          },
          "metadata": {}
        },
        {
          "output_type": "display_data",
          "data": {
            "text/plain": [
              "Generating unsupervised examples...:   0%|          | 0/50000 [00:00<?, ? examples/s]"
            ],
            "application/vnd.jupyter.widget-view+json": {
              "version_major": 2,
              "version_minor": 0,
              "model_id": "35e586eda90147c28b3c98f49681088c"
            }
          },
          "metadata": {}
        },
        {
          "output_type": "display_data",
          "data": {
            "text/plain": [
              "Shuffling /root/tensorflow_datasets/imdb_reviews/plain_text/1.0.0.incompleteVHNWAV/imdb_reviews-unsupervised.t…"
            ],
            "application/vnd.jupyter.widget-view+json": {
              "version_major": 2,
              "version_minor": 0,
              "model_id": "27a25e22531a4a62bda60c9d8c932974"
            }
          },
          "metadata": {}
        },
        {
          "output_type": "stream",
          "name": "stdout",
          "text": [
            "Dataset imdb_reviews downloaded and prepared to /root/tensorflow_datasets/imdb_reviews/plain_text/1.0.0. Subsequent calls will reuse this data.\n"
          ]
        }
      ],
      "source": [
        "train_data, test_data = tfds.load(\n",
        "    name=\"imdb_reviews\",\n",
        "    split=('train[:80%]', 'test[80%:]'),\n",
        "    as_supervised=True)"
      ]
    },
    {
      "cell_type": "code",
      "execution_count": 9,
      "metadata": {
        "id": "hVXmgm7YuYx4"
      },
      "outputs": [],
      "source": [
        "train_examples, train_labels = next(iter(train_data.batch(20000)))\n",
        "test_examples, test_labels = next(iter(test_data.batch(5000)))"
      ]
    },
    {
      "cell_type": "code",
      "execution_count": 10,
      "metadata": {
        "colab": {
          "base_uri": "https://localhost:8080/"
        },
        "id": "bz2tFw9VuYx4",
        "outputId": "a34ac055-9638-4176-ae80-397adcc648b5"
      },
      "outputs": [
        {
          "output_type": "execute_result",
          "data": {
            "text/plain": [
              "<tf.Tensor: shape=(4,), dtype=string, numpy=\n",
              "array([b\"This was an absolutely terrible movie. Don't be lured in by Christopher Walken or Michael Ironside. Both are great actors, but this must simply be their worst role in history. Even their great acting could not redeem this movie's ridiculous storyline. This movie is an early nineties US propaganda piece. The most pathetic scenes were those when the Columbian rebels were making their cases for revolutions. Maria Conchita Alonso appeared phony, and her pseudo-love affair with Walken was nothing but a pathetic emotional plug in a movie that was devoid of any real meaning. I am disappointed that there are movies like this, ruining actor's like Christopher Walken's good name. I could barely sit through it.\",\n",
              "       b'I have been known to fall asleep during films, but this is usually due to a combination of things including, really tired, being warm and comfortable on the sette and having just eaten a lot. However on this occasion I fell asleep because the film was rubbish. The plot development was constant. Constantly slow and boring. Things seemed to happen, but with no explanation of what was causing them or why. I admit, I may have missed part of the film, but i watched the majority of it and everything just seemed to happen of its own accord without any real concern for anything else. I cant recommend this film at all.',\n",
              "       b'Mann photographs the Alberta Rocky Mountains in a superb fashion, and Jimmy Stewart and Walter Brennan give enjoyable performances as they always seem to do. <br /><br />But come on Hollywood - a Mountie telling the people of Dawson City, Yukon to elect themselves a marshal (yes a marshal!) and to enforce the law themselves, then gunfighters battling it out on the streets for control of the town? <br /><br />Nothing even remotely resembling that happened on the Canadian side of the border during the Klondike gold rush. Mr. Mann and company appear to have mistaken Dawson City for Deadwood, the Canadian North for the American Wild West.<br /><br />Canadian viewers be prepared for a Reefer Madness type of enjoyable howl with this ludicrous plot, or, to shake your head in disgust.',\n",
              "       b'This is the kind of film for a snowy Sunday afternoon when the rest of the world can go ahead with its own business as you descend into a big arm-chair and mellow for a couple of hours. Wonderful performances from Cher and Nicolas Cage (as always) gently row the plot along. There are no rapids to cross, no dangerous waters, just a warm and witty paddle through New York life at its best. A family film in every sense and one that deserves the praise it received.'],\n",
              "      dtype=object)>"
            ]
          },
          "metadata": {},
          "execution_count": 10
        }
      ],
      "source": [
        "train_examples[:4]"
      ]
    },
    {
      "cell_type": "code",
      "execution_count": 11,
      "metadata": {
        "colab": {
          "base_uri": "https://localhost:8080/"
        },
        "id": "1fD5Ah2muYx5",
        "outputId": "f118310b-cefc-49c4-c476-1137357179c8"
      },
      "outputs": [
        {
          "output_type": "execute_result",
          "data": {
            "text/plain": [
              "<tf.Tensor: shape=(4,), dtype=int64, numpy=array([0, 0, 0, 1])>"
            ]
          },
          "metadata": {},
          "execution_count": 11
        }
      ],
      "source": [
        "train_labels[:4]"
      ]
    },
    {
      "cell_type": "markdown",
      "metadata": {
        "id": "JyUVciGOQ72E"
      },
      "source": [
        "[Return to Top](#returnToTop)  \n",
        "<a id = 'bertBasics'></a>\n",
        "## 3. BERT Basics\n",
        "\n",
        "We now need to settle on the pre-trained BERT model we want to use. We will leverage **'bert-base-cased'**.\n",
        "\n",
        "We need to create the corresponding model and tokenizer:"
      ]
    },
    {
      "cell_type": "code",
      "execution_count": 12,
      "metadata": {
        "colab": {
          "base_uri": "https://localhost:8080/",
          "height": 145,
          "referenced_widgets": [
            "d78005d8296e405ca29edda808524a0d",
            "5b65fe19eabc4abab2c843ce60e25fb2",
            "65dafe0e95a14f01b44866ca43a48b4a",
            "068fb162a44b4d0b8781e062a9eed3e8",
            "e4a75800d07b4d1cb4c6e77565d5f4a0",
            "042da8ea648f408db239f7ec860a9e83",
            "db7b774a4ee1414fb01740f07672555e",
            "b2f507b422744835b0a8eb0b030bc63d",
            "2d54cf9f7a524f4c8504ffb545f9fd7f",
            "e155fa9cf60b4e4c871b0d5d541a444d",
            "23da74b09016422eab2ede0d226563bd",
            "cdf9e06a4ff0456f883b29b2aa3959e2",
            "389beda6e6de421c84628bac0fa573fe",
            "ad1371956c17421592da1b6e41d6fa13",
            "ec030386c08947f7ac9238fa3d0bf55e",
            "e5b34766103a46589156358ee3738267",
            "6b7861386ad9456da25707bfa1eb9911",
            "24741973c28043cb846017ddb80af68e",
            "3e50377586174da18ce59843c39a681e",
            "b1024adf4bed4334b28047f6bcf7d848",
            "39e8928436da415a8c6e2827aaf8dcbd",
            "64a76530ab5741e4a04e10d5aec8ad6c",
            "a229276c63bc434f947c8f3e6f8b3066",
            "859a23f79ef042da87b17101ab9bd58b",
            "b185538d16b54dac8a9a8d5a4e13c991",
            "5678a320cd4f457383918ae84858a2e0",
            "217ee14501974d0ea0d80eced5b9076a",
            "3292b68f676a43e9b77ab8d91095417d",
            "a9e360d6296648509f6df17757c401c9",
            "cc0480a105c14bfc9f182a74dd267a4d",
            "86fde83212ae47e48e817664b6885646",
            "92ff5a5a0de441cba9e5be9a5e4d502b",
            "553188ebdeee4845bc0a6e5a1b9203a0",
            "75777b66bcbb493a892450ac26bcbdf8",
            "44b1306b56604fc1b0466add52f038c3",
            "7b8b74af44044d04a5d376058b66783c",
            "d98dbdc235254d2894950a758e0425d1",
            "f230ebf619924117974dfffabee3e81d",
            "50b6f8fe99a749e48c12afdde80c9f7b",
            "f10ccd632a754dbe96738d93d45217d9",
            "a12ed5b052704de4b2f259e25a49d160",
            "4abadc1b4032446b8f76a49a12bdf1f9",
            "ac734b954c63463d9abdf02c97cafe93",
            "863e1936a46941bb88d93ae06c570412"
          ]
        },
        "id": "6VvVL8deRhtY",
        "outputId": "7ffa3f9d-1567-4c32-f3cd-fe7b65eccac3"
      },
      "outputs": [
        {
          "output_type": "display_data",
          "data": {
            "text/plain": [
              "Downloading:   0%|          | 0.00/208k [00:00<?, ?B/s]"
            ],
            "application/vnd.jupyter.widget-view+json": {
              "version_major": 2,
              "version_minor": 0,
              "model_id": "d78005d8296e405ca29edda808524a0d"
            }
          },
          "metadata": {}
        },
        {
          "output_type": "display_data",
          "data": {
            "text/plain": [
              "Downloading:   0%|          | 0.00/49.0 [00:00<?, ?B/s]"
            ],
            "application/vnd.jupyter.widget-view+json": {
              "version_major": 2,
              "version_minor": 0,
              "model_id": "cdf9e06a4ff0456f883b29b2aa3959e2"
            }
          },
          "metadata": {}
        },
        {
          "output_type": "display_data",
          "data": {
            "text/plain": [
              "Downloading:   0%|          | 0.00/570 [00:00<?, ?B/s]"
            ],
            "application/vnd.jupyter.widget-view+json": {
              "version_major": 2,
              "version_minor": 0,
              "model_id": "a229276c63bc434f947c8f3e6f8b3066"
            }
          },
          "metadata": {}
        },
        {
          "output_type": "display_data",
          "data": {
            "text/plain": [
              "Downloading:   0%|          | 0.00/502M [00:00<?, ?B/s]"
            ],
            "application/vnd.jupyter.widget-view+json": {
              "version_major": 2,
              "version_minor": 0,
              "model_id": "75777b66bcbb493a892450ac26bcbdf8"
            }
          },
          "metadata": {}
        }
      ],
      "source": [
        "checkpoint = 'bert-base-cased'\n",
        "bert_tokenizer = BertTokenizer.from_pretrained(checkpoint)\n",
        "bert_model = TFBertModel.from_pretrained(checkpoint)"
      ]
    },
    {
      "cell_type": "markdown",
      "metadata": {
        "id": "gGwBMcXDR235"
      },
      "source": [
        "[Return to Top](#returnToTop)  \n",
        "<a id = 'tokenization'></a>\n",
        "\n",
        "### 3.1 Tokenization\n",
        "\n",
        "Tokenization with BERT is interesting. To minimize the number of unknown words, BERT (like most pre-trained transformer models) uses a **subword** model for tokenization. We will see what that means in a second.\n",
        "\n",
        "Let's start with something simple:"
      ]
    },
    {
      "cell_type": "code",
      "execution_count": 13,
      "metadata": {
        "colab": {
          "base_uri": "https://localhost:8080/"
        },
        "id": "2CZ5FbncSYtN",
        "outputId": "7356d380-5c89-4786-bf8c-97b1a53927fd"
      },
      "outputs": [
        {
          "output_type": "execute_result",
          "data": {
            "text/plain": [
              "['This', 'is', 'great', '!']"
            ]
          },
          "metadata": {},
          "execution_count": 13
        }
      ],
      "source": [
        "bert_tokenizer.tokenize('This is great!')"
      ]
    },
    {
      "cell_type": "markdown",
      "metadata": {
        "id": "1Egd6BXhScvv"
      },
      "source": [
        "Ok, that is as expected. What about:"
      ]
    },
    {
      "cell_type": "code",
      "execution_count": 14,
      "metadata": {
        "colab": {
          "base_uri": "https://localhost:8080/"
        },
        "id": "JWZlCdaiSdQy",
        "outputId": "3ea411e3-f268-44bd-b2d7-9c3e8cc3485e"
      },
      "outputs": [
        {
          "output_type": "execute_result",
          "data": {
            "text/plain": [
              "['This', 'tree', 'is', '125', '##3', 'years', 'old', '.']"
            ]
          },
          "metadata": {},
          "execution_count": 14
        }
      ],
      "source": [
        "bert_tokenizer.tokenize('This tree is 1253 years old.')"
      ]
    },
    {
      "cell_type": "markdown",
      "metadata": {
        "id": "U6ropVVNSn4p"
      },
      "source": [
        "or"
      ]
    },
    {
      "cell_type": "code",
      "execution_count": 15,
      "metadata": {
        "colab": {
          "base_uri": "https://localhost:8080/"
        },
        "id": "m8yW5TB8SoCN",
        "outputId": "8a902177-0957-4c78-8e9f-a3abc30c3221"
      },
      "outputs": [
        {
          "output_type": "execute_result",
          "data": {
            "text/plain": [
              "['P', '##ne', '##um', '##onia', 'can', 'be', 'very', 'serious', '.']"
            ]
          },
          "metadata": {},
          "execution_count": 15
        }
      ],
      "source": [
        "bert_tokenizer.tokenize('Pneumonia can be very serious.')"
      ]
    },
    {
      "cell_type": "markdown",
      "metadata": {
        "id": "apDHuWYCSxGb"
      },
      "source": [
        "Ouch! Many more complex terms are not in BERT's vocabulary and are split up.\n",
        "\n",
        "**Question:** in what type of NLP problems can this lead to complications?\n",
        "\n",
        "Next, how do we generate the BERT input with its tokenizer? Fortunately, by now Huggingface's tokenizer implementation makes this rather straightforward:"
      ]
    },
    {
      "cell_type": "code",
      "execution_count": 16,
      "metadata": {
        "colab": {
          "base_uri": "https://localhost:8080/"
        },
        "id": "RbwyQg5uRhwU",
        "outputId": "097a999d-c6c4-4e35-a159-a6741ba7608f"
      },
      "outputs": [
        {
          "output_type": "execute_result",
          "data": {
            "text/plain": [
              "{'input_ids': [[101, 1188, 1110, 1632, 106, 102]], 'token_type_ids': [[0, 0, 0, 0, 0, 0]], 'attention_mask': [[1, 1, 1, 1, 1, 1]]}"
            ]
          },
          "metadata": {},
          "execution_count": 16
        }
      ],
      "source": [
        "bert_tokenizer(['This is great!'])"
      ]
    },
    {
      "cell_type": "markdown",
      "metadata": {
        "id": "5PWKc757TXvs"
      },
      "source": [
        "To make sure we do this correctly though we may want to specify that we want to have the inputs for TensorFlow (vs. PyTorch), and we may want to do some padding:"
      ]
    },
    {
      "cell_type": "code",
      "execution_count": 17,
      "metadata": {
        "colab": {
          "base_uri": "https://localhost:8080/"
        },
        "id": "KGJVehAZRhy7",
        "outputId": "b23f1cf4-cdeb-4f75-ce3a-f453510e0bfb"
      },
      "outputs": [
        {
          "output_type": "execute_result",
          "data": {
            "text/plain": [
              "{'input_ids': <tf.Tensor: shape=(2, 10), dtype=int32, numpy=\n",
              "array([[ 101, 1188, 1110, 1632,  106,  102,    0,    0,    0,    0],\n",
              "       [ 101, 1188, 1110, 6434,  106,  102,    0,    0,    0,    0]],\n",
              "      dtype=int32)>, 'token_type_ids': <tf.Tensor: shape=(2, 10), dtype=int32, numpy=\n",
              "array([[0, 0, 0, 0, 0, 0, 0, 0, 0, 0],\n",
              "       [0, 0, 0, 0, 0, 0, 0, 0, 0, 0]], dtype=int32)>, 'attention_mask': <tf.Tensor: shape=(2, 10), dtype=int32, numpy=\n",
              "array([[1, 1, 1, 1, 1, 1, 0, 0, 0, 0],\n",
              "       [1, 1, 1, 1, 1, 1, 0, 0, 0, 0]], dtype=int32)>}"
            ]
          },
          "metadata": {},
          "execution_count": 17
        }
      ],
      "source": [
        "bert_input = bert_tokenizer(['This is great!', 'This is terrible!'],\n",
        "              max_length=10,\n",
        "              truncation=True,\n",
        "              padding='max_length',\n",
        "              return_tensors='tf')\n",
        "\n",
        "bert_input"
      ]
    },
    {
      "cell_type": "markdown",
      "metadata": {
        "id": "mBzUOfaWTwoa"
      },
      "source": [
        "What do we notice? Look at shapes and values. Does everything make sense?\n",
        "\n",
        "**Question**: What is the input_id of the CLS token? What is the input_id of the SEP token?\n",
        "\n",
        "[Return to Top](#returnToTop)  \n",
        "<a id = 'modelOutput'></a>\n",
        "\n",
        "### 3.2 Model Structure & Output\n",
        "\n",
        "Where we have familiarized ourselves with the tokenization, we can now turn to the model and its output. How does that work? Simple!"
      ]
    },
    {
      "cell_type": "code",
      "execution_count": 18,
      "metadata": {
        "colab": {
          "base_uri": "https://localhost:8080/"
        },
        "id": "GFc8_mlAbVMx",
        "outputId": "3b4112a2-8d64-44e5-865e-a6cac289b735"
      },
      "outputs": [
        {
          "output_type": "execute_result",
          "data": {
            "text/plain": [
              "199"
            ]
          },
          "metadata": {},
          "execution_count": 18
        }
      ],
      "source": [
        "len(bert_model.weights)"
      ]
    },
    {
      "cell_type": "markdown",
      "metadata": {
        "id": "gXGK5syxb6N1"
      },
      "source": [
        "Let's look at the first 3 of these:"
      ]
    },
    {
      "cell_type": "code",
      "execution_count": 19,
      "metadata": {
        "colab": {
          "base_uri": "https://localhost:8080/"
        },
        "id": "droM_2eCbuVJ",
        "outputId": "b85a11af-c84c-4825-ef0d-9ce4b84ee1bb"
      },
      "outputs": [
        {
          "output_type": "execute_result",
          "data": {
            "text/plain": [
              "<tf.Variable 'tf_bert_model/bert/embeddings/word_embeddings/weight:0' shape=(28996, 768) dtype=float32, numpy=\n",
              "array([[-0.00054784, -0.04156886,  0.01308366, ..., -0.0038919 ,\n",
              "        -0.0335485 ,  0.0149841 ],\n",
              "       [ 0.01688265, -0.03106827,  0.0042053 , ..., -0.01474032,\n",
              "        -0.03561099, -0.0036223 ],\n",
              "       [-0.00057234, -0.02673604,  0.00803954, ..., -0.01002474,\n",
              "        -0.0331164 , -0.01651673],\n",
              "       ...,\n",
              "       [-0.00643814,  0.01658491, -0.02035619, ..., -0.04178825,\n",
              "        -0.049201  ,  0.00416085],\n",
              "       [-0.00483562, -0.00267701, -0.02901638, ..., -0.05116647,\n",
              "         0.00449265, -0.01177113],\n",
              "       [ 0.03134822, -0.02974372, -0.02302896, ..., -0.01454749,\n",
              "        -0.05249038,  0.02843569]], dtype=float32)>"
            ]
          },
          "metadata": {},
          "execution_count": 19
        }
      ],
      "source": [
        "bert_model.weights[0]"
      ]
    },
    {
      "cell_type": "code",
      "execution_count": 20,
      "metadata": {
        "colab": {
          "base_uri": "https://localhost:8080/"
        },
        "id": "ir4TGu0kb1l0",
        "outputId": "6ad20e30-87bf-4e10-d087-29431db52faa"
      },
      "outputs": [
        {
          "output_type": "execute_result",
          "data": {
            "text/plain": [
              "<tf.Variable 'tf_bert_model/bert/embeddings/token_type_embeddings/embeddings:0' shape=(2, 768) dtype=float32, numpy=\n",
              "array([[-3.6974233e-03,  1.7510093e-03, -1.4998456e-05, ...,\n",
              "         4.1503753e-03, -4.3169265e-03,  2.5677346e-04],\n",
              "       [-2.4836401e-03, -3.9493470e-03, -3.2805414e-03, ...,\n",
              "        -2.4496014e-03, -2.2277145e-03, -2.3139343e-03]], dtype=float32)>"
            ]
          },
          "metadata": {},
          "execution_count": 20
        }
      ],
      "source": [
        "bert_model.weights[1]"
      ]
    },
    {
      "cell_type": "code",
      "execution_count": 21,
      "metadata": {
        "colab": {
          "base_uri": "https://localhost:8080/"
        },
        "id": "cExCTygrb1ww",
        "outputId": "5ee2e9ac-89f4-4f0b-ea27-ff47db62d327"
      },
      "outputs": [
        {
          "output_type": "execute_result",
          "data": {
            "text/plain": [
              "<tf.Variable 'tf_bert_model/bert/embeddings/position_embeddings/embeddings:0' shape=(512, 768) dtype=float32, numpy=\n",
              "array([[ 0.02344714,  0.00516326, -0.013507  , ...,  0.00153387,\n",
              "         0.01396566,  0.00978599],\n",
              "       [-0.02690891, -0.00475334, -0.00550656, ...,  0.00586852,\n",
              "         0.00464536, -0.00547428],\n",
              "       [-0.01394941, -0.00832889,  0.00383158, ...,  0.00617752,\n",
              "         0.00074595, -0.01051977],\n",
              "       ...,\n",
              "       [ 0.0049373 ,  0.01553355,  0.02107639, ..., -0.00957435,\n",
              "         0.02251508,  0.01383893],\n",
              "       [ 0.01732728, -0.02141069, -0.00283472, ..., -0.02397991,\n",
              "        -0.00158155, -0.01289534],\n",
              "       [ 0.00196406, -0.01695957,  0.00028094, ...,  0.00183421,\n",
              "        -0.01463418, -0.00022347]], dtype=float32)>"
            ]
          },
          "metadata": {},
          "execution_count": 21
        }
      ],
      "source": [
        "bert_model.weights[2]"
      ]
    },
    {
      "cell_type": "markdown",
      "source": [
        "What are those three?  What can you infer from the shape?\n",
        "\n",
        "Let's look at two more examples.  "
      ],
      "metadata": {
        "id": "0MY1f0R8Ohlm"
      }
    },
    {
      "cell_type": "code",
      "source": [
        "bert_model.weights[5]"
      ],
      "metadata": {
        "colab": {
          "base_uri": "https://localhost:8080/"
        },
        "id": "uTLBp1WkMrfN",
        "outputId": "c7b9be66-7c75-4787-93cd-0a550acfdcd3"
      },
      "execution_count": 22,
      "outputs": [
        {
          "output_type": "execute_result",
          "data": {
            "text/plain": [
              "<tf.Variable 'tf_bert_model/bert/encoder/layer_._0/attention/self/query/kernel:0' shape=(768, 768) dtype=float32, numpy=\n",
              "array([[-3.3502415e-02,  2.4027612e-02, -2.0564368e-02, ...,\n",
              "        -1.3056799e-03, -3.9361402e-02, -2.2783404e-02],\n",
              "       [ 4.0312465e-02, -2.5828961e-02,  8.4446638e-06, ...,\n",
              "        -1.3387711e-02, -3.1533711e-02,  3.4254842e-02],\n",
              "       [-1.8537968e-02,  7.4056715e-02, -1.8200211e-02, ...,\n",
              "         4.5182254e-02, -3.1906586e-02,  5.0266716e-03],\n",
              "       ...,\n",
              "       [-5.5251766e-02,  4.2552739e-02,  1.3469980e-02, ...,\n",
              "         6.7677222e-02,  1.5837654e-02,  3.7086751e-02],\n",
              "       [-2.2093264e-02,  6.9746509e-02, -5.0525931e-03, ...,\n",
              "         1.9251993e-02,  4.2907264e-02, -5.9672974e-02],\n",
              "       [ 1.9098628e-02, -1.2032607e-02,  2.8985986e-02, ...,\n",
              "         1.0258724e-02, -8.2653269e-02,  8.1220670e-03]], dtype=float32)>"
            ]
          },
          "metadata": {},
          "execution_count": 22
        }
      ]
    },
    {
      "cell_type": "code",
      "source": [
        "bert_model.weights[7]"
      ],
      "metadata": {
        "colab": {
          "base_uri": "https://localhost:8080/"
        },
        "id": "eADMNPtnMrTR",
        "outputId": "d44f291e-48c1-4fcb-8d56-ad11780986bf"
      },
      "execution_count": 23,
      "outputs": [
        {
          "output_type": "execute_result",
          "data": {
            "text/plain": [
              "<tf.Variable 'tf_bert_model/bert/encoder/layer_._0/attention/self/key/kernel:0' shape=(768, 768) dtype=float32, numpy=\n",
              "array([[ 2.8657176e-02,  4.8005264e-03,  4.9075916e-02, ...,\n",
              "        -8.8107968e-03,  5.6885206e-03,  5.4868605e-02],\n",
              "       [-3.0682154e-02, -3.0306482e-03, -1.2872593e-02, ...,\n",
              "        -3.2314227e-03,  5.2937653e-02, -3.6515070e-03],\n",
              "       [-2.6920761e-03,  2.4164479e-02, -1.3647523e-02, ...,\n",
              "         1.1721017e-02,  9.4898082e-03,  1.5124909e-02],\n",
              "       ...,\n",
              "       [ 2.3737766e-02,  7.4703549e-03,  3.8690038e-02, ...,\n",
              "        -2.8807104e-02,  5.6113109e-02, -2.0291412e-02],\n",
              "       [-7.9208333e-03,  4.4420104e-02,  1.6604092e-02, ...,\n",
              "         4.6373899e-03,  2.6797490e-02, -2.8913473e-03],\n",
              "       [-1.0335554e-02,  2.5628829e-02,  7.9800091e-05, ...,\n",
              "         3.5981752e-02,  4.9961805e-02,  1.4802449e-02]], dtype=float32)>"
            ]
          },
          "metadata": {},
          "execution_count": 23
        }
      ]
    },
    {
      "cell_type": "markdown",
      "metadata": {
        "id": "vKoR4g4pbZ0y"
      },
      "source": [
        "What are those?\n",
        "\n",
        "And let's make sure that we look at more layers in class...\n",
        "\n",
        "\n",
        "Now let's turn to BERT's output."
      ]
    },
    {
      "cell_type": "code",
      "execution_count": 24,
      "metadata": {
        "colab": {
          "base_uri": "https://localhost:8080/"
        },
        "id": "hqwZzwpmTvfR",
        "outputId": "b5712da5-d1ce-4301-89b4-97895f0e52be"
      },
      "outputs": [
        {
          "output_type": "execute_result",
          "data": {
            "text/plain": [
              "TFBaseModelOutputWithPoolingAndCrossAttentions(last_hidden_state=<tf.Tensor: shape=(2, 10, 768), dtype=float32, numpy=\n",
              "array([[[ 0.3178998 ,  0.3524653 ,  0.15059778, ..., -0.17058703,\n",
              "          0.35169622,  0.01252139],\n",
              "        [ 0.29476976, -0.09967358,  0.639464  , ..., -0.03713118,\n",
              "          0.21884593,  0.35178176],\n",
              "        [ 0.15745729,  0.6033652 ,  0.7143254 , ...,  0.08226284,\n",
              "          0.3010641 ,  0.63735646],\n",
              "        ...,\n",
              "        [-0.08408131,  0.21920007,  0.30455408, ..., -0.08951665,\n",
              "          0.32351884,  0.26547515],\n",
              "        [ 0.24848065, -0.03157468,  0.32583144, ..., -0.10880924,\n",
              "          0.4849399 ,  0.0566131 ],\n",
              "        [ 0.22492445, -0.07156713,  0.2035762 , ...,  0.04799661,\n",
              "          0.44845212,  0.15163933]],\n",
              "\n",
              "       [[ 0.33174515,  0.38341564,  0.08286634, ..., -0.22092693,\n",
              "          0.24292803, -0.13691899],\n",
              "        [ 0.32388806, -0.04733393,  0.6686548 , ..., -0.00434731,\n",
              "          0.3423489 ,  0.3566633 ],\n",
              "        [ 0.24995087,  0.746111  ,  0.35974228, ..., -0.10303069,\n",
              "          0.2467972 ,  0.7532056 ],\n",
              "        ...,\n",
              "        [ 0.07417659,  0.14872892,  0.12213762, ..., -0.10517773,\n",
              "          0.19000122,  0.20076516],\n",
              "        [ 0.27344257, -0.12218017,  0.11208513, ..., -0.04862046,\n",
              "          0.4010016 ,  0.15122637],\n",
              "        [ 0.22480485, -0.02993963, -0.00996829, ...,  0.15116233,\n",
              "          0.41556233,  0.15960926]]], dtype=float32)>, pooler_output=<tf.Tensor: shape=(2, 768), dtype=float32, numpy=\n",
              "array([[-0.6879134 ,  0.46750426,  0.99986404, ...,  0.99995786,\n",
              "        -0.87927574,  0.9927541 ],\n",
              "       [-0.5880216 ,  0.5196976 ,  0.99984896, ...,  0.9999574 ,\n",
              "        -0.8189949 ,  0.99361855]], dtype=float32)>, past_key_values=None, hidden_states=None, attentions=None, cross_attentions=None)"
            ]
          },
          "metadata": {},
          "execution_count": 24
        }
      ],
      "source": [
        "bert_output = bert_model(bert_input)\n",
        "bert_output"
      ]
    },
    {
      "cell_type": "markdown",
      "metadata": {
        "id": "davPp5NrUa0s"
      },
      "source": [
        "Let's analyze this a bit:"
      ]
    },
    {
      "cell_type": "code",
      "execution_count": 25,
      "metadata": {
        "colab": {
          "base_uri": "https://localhost:8080/"
        },
        "id": "rkPTVxjyTvht",
        "outputId": "51163db9-1a72-4183-a4ea-a2c1680310ea"
      },
      "outputs": [
        {
          "output_type": "stream",
          "name": "stdout",
          "text": [
            "Shape of first BERT output:  (2, 10, 768)\n",
            "Shape of second BERT output:  (2, 768)\n"
          ]
        }
      ],
      "source": [
        "print('Shape of first BERT output: ', bert_output[0].shape)\n",
        "print('Shape of second BERT output: ', bert_output[1].shape)"
      ]
    },
    {
      "cell_type": "markdown",
      "metadata": {
        "id": "rz2FwAP7Uq_D"
      },
      "source": [
        "What does that mean? Are the dimensions correct? Why are there 2 outputs? Let's discuss in class. You can (and should!) also go to https://huggingface.co/docs/transformers/model_doc/bert#transformers.TFBertModel and read the documentation. **REALLY(!)**\n",
        " critical.\n",
        "\n",
        "[Return to Top](#returnToTop)  \n",
        "<a id = 'contextualEmbeddings'></a>\n",
        "\n",
        "### 3.3 Context-based Embeddings with BERT\n",
        "\n",
        "Let's look at the word \"bank\" in a few contexts:"
      ]
    },
    {
      "cell_type": "code",
      "execution_count": 26,
      "metadata": {
        "colab": {
          "base_uri": "https://localhost:8080/"
        },
        "id": "RuMWhXa8Tvj0",
        "outputId": "2faa6568-82fd-4a7f-c932-4f9ca19f1c0f"
      },
      "outputs": [
        {
          "output_type": "execute_result",
          "data": {
            "text/plain": [
              "{'input_ids': <tf.Tensor: shape=(4, 13), dtype=int32, numpy=\n",
              "array([[ 101,  146, 1444, 1106, 2498, 1139, 1948, 1106, 1103, 3085, 2052,\n",
              "         102,    0],\n",
              "       [ 101,  146, 1209, 1444, 1106, 2498, 1139, 1948, 1106, 1103, 3085,\n",
              "        4911,  102],\n",
              "       [ 101,  146, 1125, 1106, 3085, 1154,  170, 1885,  102,    0,    0,\n",
              "           0,    0],\n",
              "       [ 101, 1109, 3085, 1587, 1200, 1108, 1304, 3505,  102,    0,    0,\n",
              "           0,    0]], dtype=int32)>, 'token_type_ids': <tf.Tensor: shape=(4, 13), dtype=int32, numpy=\n",
              "array([[0, 0, 0, 0, 0, 0, 0, 0, 0, 0, 0, 0, 0],\n",
              "       [0, 0, 0, 0, 0, 0, 0, 0, 0, 0, 0, 0, 0],\n",
              "       [0, 0, 0, 0, 0, 0, 0, 0, 0, 0, 0, 0, 0],\n",
              "       [0, 0, 0, 0, 0, 0, 0, 0, 0, 0, 0, 0, 0]], dtype=int32)>, 'attention_mask': <tf.Tensor: shape=(4, 13), dtype=int32, numpy=\n",
              "array([[1, 1, 1, 1, 1, 1, 1, 1, 1, 1, 1, 1, 0],\n",
              "       [1, 1, 1, 1, 1, 1, 1, 1, 1, 1, 1, 1, 1],\n",
              "       [1, 1, 1, 1, 1, 1, 1, 1, 1, 0, 0, 0, 0],\n",
              "       [1, 1, 1, 1, 1, 1, 1, 1, 1, 0, 0, 0, 0]], dtype=int32)>}"
            ]
          },
          "metadata": {},
          "execution_count": 26
        }
      ],
      "source": [
        "bert_bank_inputs = bert_tokenizer([\"I need to bring my money to the bank today\",\n",
        "                                  \"I will need to bring my money to the bank tomorrow\",\n",
        "                                  \"I had to bank into a turn\",\n",
        "                                  \"The bank teller was very nice\" ],\n",
        "                                padding=True,\n",
        "                                return_tensors='tf')\n",
        "\n",
        "bert_bank_inputs"
      ]
    },
    {
      "cell_type": "markdown",
      "metadata": {
        "id": "NFNpT0-MWFVg"
      },
      "source": [
        "Next, we will get the outputs and extract the word vectors for bank in each of these sentences:"
      ]
    },
    {
      "cell_type": "code",
      "execution_count": 27,
      "metadata": {
        "id": "yqlgKOLVWEcd"
      },
      "outputs": [],
      "source": [
        "bert_bank_outputs = bert_model(bert_bank_inputs)\n",
        "\n",
        "bank_1 = bert_bank_outputs[0][0, 9]\n",
        "bank_2 = bert_bank_outputs[0][1, 10]\n",
        "bank_3 = bert_bank_outputs[0][2, 4]\n",
        "bank_4 = bert_bank_outputs[0][3, 2]\n",
        "\n",
        "banks = [bank_1, bank_2, bank_3, bank_4]"
      ]
    },
    {
      "cell_type": "markdown",
      "metadata": {
        "id": "CD0ffO0zWE2y"
      },
      "source": [
        "Where are those numbers coming from?\n",
        "\n",
        "Finally, we obtain the cosine similarities between the 4 vectors (from left to right and top to bottom we iterate through our vectors and report the cosine similarity):"
      ]
    },
    {
      "cell_type": "code",
      "execution_count": 28,
      "metadata": {
        "colab": {
          "base_uri": "https://localhost:8080/"
        },
        "id": "q853iPjWV-7-",
        "outputId": "585173f3-6922-4eaf-d382-66c2780d45ea"
      },
      "outputs": [
        {
          "output_type": "stream",
          "name": "stdout",
          "text": [
            "\t1.0\t0.99\t0.59\t0.86\n",
            "\t0.99\t1.0\t0.59\t0.87\n",
            "\t0.59\t0.59\t1.0\t0.62\n",
            "\t0.86\t0.87\t0.62\t1.0\n"
          ]
        }
      ],
      "source": [
        "cosine_similarities(banks)"
      ]
    },
    {
      "cell_type": "markdown",
      "metadata": {
        "id": "LaJkBucTXDpY"
      },
      "source": [
        "Does this look right?\n",
        "\n",
        "[Return to Top](#returnToTop)  \n",
        "<a id = 'BERTClassification'></a>\n",
        "\n",
        "# 4. Text Classification with BERT (using the Pooler Output)\n",
        "\n",
        "The BERT model returns two values that can be exploited for classification purposes. One is the last_hidden_state which is the sequence of hidden-states at the output of the last layer of the model.  The second one is the pooler output, with is the output of the [CLS] token where another linear layer is added on top followed by a tanh. This pooler output can be used for classification purposes.\n",
        "\n",
        "Let us create the data. More will be discussed in class. (We can limit the training and test data sizes for expedience in class.)"
      ]
    },
    {
      "cell_type": "code",
      "execution_count": 29,
      "metadata": {
        "id": "LDTh2NqNpL3z"
      },
      "outputs": [],
      "source": [
        "# BERT Tokenization of training and test data\n",
        "\n",
        "num_train_examples = 20000      # set number of train examples - 1500 for realtime demo\n",
        "num_test_examples = 5000        # set number of test examples - 500 for realtime demo\n",
        "\n",
        "MAX_SEQUENCE_LENGTH = 128                 # set max_length of the input sequence\n",
        "\n",
        "all_train_examples = [x.decode('utf-8') for x in train_examples.numpy()]\n",
        "all_test_examples = [x.decode('utf-8') for x in test_examples.numpy()]\n",
        "\n",
        "x_train = bert_tokenizer(all_train_examples[:num_train_examples],\n",
        "              max_length=MAX_SEQUENCE_LENGTH,\n",
        "              truncation=True,\n",
        "              padding='max_length',\n",
        "              return_tensors='tf')\n",
        "y_train = train_labels[:num_train_examples]\n",
        "\n",
        "x_test = bert_tokenizer(all_test_examples[:num_test_examples],\n",
        "              max_length=MAX_SEQUENCE_LENGTH,\n",
        "              truncation=True,\n",
        "              padding='max_length',\n",
        "              return_tensors='tf')\n",
        "y_test = test_labels[:num_test_examples]"
      ]
    },
    {
      "cell_type": "markdown",
      "metadata": {
        "id": "XQwas6gme9Ts"
      },
      "source": [
        "Now we define the model..."
      ]
    },
    {
      "cell_type": "code",
      "execution_count": 30,
      "metadata": {
        "id": "1RShlI4_V_JU"
      },
      "outputs": [],
      "source": [
        "def create_bert_classification_model(bert_model,\n",
        "                                     num_train_layers=0,\n",
        "                                     hidden_size = 200,\n",
        "                                     dropout=0.3,\n",
        "                                     learning_rate=0.00005):\n",
        "    \"\"\"\n",
        "    Build a simple classification model with BERT. Use the Pooler Output for classification purposes\n",
        "    \"\"\"\n",
        "    if num_train_layers == 0:\n",
        "        # Freeze all layers of pre-trained BERT model\n",
        "        bert_model.trainable = False\n",
        "\n",
        "    elif num_train_layers == 12:\n",
        "        # Train all layers of the BERT model\n",
        "        bert_model.trainable = True\n",
        "\n",
        "    else:\n",
        "        # Restrict training to the num_train_layers outer transformer layers\n",
        "        retrain_layers = []\n",
        "\n",
        "        for retrain_layer_number in range(num_train_layers):\n",
        "\n",
        "            layer_code = '_' + str(11 - retrain_layer_number)\n",
        "            retrain_layers.append(layer_code)\n",
        "\n",
        "\n",
        "        print('retrain layers: ', retrain_layers)\n",
        "\n",
        "        for w in bert_model.weights:\n",
        "            if not any([x in w.name for x in retrain_layers]):\n",
        "                #print('freezing: ', w)\n",
        "                w._trainable = False\n",
        "\n",
        "    input_ids = tf.keras.layers.Input(shape=(MAX_SEQUENCE_LENGTH,), dtype=tf.int64, name='input_ids_layer')\n",
        "    token_type_ids = tf.keras.layers.Input(shape=(MAX_SEQUENCE_LENGTH,), dtype=tf.int64, name='token_type_ids_layer')\n",
        "    attention_mask = tf.keras.layers.Input(shape=(MAX_SEQUENCE_LENGTH,), dtype=tf.int64, name='attention_mask_layer')\n",
        "\n",
        "    bert_inputs = {'input_ids': input_ids,\n",
        "                   'token_type_ids': token_type_ids,\n",
        "                   'attention_mask': attention_mask}\n",
        "\n",
        "    bert_out = bert_model(bert_inputs)\n",
        "\n",
        "    pooler_token = bert_out[1]\n",
        "    #cls_token = bert_out[0][:, 0, :]\n",
        "\n",
        "    hidden = tf.keras.layers.Dense(hidden_size, activation='relu', name='hidden_layer')(pooler_token)\n",
        "\n",
        "\n",
        "    hidden = tf.keras.layers.Dropout(dropout)(hidden)\n",
        "\n",
        "\n",
        "    classification = tf.keras.layers.Dense(1, activation='sigmoid',name='classification_layer')(hidden)\n",
        "\n",
        "    classification_model = tf.keras.Model(inputs=[input_ids, token_type_ids, attention_mask], outputs=[classification])\n",
        "\n",
        "    classification_model.compile(optimizer=tf.keras.optimizers.Adam(learning_rate=learning_rate),\n",
        "                                 loss=tf.keras.losses.BinaryCrossentropy(from_logits=False),\n",
        "                                 metrics='accuracy')\n",
        "\n",
        "    return classification_model"
      ]
    },
    {
      "cell_type": "markdown",
      "source": [
        "We'll call our model now, via the function we just defined, but we'll freeze all of the layers to make the fine tuning go much faster"
      ],
      "metadata": {
        "id": "mBJISfYHDjh-"
      }
    },
    {
      "cell_type": "code",
      "execution_count": 31,
      "metadata": {
        "id": "PbFsTmdPuYx6"
      },
      "outputs": [],
      "source": [
        "#let's get a fresh instance of the bert_model -- good practice\n",
        "bert_model = TFBertModel.from_pretrained(checkpoint)\n",
        "bert_classification_model = create_bert_classification_model(bert_model, num_train_layers=0)"
      ]
    },
    {
      "cell_type": "code",
      "execution_count": 32,
      "metadata": {
        "colab": {
          "base_uri": "https://localhost:8080/"
        },
        "id": "2tk0Cs2GnoJZ",
        "outputId": "03e36569-5a65-4473-fd3b-08cedde5875a"
      },
      "outputs": [
        {
          "output_type": "stream",
          "name": "stdout",
          "text": [
            "Model: \"model\"\n",
            "__________________________________________________________________________________________________\n",
            " Layer (type)                Output Shape                 Param #   Connected to                  \n",
            "==================================================================================================\n",
            " attention_mask_layer (Inpu  [(None, 128)]                0         []                            \n",
            " tLayer)                                                                                          \n",
            "                                                                                                  \n",
            " input_ids_layer (InputLaye  [(None, 128)]                0         []                            \n",
            " r)                                                                                               \n",
            "                                                                                                  \n",
            " token_type_ids_layer (Inpu  [(None, 128)]                0         []                            \n",
            " tLayer)                                                                                          \n",
            "                                                                                                  \n",
            " tf_bert_model_1 (TFBertMod  TFBaseModelOutputWithPooli   1083102   ['attention_mask_layer[0][0]',\n",
            " el)                         ngAndCrossAttentions(last_   72         'input_ids_layer[0][0]',     \n",
            "                             hidden_state=(None, 128, 7              'token_type_ids_layer[0][0]']\n",
            "                             68),                                                                 \n",
            "                              pooler_output=(None, 768)                                           \n",
            "                             , past_key_values=None, hi                                           \n",
            "                             dden_states=None, attentio                                           \n",
            "                             ns=None, cross_attentions=                                           \n",
            "                             None)                                                                \n",
            "                                                                                                  \n",
            " hidden_layer (Dense)        (None, 200)                  153800    ['tf_bert_model_1[0][1]']     \n",
            "                                                                                                  \n",
            " dropout_74 (Dropout)        (None, 200)                  0         ['hidden_layer[0][0]']        \n",
            "                                                                                                  \n",
            " classification_layer (Dens  (None, 1)                    201       ['dropout_74[0][0]']          \n",
            " e)                                                                                               \n",
            "                                                                                                  \n",
            "==================================================================================================\n",
            "Total params: 108464273 (413.76 MB)\n",
            "Trainable params: 154001 (601.57 KB)\n",
            "Non-trainable params: 108310272 (413.17 MB)\n",
            "__________________________________________________________________________________________________\n"
          ]
        }
      ],
      "source": [
        "#confirm all layers are frozen\n",
        "bert_classification_model.summary()"
      ]
    },
    {
      "cell_type": "code",
      "source": [
        "keras.utils.plot_model(bert_classification_model, show_shapes=True, dpi=90)"
      ],
      "metadata": {
        "colab": {
          "base_uri": "https://localhost:8080/",
          "height": 397
        },
        "id": "e7cScu9pEzTZ",
        "outputId": "12bd38f8-967f-4256-d58d-262a943459a6"
      },
      "execution_count": 33,
      "outputs": [
        {
          "output_type": "execute_result",
          "data": {
            "image/png": "[encoded data removed]",
            "text/plain": [
              "<IPython.core.display.Image object>"
            ]
          },
          "metadata": {},
          "execution_count": 33
        }
      ]
    },
    {
      "cell_type": "markdown",
      "metadata": {
        "id": "KVxfWejquYx6"
      },
      "source": [
        "... and train it!  (This takes a few minutes; we might only be able to train for one epoch in the live session.)"
      ]
    },
    {
      "cell_type": "code",
      "execution_count": 34,
      "metadata": {
        "colab": {
          "base_uri": "https://localhost:8080/"
        },
        "id": "xTQnDuypuYyD",
        "outputId": "a2ef2496-fbdd-460e-d02e-4239c7734a21"
      },
      "outputs": [
        {
          "output_type": "stream",
          "name": "stdout",
          "text": [
            "Epoch 1/2\n",
            "625/625 [==============================] - 270s 416ms/step - loss: 0.6869 - accuracy: 0.5653 - val_loss: 0.6546 - val_accuracy: 0.6328\n",
            "Epoch 2/2\n",
            "625/625 [==============================] - 258s 414ms/step - loss: 0.6550 - accuracy: 0.6176 - val_loss: 0.6450 - val_accuracy: 0.6304\n"
          ]
        }
      ],
      "source": [
        "bert_classification_model_history = bert_classification_model.fit(\n",
        "    [x_train.input_ids, x_train.token_type_ids, x_train.attention_mask],\n",
        "    y_train,\n",
        "    validation_data=([x_test.input_ids, x_test.token_type_ids, x_test.attention_mask], y_test),\n",
        "    batch_size=32,\n",
        "    epochs=2\n",
        ")"
      ]
    },
    {
      "cell_type": "markdown",
      "metadata": {
        "id": "MbbrP-Tk4752"
      },
      "source": [
        "How well does it work? Can we do better? In the code above, we trained the extra hidden and classification layers that we added on top of BERT for our task. But we froze the BERT model (set trainable=False) so we're leaving the pre-trained BERT layers as-is and only our dense layer is learning.\n",
        "\n",
        "[Return to Top](#returnToTop)  \n",
        "<a id = 'classExercise'></a>\n",
        "\n",
        "### 4.1 Class Exercise\n",
        "\n",
        "In this notebook we're using a transformed version of the CLS token (called the pooler output) from the BERT model, which was pre-trained using the next sentence prediction task. It might not capture the useful context from the sentence that we need for our task. So we might need to unfreeze some of the pre-trained BERT layers and update their weights (fine-tune them) for our task.\n",
        "\n",
        "We'll use the parameter \"num_train_layers\" in the model building function above. What if we just set num_train_layers=4, to unfreeze only the top four layers of the BERT model? What if we set num_train_layers=12 to unfreeze all of the BERT transformer layers? Does some fine-tuning help? Does too much fine-tuning overfit?"
      ]
    },
    {
      "cell_type": "code",
      "execution_count": 35,
      "metadata": {
        "colab": {
          "base_uri": "https://localhost:8080/"
        },
        "id": "PZjhLV4XoEU9",
        "outputId": "034d6699-7341-44e7-d7d2-5010a31ebed2"
      },
      "outputs": [
        {
          "output_type": "stream",
          "name": "stdout",
          "text": [
            "retrain layers:  ['_11', '_10', '_9', '_8']\n",
            "Epoch 1/2\n"
          ]
        },
        {
          "output_type": "stream",
          "name": "stderr",
          "text": [
            "WARNING:tensorflow:Gradients do not exist for variables ['tf_bert_model_2/bert/embeddings/word_embeddings/weight:0', 'tf_bert_model_2/bert/embeddings/token_type_embeddings/embeddings:0', 'tf_bert_model_2/bert/embeddings/position_embeddings/embeddings:0', 'tf_bert_model_2/bert/embeddings/LayerNorm/gamma:0', 'tf_bert_model_2/bert/embeddings/LayerNorm/beta:0', 'tf_bert_model_2/bert/encoder/layer_._0/attention/self/query/kernel:0', 'tf_bert_model_2/bert/encoder/layer_._0/attention/self/query/bias:0', 'tf_bert_model_2/bert/encoder/layer_._0/attention/self/key/kernel:0', 'tf_bert_model_2/bert/encoder/layer_._0/attention/self/key/bias:0', 'tf_bert_model_2/bert/encoder/layer_._0/attention/self/value/kernel:0', 'tf_bert_model_2/bert/encoder/layer_._0/attention/self/value/bias:0', 'tf_bert_model_2/bert/encoder/layer_._0/attention/output/dense/kernel:0', 'tf_bert_model_2/bert/encoder/layer_._0/attention/output/dense/bias:0', 'tf_bert_model_2/bert/encoder/layer_._0/attention/output/LayerNorm/gamma:0', 'tf_bert_model_2/bert/encoder/layer_._0/attention/output/LayerNorm/beta:0', 'tf_bert_model_2/bert/encoder/layer_._0/intermediate/dense/kernel:0', 'tf_bert_model_2/bert/encoder/layer_._0/intermediate/dense/bias:0', 'tf_bert_model_2/bert/encoder/layer_._0/output/dense/kernel:0', 'tf_bert_model_2/bert/encoder/layer_._0/output/dense/bias:0', 'tf_bert_model_2/bert/encoder/layer_._0/output/LayerNorm/gamma:0', 'tf_bert_model_2/bert/encoder/layer_._0/output/LayerNorm/beta:0', 'tf_bert_model_2/bert/encoder/layer_._1/attention/self/query/kernel:0', 'tf_bert_model_2/bert/encoder/layer_._1/attention/self/query/bias:0', 'tf_bert_model_2/bert/encoder/layer_._1/attention/self/key/kernel:0', 'tf_bert_model_2/bert/encoder/layer_._1/attention/self/key/bias:0', 'tf_bert_model_2/bert/encoder/layer_._1/attention/self/value/kernel:0', 'tf_bert_model_2/bert/encoder/layer_._1/attention/self/value/bias:0', 'tf_bert_model_2/bert/encoder/layer_._1/attention/output/dense/kernel:0', 'tf_bert_model_2/bert/encoder/layer_._1/attention/output/dense/bias:0', 'tf_bert_model_2/bert/encoder/layer_._1/attention/output/LayerNorm/gamma:0', 'tf_bert_model_2/bert/encoder/layer_._1/attention/output/LayerNorm/beta:0', 'tf_bert_model_2/bert/encoder/layer_._1/intermediate/dense/kernel:0', 'tf_bert_model_2/bert/encoder/layer_._1/intermediate/dense/bias:0', 'tf_bert_model_2/bert/encoder/layer_._1/output/dense/kernel:0', 'tf_bert_model_2/bert/encoder/layer_._1/output/dense/bias:0', 'tf_bert_model_2/bert/encoder/layer_._1/output/LayerNorm/gamma:0', 'tf_bert_model_2/bert/encoder/layer_._1/output/LayerNorm/beta:0', 'tf_bert_model_2/bert/encoder/layer_._2/attention/self/query/kernel:0', 'tf_bert_model_2/bert/encoder/layer_._2/attention/self/query/bias:0', 'tf_bert_model_2/bert/encoder/layer_._2/attention/self/key/kernel:0', 'tf_bert_model_2/bert/encoder/layer_._2/attention/self/key/bias:0', 'tf_bert_model_2/bert/encoder/layer_._2/attention/self/value/kernel:0', 'tf_bert_model_2/bert/encoder/layer_._2/attention/self/value/bias:0', 'tf_bert_model_2/bert/encoder/layer_._2/attention/output/dense/kernel:0', 'tf_bert_model_2/bert/encoder/layer_._2/attention/output/dense/bias:0', 'tf_bert_model_2/bert/encoder/layer_._2/attention/output/LayerNorm/gamma:0', 'tf_bert_model_2/bert/encoder/layer_._2/attention/output/LayerNorm/beta:0', 'tf_bert_model_2/bert/encoder/layer_._2/intermediate/dense/kernel:0', 'tf_bert_model_2/bert/encoder/layer_._2/intermediate/dense/bias:0', 'tf_bert_model_2/bert/encoder/layer_._2/output/dense/kernel:0', 'tf_bert_model_2/bert/encoder/layer_._2/output/dense/bias:0', 'tf_bert_model_2/bert/encoder/layer_._2/output/LayerNorm/gamma:0', 'tf_bert_model_2/bert/encoder/layer_._2/output/LayerNorm/beta:0', 'tf_bert_model_2/bert/encoder/layer_._3/attention/self/query/kernel:0', 'tf_bert_model_2/bert/encoder/layer_._3/attention/self/query/bias:0', 'tf_bert_model_2/bert/encoder/layer_._3/attention/self/key/kernel:0', 'tf_bert_model_2/bert/encoder/layer_._3/attention/self/key/bias:0', 'tf_bert_model_2/bert/encoder/layer_._3/attention/self/value/kernel:0', 'tf_bert_model_2/bert/encoder/layer_._3/attention/self/value/bias:0', 'tf_bert_model_2/bert/encoder/layer_._3/attention/output/dense/kernel:0', 'tf_bert_model_2/bert/encoder/layer_._3/attention/output/dense/bias:0', 'tf_bert_model_2/bert/encoder/layer_._3/attention/output/LayerNorm/gamma:0', 'tf_bert_model_2/bert/encoder/layer_._3/attention/output/LayerNorm/beta:0', 'tf_bert_model_2/bert/encoder/layer_._3/intermediate/dense/kernel:0', 'tf_bert_model_2/bert/encoder/layer_._3/intermediate/dense/bias:0', 'tf_bert_model_2/bert/encoder/layer_._3/output/dense/kernel:0', 'tf_bert_model_2/bert/encoder/layer_._3/output/dense/bias:0', 'tf_bert_model_2/bert/encoder/layer_._3/output/LayerNorm/gamma:0', 'tf_bert_model_2/bert/encoder/layer_._3/output/LayerNorm/beta:0', 'tf_bert_model_2/bert/encoder/layer_._4/attention/self/query/kernel:0', 'tf_bert_model_2/bert/encoder/layer_._4/attention/self/query/bias:0', 'tf_bert_model_2/bert/encoder/layer_._4/attention/self/key/kernel:0', 'tf_bert_model_2/bert/encoder/layer_._4/attention/self/key/bias:0', 'tf_bert_model_2/bert/encoder/layer_._4/attention/self/value/kernel:0', 'tf_bert_model_2/bert/encoder/layer_._4/attention/self/value/bias:0', 'tf_bert_model_2/bert/encoder/layer_._4/attention/output/dense/kernel:0', 'tf_bert_model_2/bert/encoder/layer_._4/attention/output/dense/bias:0', 'tf_bert_model_2/bert/encoder/layer_._4/attention/output/LayerNorm/gamma:0', 'tf_bert_model_2/bert/encoder/layer_._4/attention/output/LayerNorm/beta:0', 'tf_bert_model_2/bert/encoder/layer_._4/intermediate/dense/kernel:0', 'tf_bert_model_2/bert/encoder/layer_._4/intermediate/dense/bias:0', 'tf_bert_model_2/bert/encoder/layer_._4/output/dense/kernel:0', 'tf_bert_model_2/bert/encoder/layer_._4/output/dense/bias:0', 'tf_bert_model_2/bert/encoder/layer_._4/output/LayerNorm/gamma:0', 'tf_bert_model_2/bert/encoder/layer_._4/output/LayerNorm/beta:0', 'tf_bert_model_2/bert/encoder/layer_._5/attention/self/query/kernel:0', 'tf_bert_model_2/bert/encoder/layer_._5/attention/self/query/bias:0', 'tf_bert_model_2/bert/encoder/layer_._5/attention/self/key/kernel:0', 'tf_bert_model_2/bert/encoder/layer_._5/attention/self/key/bias:0', 'tf_bert_model_2/bert/encoder/layer_._5/attention/self/value/kernel:0', 'tf_bert_model_2/bert/encoder/layer_._5/attention/self/value/bias:0', 'tf_bert_model_2/bert/encoder/layer_._5/attention/output/dense/kernel:0', 'tf_bert_model_2/bert/encoder/layer_._5/attention/output/dense/bias:0', 'tf_bert_model_2/bert/encoder/layer_._5/attention/output/LayerNorm/gamma:0', 'tf_bert_model_2/bert/encoder/layer_._5/attention/output/LayerNorm/beta:0', 'tf_bert_model_2/bert/encoder/layer_._5/intermediate/dense/kernel:0', 'tf_bert_model_2/bert/encoder/layer_._5/intermediate/dense/bias:0', 'tf_bert_model_2/bert/encoder/layer_._5/output/dense/kernel:0', 'tf_bert_model_2/bert/encoder/layer_._5/output/dense/bias:0', 'tf_bert_model_2/bert/encoder/layer_._5/output/LayerNorm/gamma:0', 'tf_bert_model_2/bert/encoder/layer_._5/output/LayerNorm/beta:0', 'tf_bert_model_2/bert/encoder/layer_._6/attention/self/query/kernel:0', 'tf_bert_model_2/bert/encoder/layer_._6/attention/self/query/bias:0', 'tf_bert_model_2/bert/encoder/layer_._6/attention/self/key/kernel:0', 'tf_bert_model_2/bert/encoder/layer_._6/attention/self/key/bias:0', 'tf_bert_model_2/bert/encoder/layer_._6/attention/self/value/kernel:0', 'tf_bert_model_2/bert/encoder/layer_._6/attention/self/value/bias:0', 'tf_bert_model_2/bert/encoder/layer_._6/attention/output/dense/kernel:0', 'tf_bert_model_2/bert/encoder/layer_._6/attention/output/dense/bias:0', 'tf_bert_model_2/bert/encoder/layer_._6/attention/output/LayerNorm/gamma:0', 'tf_bert_model_2/bert/encoder/layer_._6/attention/output/LayerNorm/beta:0', 'tf_bert_model_2/bert/encoder/layer_._6/intermediate/dense/kernel:0', 'tf_bert_model_2/bert/encoder/layer_._6/intermediate/dense/bias:0', 'tf_bert_model_2/bert/encoder/layer_._6/output/dense/kernel:0', 'tf_bert_model_2/bert/encoder/layer_._6/output/dense/bias:0', 'tf_bert_model_2/bert/encoder/layer_._6/output/LayerNorm/gamma:0', 'tf_bert_model_2/bert/encoder/layer_._6/output/LayerNorm/beta:0', 'tf_bert_model_2/bert/encoder/layer_._7/attention/self/query/kernel:0', 'tf_bert_model_2/bert/encoder/layer_._7/attention/self/query/bias:0', 'tf_bert_model_2/bert/encoder/layer_._7/attention/self/key/kernel:0', 'tf_bert_model_2/bert/encoder/layer_._7/attention/self/key/bias:0', 'tf_bert_model_2/bert/encoder/layer_._7/attention/self/value/kernel:0', 'tf_bert_model_2/bert/encoder/layer_._7/attention/self/value/bias:0', 'tf_bert_model_2/bert/encoder/layer_._7/attention/output/dense/kernel:0', 'tf_bert_model_2/bert/encoder/layer_._7/attention/output/dense/bias:0', 'tf_bert_model_2/bert/encoder/layer_._7/attention/output/LayerNorm/gamma:0', 'tf_bert_model_2/bert/encoder/layer_._7/attention/output/LayerNorm/beta:0', 'tf_bert_model_2/bert/encoder/layer_._7/intermediate/dense/kernel:0', 'tf_bert_model_2/bert/encoder/layer_._7/intermediate/dense/bias:0', 'tf_bert_model_2/bert/encoder/layer_._7/output/dense/kernel:0', 'tf_bert_model_2/bert/encoder/layer_._7/output/dense/bias:0', 'tf_bert_model_2/bert/encoder/layer_._7/output/LayerNorm/gamma:0', 'tf_bert_model_2/bert/encoder/layer_._7/output/LayerNorm/beta:0', 'tf_bert_model_2/bert/pooler/dense/kernel:0', 'tf_bert_model_2/bert/pooler/dense/bias:0'] when minimizing the loss. If you're using `model.compile()`, did you forget to provide a `loss` argument?\n",
            "WARNING:tensorflow:Gradients do not exist for variables ['tf_bert_model_2/bert/embeddings/word_embeddings/weight:0', 'tf_bert_model_2/bert/embeddings/token_type_embeddings/embeddings:0', 'tf_bert_model_2/bert/embeddings/position_embeddings/embeddings:0', 'tf_bert_model_2/bert/embeddings/LayerNorm/gamma:0', 'tf_bert_model_2/bert/embeddings/LayerNorm/beta:0', 'tf_bert_model_2/bert/encoder/layer_._0/attention/self/query/kernel:0', 'tf_bert_model_2/bert/encoder/layer_._0/attention/self/query/bias:0', 'tf_bert_model_2/bert/encoder/layer_._0/attention/self/key/kernel:0', 'tf_bert_model_2/bert/encoder/layer_._0/attention/self/key/bias:0', 'tf_bert_model_2/bert/encoder/layer_._0/attention/self/value/kernel:0', 'tf_bert_model_2/bert/encoder/layer_._0/attention/self/value/bias:0', 'tf_bert_model_2/bert/encoder/layer_._0/attention/output/dense/kernel:0', 'tf_bert_model_2/bert/encoder/layer_._0/attention/output/dense/bias:0', 'tf_bert_model_2/bert/encoder/layer_._0/attention/output/LayerNorm/gamma:0', 'tf_bert_model_2/bert/encoder/layer_._0/attention/output/LayerNorm/beta:0', 'tf_bert_model_2/bert/encoder/layer_._0/intermediate/dense/kernel:0', 'tf_bert_model_2/bert/encoder/layer_._0/intermediate/dense/bias:0', 'tf_bert_model_2/bert/encoder/layer_._0/output/dense/kernel:0', 'tf_bert_model_2/bert/encoder/layer_._0/output/dense/bias:0', 'tf_bert_model_2/bert/encoder/layer_._0/output/LayerNorm/gamma:0', 'tf_bert_model_2/bert/encoder/layer_._0/output/LayerNorm/beta:0', 'tf_bert_model_2/bert/encoder/layer_._1/attention/self/query/kernel:0', 'tf_bert_model_2/bert/encoder/layer_._1/attention/self/query/bias:0', 'tf_bert_model_2/bert/encoder/layer_._1/attention/self/key/kernel:0', 'tf_bert_model_2/bert/encoder/layer_._1/attention/self/key/bias:0', 'tf_bert_model_2/bert/encoder/layer_._1/attention/self/value/kernel:0', 'tf_bert_model_2/bert/encoder/layer_._1/attention/self/value/bias:0', 'tf_bert_model_2/bert/encoder/layer_._1/attention/output/dense/kernel:0', 'tf_bert_model_2/bert/encoder/layer_._1/attention/output/dense/bias:0', 'tf_bert_model_2/bert/encoder/layer_._1/attention/output/LayerNorm/gamma:0', 'tf_bert_model_2/bert/encoder/layer_._1/attention/output/LayerNorm/beta:0', 'tf_bert_model_2/bert/encoder/layer_._1/intermediate/dense/kernel:0', 'tf_bert_model_2/bert/encoder/layer_._1/intermediate/dense/bias:0', 'tf_bert_model_2/bert/encoder/layer_._1/output/dense/kernel:0', 'tf_bert_model_2/bert/encoder/layer_._1/output/dense/bias:0', 'tf_bert_model_2/bert/encoder/layer_._1/output/LayerNorm/gamma:0', 'tf_bert_model_2/bert/encoder/layer_._1/output/LayerNorm/beta:0', 'tf_bert_model_2/bert/encoder/layer_._2/attention/self/query/kernel:0', 'tf_bert_model_2/bert/encoder/layer_._2/attention/self/query/bias:0', 'tf_bert_model_2/bert/encoder/layer_._2/attention/self/key/kernel:0', 'tf_bert_model_2/bert/encoder/layer_._2/attention/self/key/bias:0', 'tf_bert_model_2/bert/encoder/layer_._2/attention/self/value/kernel:0', 'tf_bert_model_2/bert/encoder/layer_._2/attention/self/value/bias:0', 'tf_bert_model_2/bert/encoder/layer_._2/attention/output/dense/kernel:0', 'tf_bert_model_2/bert/encoder/layer_._2/attention/output/dense/bias:0', 'tf_bert_model_2/bert/encoder/layer_._2/attention/output/LayerNorm/gamma:0', 'tf_bert_model_2/bert/encoder/layer_._2/attention/output/LayerNorm/beta:0', 'tf_bert_model_2/bert/encoder/layer_._2/intermediate/dense/kernel:0', 'tf_bert_model_2/bert/encoder/layer_._2/intermediate/dense/bias:0', 'tf_bert_model_2/bert/encoder/layer_._2/output/dense/kernel:0', 'tf_bert_model_2/bert/encoder/layer_._2/output/dense/bias:0', 'tf_bert_model_2/bert/encoder/layer_._2/output/LayerNorm/gamma:0', 'tf_bert_model_2/bert/encoder/layer_._2/output/LayerNorm/beta:0', 'tf_bert_model_2/bert/encoder/layer_._3/attention/self/query/kernel:0', 'tf_bert_model_2/bert/encoder/layer_._3/attention/self/query/bias:0', 'tf_bert_model_2/bert/encoder/layer_._3/attention/self/key/kernel:0', 'tf_bert_model_2/bert/encoder/layer_._3/attention/self/key/bias:0', 'tf_bert_model_2/bert/encoder/layer_._3/attention/self/value/kernel:0', 'tf_bert_model_2/bert/encoder/layer_._3/attention/self/value/bias:0', 'tf_bert_model_2/bert/encoder/layer_._3/attention/output/dense/kernel:0', 'tf_bert_model_2/bert/encoder/layer_._3/attention/output/dense/bias:0', 'tf_bert_model_2/bert/encoder/layer_._3/attention/output/LayerNorm/gamma:0', 'tf_bert_model_2/bert/encoder/layer_._3/attention/output/LayerNorm/beta:0', 'tf_bert_model_2/bert/encoder/layer_._3/intermediate/dense/kernel:0', 'tf_bert_model_2/bert/encoder/layer_._3/intermediate/dense/bias:0', 'tf_bert_model_2/bert/encoder/layer_._3/output/dense/kernel:0', 'tf_bert_model_2/bert/encoder/layer_._3/output/dense/bias:0', 'tf_bert_model_2/bert/encoder/layer_._3/output/LayerNorm/gamma:0', 'tf_bert_model_2/bert/encoder/layer_._3/output/LayerNorm/beta:0', 'tf_bert_model_2/bert/encoder/layer_._4/attention/self/query/kernel:0', 'tf_bert_model_2/bert/encoder/layer_._4/attention/self/query/bias:0', 'tf_bert_model_2/bert/encoder/layer_._4/attention/self/key/kernel:0', 'tf_bert_model_2/bert/encoder/layer_._4/attention/self/key/bias:0', 'tf_bert_model_2/bert/encoder/layer_._4/attention/self/value/kernel:0', 'tf_bert_model_2/bert/encoder/layer_._4/attention/self/value/bias:0', 'tf_bert_model_2/bert/encoder/layer_._4/attention/output/dense/kernel:0', 'tf_bert_model_2/bert/encoder/layer_._4/attention/output/dense/bias:0', 'tf_bert_model_2/bert/encoder/layer_._4/attention/output/LayerNorm/gamma:0', 'tf_bert_model_2/bert/encoder/layer_._4/attention/output/LayerNorm/beta:0', 'tf_bert_model_2/bert/encoder/layer_._4/intermediate/dense/kernel:0', 'tf_bert_model_2/bert/encoder/layer_._4/intermediate/dense/bias:0', 'tf_bert_model_2/bert/encoder/layer_._4/output/dense/kernel:0', 'tf_bert_model_2/bert/encoder/layer_._4/output/dense/bias:0', 'tf_bert_model_2/bert/encoder/layer_._4/output/LayerNorm/gamma:0', 'tf_bert_model_2/bert/encoder/layer_._4/output/LayerNorm/beta:0', 'tf_bert_model_2/bert/encoder/layer_._5/attention/self/query/kernel:0', 'tf_bert_model_2/bert/encoder/layer_._5/attention/self/query/bias:0', 'tf_bert_model_2/bert/encoder/layer_._5/attention/self/key/kernel:0', 'tf_bert_model_2/bert/encoder/layer_._5/attention/self/key/bias:0', 'tf_bert_model_2/bert/encoder/layer_._5/attention/self/value/kernel:0', 'tf_bert_model_2/bert/encoder/layer_._5/attention/self/value/bias:0', 'tf_bert_model_2/bert/encoder/layer_._5/attention/output/dense/kernel:0', 'tf_bert_model_2/bert/encoder/layer_._5/attention/output/dense/bias:0', 'tf_bert_model_2/bert/encoder/layer_._5/attention/output/LayerNorm/gamma:0', 'tf_bert_model_2/bert/encoder/layer_._5/attention/output/LayerNorm/beta:0', 'tf_bert_model_2/bert/encoder/layer_._5/intermediate/dense/kernel:0', 'tf_bert_model_2/bert/encoder/layer_._5/intermediate/dense/bias:0', 'tf_bert_model_2/bert/encoder/layer_._5/output/dense/kernel:0', 'tf_bert_model_2/bert/encoder/layer_._5/output/dense/bias:0', 'tf_bert_model_2/bert/encoder/layer_._5/output/LayerNorm/gamma:0', 'tf_bert_model_2/bert/encoder/layer_._5/output/LayerNorm/beta:0', 'tf_bert_model_2/bert/encoder/layer_._6/attention/self/query/kernel:0', 'tf_bert_model_2/bert/encoder/layer_._6/attention/self/query/bias:0', 'tf_bert_model_2/bert/encoder/layer_._6/attention/self/key/kernel:0', 'tf_bert_model_2/bert/encoder/layer_._6/attention/self/key/bias:0', 'tf_bert_model_2/bert/encoder/layer_._6/attention/self/value/kernel:0', 'tf_bert_model_2/bert/encoder/layer_._6/attention/self/value/bias:0', 'tf_bert_model_2/bert/encoder/layer_._6/attention/output/dense/kernel:0', 'tf_bert_model_2/bert/encoder/layer_._6/attention/output/dense/bias:0', 'tf_bert_model_2/bert/encoder/layer_._6/attention/output/LayerNorm/gamma:0', 'tf_bert_model_2/bert/encoder/layer_._6/attention/output/LayerNorm/beta:0', 'tf_bert_model_2/bert/encoder/layer_._6/intermediate/dense/kernel:0', 'tf_bert_model_2/bert/encoder/layer_._6/intermediate/dense/bias:0', 'tf_bert_model_2/bert/encoder/layer_._6/output/dense/kernel:0', 'tf_bert_model_2/bert/encoder/layer_._6/output/dense/bias:0', 'tf_bert_model_2/bert/encoder/layer_._6/output/LayerNorm/gamma:0', 'tf_bert_model_2/bert/encoder/layer_._6/output/LayerNorm/beta:0', 'tf_bert_model_2/bert/encoder/layer_._7/attention/self/query/kernel:0', 'tf_bert_model_2/bert/encoder/layer_._7/attention/self/query/bias:0', 'tf_bert_model_2/bert/encoder/layer_._7/attention/self/key/kernel:0', 'tf_bert_model_2/bert/encoder/layer_._7/attention/self/key/bias:0', 'tf_bert_model_2/bert/encoder/layer_._7/attention/self/value/kernel:0', 'tf_bert_model_2/bert/encoder/layer_._7/attention/self/value/bias:0', 'tf_bert_model_2/bert/encoder/layer_._7/attention/output/dense/kernel:0', 'tf_bert_model_2/bert/encoder/layer_._7/attention/output/dense/bias:0', 'tf_bert_model_2/bert/encoder/layer_._7/attention/output/LayerNorm/gamma:0', 'tf_bert_model_2/bert/encoder/layer_._7/attention/output/LayerNorm/beta:0', 'tf_bert_model_2/bert/encoder/layer_._7/intermediate/dense/kernel:0', 'tf_bert_model_2/bert/encoder/layer_._7/intermediate/dense/bias:0', 'tf_bert_model_2/bert/encoder/layer_._7/output/dense/kernel:0', 'tf_bert_model_2/bert/encoder/layer_._7/output/dense/bias:0', 'tf_bert_model_2/bert/encoder/layer_._7/output/LayerNorm/gamma:0', 'tf_bert_model_2/bert/encoder/layer_._7/output/LayerNorm/beta:0', 'tf_bert_model_2/bert/pooler/dense/kernel:0', 'tf_bert_model_2/bert/pooler/dense/bias:0'] when minimizing the loss. If you're using `model.compile()`, did you forget to provide a `loss` argument?\n",
            "WARNING:tensorflow:Gradients do not exist for variables ['tf_bert_model_2/bert/embeddings/word_embeddings/weight:0', 'tf_bert_model_2/bert/embeddings/token_type_embeddings/embeddings:0', 'tf_bert_model_2/bert/embeddings/position_embeddings/embeddings:0', 'tf_bert_model_2/bert/embeddings/LayerNorm/gamma:0', 'tf_bert_model_2/bert/embeddings/LayerNorm/beta:0', 'tf_bert_model_2/bert/encoder/layer_._0/attention/self/query/kernel:0', 'tf_bert_model_2/bert/encoder/layer_._0/attention/self/query/bias:0', 'tf_bert_model_2/bert/encoder/layer_._0/attention/self/key/kernel:0', 'tf_bert_model_2/bert/encoder/layer_._0/attention/self/key/bias:0', 'tf_bert_model_2/bert/encoder/layer_._0/attention/self/value/kernel:0', 'tf_bert_model_2/bert/encoder/layer_._0/attention/self/value/bias:0', 'tf_bert_model_2/bert/encoder/layer_._0/attention/output/dense/kernel:0', 'tf_bert_model_2/bert/encoder/layer_._0/attention/output/dense/bias:0', 'tf_bert_model_2/bert/encoder/layer_._0/attention/output/LayerNorm/gamma:0', 'tf_bert_model_2/bert/encoder/layer_._0/attention/output/LayerNorm/beta:0', 'tf_bert_model_2/bert/encoder/layer_._0/intermediate/dense/kernel:0', 'tf_bert_model_2/bert/encoder/layer_._0/intermediate/dense/bias:0', 'tf_bert_model_2/bert/encoder/layer_._0/output/dense/kernel:0', 'tf_bert_model_2/bert/encoder/layer_._0/output/dense/bias:0', 'tf_bert_model_2/bert/encoder/layer_._0/output/LayerNorm/gamma:0', 'tf_bert_model_2/bert/encoder/layer_._0/output/LayerNorm/beta:0', 'tf_bert_model_2/bert/encoder/layer_._1/attention/self/query/kernel:0', 'tf_bert_model_2/bert/encoder/layer_._1/attention/self/query/bias:0', 'tf_bert_model_2/bert/encoder/layer_._1/attention/self/key/kernel:0', 'tf_bert_model_2/bert/encoder/layer_._1/attention/self/key/bias:0', 'tf_bert_model_2/bert/encoder/layer_._1/attention/self/value/kernel:0', 'tf_bert_model_2/bert/encoder/layer_._1/attention/self/value/bias:0', 'tf_bert_model_2/bert/encoder/layer_._1/attention/output/dense/kernel:0', 'tf_bert_model_2/bert/encoder/layer_._1/attention/output/dense/bias:0', 'tf_bert_model_2/bert/encoder/layer_._1/attention/output/LayerNorm/gamma:0', 'tf_bert_model_2/bert/encoder/layer_._1/attention/output/LayerNorm/beta:0', 'tf_bert_model_2/bert/encoder/layer_._1/intermediate/dense/kernel:0', 'tf_bert_model_2/bert/encoder/layer_._1/intermediate/dense/bias:0', 'tf_bert_model_2/bert/encoder/layer_._1/output/dense/kernel:0', 'tf_bert_model_2/bert/encoder/layer_._1/output/dense/bias:0', 'tf_bert_model_2/bert/encoder/layer_._1/output/LayerNorm/gamma:0', 'tf_bert_model_2/bert/encoder/layer_._1/output/LayerNorm/beta:0', 'tf_bert_model_2/bert/encoder/layer_._2/attention/self/query/kernel:0', 'tf_bert_model_2/bert/encoder/layer_._2/attention/self/query/bias:0', 'tf_bert_model_2/bert/encoder/layer_._2/attention/self/key/kernel:0', 'tf_bert_model_2/bert/encoder/layer_._2/attention/self/key/bias:0', 'tf_bert_model_2/bert/encoder/layer_._2/attention/self/value/kernel:0', 'tf_bert_model_2/bert/encoder/layer_._2/attention/self/value/bias:0', 'tf_bert_model_2/bert/encoder/layer_._2/attention/output/dense/kernel:0', 'tf_bert_model_2/bert/encoder/layer_._2/attention/output/dense/bias:0', 'tf_bert_model_2/bert/encoder/layer_._2/attention/output/LayerNorm/gamma:0', 'tf_bert_model_2/bert/encoder/layer_._2/attention/output/LayerNorm/beta:0', 'tf_bert_model_2/bert/encoder/layer_._2/intermediate/dense/kernel:0', 'tf_bert_model_2/bert/encoder/layer_._2/intermediate/dense/bias:0', 'tf_bert_model_2/bert/encoder/layer_._2/output/dense/kernel:0', 'tf_bert_model_2/bert/encoder/layer_._2/output/dense/bias:0', 'tf_bert_model_2/bert/encoder/layer_._2/output/LayerNorm/gamma:0', 'tf_bert_model_2/bert/encoder/layer_._2/output/LayerNorm/beta:0', 'tf_bert_model_2/bert/encoder/layer_._3/attention/self/query/kernel:0', 'tf_bert_model_2/bert/encoder/layer_._3/attention/self/query/bias:0', 'tf_bert_model_2/bert/encoder/layer_._3/attention/self/key/kernel:0', 'tf_bert_model_2/bert/encoder/layer_._3/attention/self/key/bias:0', 'tf_bert_model_2/bert/encoder/layer_._3/attention/self/value/kernel:0', 'tf_bert_model_2/bert/encoder/layer_._3/attention/self/value/bias:0', 'tf_bert_model_2/bert/encoder/layer_._3/attention/output/dense/kernel:0', 'tf_bert_model_2/bert/encoder/layer_._3/attention/output/dense/bias:0', 'tf_bert_model_2/bert/encoder/layer_._3/attention/output/LayerNorm/gamma:0', 'tf_bert_model_2/bert/encoder/layer_._3/attention/output/LayerNorm/beta:0', 'tf_bert_model_2/bert/encoder/layer_._3/intermediate/dense/kernel:0', 'tf_bert_model_2/bert/encoder/layer_._3/intermediate/dense/bias:0', 'tf_bert_model_2/bert/encoder/layer_._3/output/dense/kernel:0', 'tf_bert_model_2/bert/encoder/layer_._3/output/dense/bias:0', 'tf_bert_model_2/bert/encoder/layer_._3/output/LayerNorm/gamma:0', 'tf_bert_model_2/bert/encoder/layer_._3/output/LayerNorm/beta:0', 'tf_bert_model_2/bert/encoder/layer_._4/attention/self/query/kernel:0', 'tf_bert_model_2/bert/encoder/layer_._4/attention/self/query/bias:0', 'tf_bert_model_2/bert/encoder/layer_._4/attention/self/key/kernel:0', 'tf_bert_model_2/bert/encoder/layer_._4/attention/self/key/bias:0', 'tf_bert_model_2/bert/encoder/layer_._4/attention/self/value/kernel:0', 'tf_bert_model_2/bert/encoder/layer_._4/attention/self/value/bias:0', 'tf_bert_model_2/bert/encoder/layer_._4/attention/output/dense/kernel:0', 'tf_bert_model_2/bert/encoder/layer_._4/attention/output/dense/bias:0', 'tf_bert_model_2/bert/encoder/layer_._4/attention/output/LayerNorm/gamma:0', 'tf_bert_model_2/bert/encoder/layer_._4/attention/output/LayerNorm/beta:0', 'tf_bert_model_2/bert/encoder/layer_._4/intermediate/dense/kernel:0', 'tf_bert_model_2/bert/encoder/layer_._4/intermediate/dense/bias:0', 'tf_bert_model_2/bert/encoder/layer_._4/output/dense/kernel:0', 'tf_bert_model_2/bert/encoder/layer_._4/output/dense/bias:0', 'tf_bert_model_2/bert/encoder/layer_._4/output/LayerNorm/gamma:0', 'tf_bert_model_2/bert/encoder/layer_._4/output/LayerNorm/beta:0', 'tf_bert_model_2/bert/encoder/layer_._5/attention/self/query/kernel:0', 'tf_bert_model_2/bert/encoder/layer_._5/attention/self/query/bias:0', 'tf_bert_model_2/bert/encoder/layer_._5/attention/self/key/kernel:0', 'tf_bert_model_2/bert/encoder/layer_._5/attention/self/key/bias:0', 'tf_bert_model_2/bert/encoder/layer_._5/attention/self/value/kernel:0', 'tf_bert_model_2/bert/encoder/layer_._5/attention/self/value/bias:0', 'tf_bert_model_2/bert/encoder/layer_._5/attention/output/dense/kernel:0', 'tf_bert_model_2/bert/encoder/layer_._5/attention/output/dense/bias:0', 'tf_bert_model_2/bert/encoder/layer_._5/attention/output/LayerNorm/gamma:0', 'tf_bert_model_2/bert/encoder/layer_._5/attention/output/LayerNorm/beta:0', 'tf_bert_model_2/bert/encoder/layer_._5/intermediate/dense/kernel:0', 'tf_bert_model_2/bert/encoder/layer_._5/intermediate/dense/bias:0', 'tf_bert_model_2/bert/encoder/layer_._5/output/dense/kernel:0', 'tf_bert_model_2/bert/encoder/layer_._5/output/dense/bias:0', 'tf_bert_model_2/bert/encoder/layer_._5/output/LayerNorm/gamma:0', 'tf_bert_model_2/bert/encoder/layer_._5/output/LayerNorm/beta:0', 'tf_bert_model_2/bert/encoder/layer_._6/attention/self/query/kernel:0', 'tf_bert_model_2/bert/encoder/layer_._6/attention/self/query/bias:0', 'tf_bert_model_2/bert/encoder/layer_._6/attention/self/key/kernel:0', 'tf_bert_model_2/bert/encoder/layer_._6/attention/self/key/bias:0', 'tf_bert_model_2/bert/encoder/layer_._6/attention/self/value/kernel:0', 'tf_bert_model_2/bert/encoder/layer_._6/attention/self/value/bias:0', 'tf_bert_model_2/bert/encoder/layer_._6/attention/output/dense/kernel:0', 'tf_bert_model_2/bert/encoder/layer_._6/attention/output/dense/bias:0', 'tf_bert_model_2/bert/encoder/layer_._6/attention/output/LayerNorm/gamma:0', 'tf_bert_model_2/bert/encoder/layer_._6/attention/output/LayerNorm/beta:0', 'tf_bert_model_2/bert/encoder/layer_._6/intermediate/dense/kernel:0', 'tf_bert_model_2/bert/encoder/layer_._6/intermediate/dense/bias:0', 'tf_bert_model_2/bert/encoder/layer_._6/output/dense/kernel:0', 'tf_bert_model_2/bert/encoder/layer_._6/output/dense/bias:0', 'tf_bert_model_2/bert/encoder/layer_._6/output/LayerNorm/gamma:0', 'tf_bert_model_2/bert/encoder/layer_._6/output/LayerNorm/beta:0', 'tf_bert_model_2/bert/encoder/layer_._7/attention/self/query/kernel:0', 'tf_bert_model_2/bert/encoder/layer_._7/attention/self/query/bias:0', 'tf_bert_model_2/bert/encoder/layer_._7/attention/self/key/kernel:0', 'tf_bert_model_2/bert/encoder/layer_._7/attention/self/key/bias:0', 'tf_bert_model_2/bert/encoder/layer_._7/attention/self/value/kernel:0', 'tf_bert_model_2/bert/encoder/layer_._7/attention/self/value/bias:0', 'tf_bert_model_2/bert/encoder/layer_._7/attention/output/dense/kernel:0', 'tf_bert_model_2/bert/encoder/layer_._7/attention/output/dense/bias:0', 'tf_bert_model_2/bert/encoder/layer_._7/attention/output/LayerNorm/gamma:0', 'tf_bert_model_2/bert/encoder/layer_._7/attention/output/LayerNorm/beta:0', 'tf_bert_model_2/bert/encoder/layer_._7/intermediate/dense/kernel:0', 'tf_bert_model_2/bert/encoder/layer_._7/intermediate/dense/bias:0', 'tf_bert_model_2/bert/encoder/layer_._7/output/dense/kernel:0', 'tf_bert_model_2/bert/encoder/layer_._7/output/dense/bias:0', 'tf_bert_model_2/bert/encoder/layer_._7/output/LayerNorm/gamma:0', 'tf_bert_model_2/bert/encoder/layer_._7/output/LayerNorm/beta:0', 'tf_bert_model_2/bert/pooler/dense/kernel:0', 'tf_bert_model_2/bert/pooler/dense/bias:0'] when minimizing the loss. If you're using `model.compile()`, did you forget to provide a `loss` argument?\n",
            "WARNING:tensorflow:Gradients do not exist for variables ['tf_bert_model_2/bert/embeddings/word_embeddings/weight:0', 'tf_bert_model_2/bert/embeddings/token_type_embeddings/embeddings:0', 'tf_bert_model_2/bert/embeddings/position_embeddings/embeddings:0', 'tf_bert_model_2/bert/embeddings/LayerNorm/gamma:0', 'tf_bert_model_2/bert/embeddings/LayerNorm/beta:0', 'tf_bert_model_2/bert/encoder/layer_._0/attention/self/query/kernel:0', 'tf_bert_model_2/bert/encoder/layer_._0/attention/self/query/bias:0', 'tf_bert_model_2/bert/encoder/layer_._0/attention/self/key/kernel:0', 'tf_bert_model_2/bert/encoder/layer_._0/attention/self/key/bias:0', 'tf_bert_model_2/bert/encoder/layer_._0/attention/self/value/kernel:0', 'tf_bert_model_2/bert/encoder/layer_._0/attention/self/value/bias:0', 'tf_bert_model_2/bert/encoder/layer_._0/attention/output/dense/kernel:0', 'tf_bert_model_2/bert/encoder/layer_._0/attention/output/dense/bias:0', 'tf_bert_model_2/bert/encoder/layer_._0/attention/output/LayerNorm/gamma:0', 'tf_bert_model_2/bert/encoder/layer_._0/attention/output/LayerNorm/beta:0', 'tf_bert_model_2/bert/encoder/layer_._0/intermediate/dense/kernel:0', 'tf_bert_model_2/bert/encoder/layer_._0/intermediate/dense/bias:0', 'tf_bert_model_2/bert/encoder/layer_._0/output/dense/kernel:0', 'tf_bert_model_2/bert/encoder/layer_._0/output/dense/bias:0', 'tf_bert_model_2/bert/encoder/layer_._0/output/LayerNorm/gamma:0', 'tf_bert_model_2/bert/encoder/layer_._0/output/LayerNorm/beta:0', 'tf_bert_model_2/bert/encoder/layer_._1/attention/self/query/kernel:0', 'tf_bert_model_2/bert/encoder/layer_._1/attention/self/query/bias:0', 'tf_bert_model_2/bert/encoder/layer_._1/attention/self/key/kernel:0', 'tf_bert_model_2/bert/encoder/layer_._1/attention/self/key/bias:0', 'tf_bert_model_2/bert/encoder/layer_._1/attention/self/value/kernel:0', 'tf_bert_model_2/bert/encoder/layer_._1/attention/self/value/bias:0', 'tf_bert_model_2/bert/encoder/layer_._1/attention/output/dense/kernel:0', 'tf_bert_model_2/bert/encoder/layer_._1/attention/output/dense/bias:0', 'tf_bert_model_2/bert/encoder/layer_._1/attention/output/LayerNorm/gamma:0', 'tf_bert_model_2/bert/encoder/layer_._1/attention/output/LayerNorm/beta:0', 'tf_bert_model_2/bert/encoder/layer_._1/intermediate/dense/kernel:0', 'tf_bert_model_2/bert/encoder/layer_._1/intermediate/dense/bias:0', 'tf_bert_model_2/bert/encoder/layer_._1/output/dense/kernel:0', 'tf_bert_model_2/bert/encoder/layer_._1/output/dense/bias:0', 'tf_bert_model_2/bert/encoder/layer_._1/output/LayerNorm/gamma:0', 'tf_bert_model_2/bert/encoder/layer_._1/output/LayerNorm/beta:0', 'tf_bert_model_2/bert/encoder/layer_._2/attention/self/query/kernel:0', 'tf_bert_model_2/bert/encoder/layer_._2/attention/self/query/bias:0', 'tf_bert_model_2/bert/encoder/layer_._2/attention/self/key/kernel:0', 'tf_bert_model_2/bert/encoder/layer_._2/attention/self/key/bias:0', 'tf_bert_model_2/bert/encoder/layer_._2/attention/self/value/kernel:0', 'tf_bert_model_2/bert/encoder/layer_._2/attention/self/value/bias:0', 'tf_bert_model_2/bert/encoder/layer_._2/attention/output/dense/kernel:0', 'tf_bert_model_2/bert/encoder/layer_._2/attention/output/dense/bias:0', 'tf_bert_model_2/bert/encoder/layer_._2/attention/output/LayerNorm/gamma:0', 'tf_bert_model_2/bert/encoder/layer_._2/attention/output/LayerNorm/beta:0', 'tf_bert_model_2/bert/encoder/layer_._2/intermediate/dense/kernel:0', 'tf_bert_model_2/bert/encoder/layer_._2/intermediate/dense/bias:0', 'tf_bert_model_2/bert/encoder/layer_._2/output/dense/kernel:0', 'tf_bert_model_2/bert/encoder/layer_._2/output/dense/bias:0', 'tf_bert_model_2/bert/encoder/layer_._2/output/LayerNorm/gamma:0', 'tf_bert_model_2/bert/encoder/layer_._2/output/LayerNorm/beta:0', 'tf_bert_model_2/bert/encoder/layer_._3/attention/self/query/kernel:0', 'tf_bert_model_2/bert/encoder/layer_._3/attention/self/query/bias:0', 'tf_bert_model_2/bert/encoder/layer_._3/attention/self/key/kernel:0', 'tf_bert_model_2/bert/encoder/layer_._3/attention/self/key/bias:0', 'tf_bert_model_2/bert/encoder/layer_._3/attention/self/value/kernel:0', 'tf_bert_model_2/bert/encoder/layer_._3/attention/self/value/bias:0', 'tf_bert_model_2/bert/encoder/layer_._3/attention/output/dense/kernel:0', 'tf_bert_model_2/bert/encoder/layer_._3/attention/output/dense/bias:0', 'tf_bert_model_2/bert/encoder/layer_._3/attention/output/LayerNorm/gamma:0', 'tf_bert_model_2/bert/encoder/layer_._3/attention/output/LayerNorm/beta:0', 'tf_bert_model_2/bert/encoder/layer_._3/intermediate/dense/kernel:0', 'tf_bert_model_2/bert/encoder/layer_._3/intermediate/dense/bias:0', 'tf_bert_model_2/bert/encoder/layer_._3/output/dense/kernel:0', 'tf_bert_model_2/bert/encoder/layer_._3/output/dense/bias:0', 'tf_bert_model_2/bert/encoder/layer_._3/output/LayerNorm/gamma:0', 'tf_bert_model_2/bert/encoder/layer_._3/output/LayerNorm/beta:0', 'tf_bert_model_2/bert/encoder/layer_._4/attention/self/query/kernel:0', 'tf_bert_model_2/bert/encoder/layer_._4/attention/self/query/bias:0', 'tf_bert_model_2/bert/encoder/layer_._4/attention/self/key/kernel:0', 'tf_bert_model_2/bert/encoder/layer_._4/attention/self/key/bias:0', 'tf_bert_model_2/bert/encoder/layer_._4/attention/self/value/kernel:0', 'tf_bert_model_2/bert/encoder/layer_._4/attention/self/value/bias:0', 'tf_bert_model_2/bert/encoder/layer_._4/attention/output/dense/kernel:0', 'tf_bert_model_2/bert/encoder/layer_._4/attention/output/dense/bias:0', 'tf_bert_model_2/bert/encoder/layer_._4/attention/output/LayerNorm/gamma:0', 'tf_bert_model_2/bert/encoder/layer_._4/attention/output/LayerNorm/beta:0', 'tf_bert_model_2/bert/encoder/layer_._4/intermediate/dense/kernel:0', 'tf_bert_model_2/bert/encoder/layer_._4/intermediate/dense/bias:0', 'tf_bert_model_2/bert/encoder/layer_._4/output/dense/kernel:0', 'tf_bert_model_2/bert/encoder/layer_._4/output/dense/bias:0', 'tf_bert_model_2/bert/encoder/layer_._4/output/LayerNorm/gamma:0', 'tf_bert_model_2/bert/encoder/layer_._4/output/LayerNorm/beta:0', 'tf_bert_model_2/bert/encoder/layer_._5/attention/self/query/kernel:0', 'tf_bert_model_2/bert/encoder/layer_._5/attention/self/query/bias:0', 'tf_bert_model_2/bert/encoder/layer_._5/attention/self/key/kernel:0', 'tf_bert_model_2/bert/encoder/layer_._5/attention/self/key/bias:0', 'tf_bert_model_2/bert/encoder/layer_._5/attention/self/value/kernel:0', 'tf_bert_model_2/bert/encoder/layer_._5/attention/self/value/bias:0', 'tf_bert_model_2/bert/encoder/layer_._5/attention/output/dense/kernel:0', 'tf_bert_model_2/bert/encoder/layer_._5/attention/output/dense/bias:0', 'tf_bert_model_2/bert/encoder/layer_._5/attention/output/LayerNorm/gamma:0', 'tf_bert_model_2/bert/encoder/layer_._5/attention/output/LayerNorm/beta:0', 'tf_bert_model_2/bert/encoder/layer_._5/intermediate/dense/kernel:0', 'tf_bert_model_2/bert/encoder/layer_._5/intermediate/dense/bias:0', 'tf_bert_model_2/bert/encoder/layer_._5/output/dense/kernel:0', 'tf_bert_model_2/bert/encoder/layer_._5/output/dense/bias:0', 'tf_bert_model_2/bert/encoder/layer_._5/output/LayerNorm/gamma:0', 'tf_bert_model_2/bert/encoder/layer_._5/output/LayerNorm/beta:0', 'tf_bert_model_2/bert/encoder/layer_._6/attention/self/query/kernel:0', 'tf_bert_model_2/bert/encoder/layer_._6/attention/self/query/bias:0', 'tf_bert_model_2/bert/encoder/layer_._6/attention/self/key/kernel:0', 'tf_bert_model_2/bert/encoder/layer_._6/attention/self/key/bias:0', 'tf_bert_model_2/bert/encoder/layer_._6/attention/self/value/kernel:0', 'tf_bert_model_2/bert/encoder/layer_._6/attention/self/value/bias:0', 'tf_bert_model_2/bert/encoder/layer_._6/attention/output/dense/kernel:0', 'tf_bert_model_2/bert/encoder/layer_._6/attention/output/dense/bias:0', 'tf_bert_model_2/bert/encoder/layer_._6/attention/output/LayerNorm/gamma:0', 'tf_bert_model_2/bert/encoder/layer_._6/attention/output/LayerNorm/beta:0', 'tf_bert_model_2/bert/encoder/layer_._6/intermediate/dense/kernel:0', 'tf_bert_model_2/bert/encoder/layer_._6/intermediate/dense/bias:0', 'tf_bert_model_2/bert/encoder/layer_._6/output/dense/kernel:0', 'tf_bert_model_2/bert/encoder/layer_._6/output/dense/bias:0', 'tf_bert_model_2/bert/encoder/layer_._6/output/LayerNorm/gamma:0', 'tf_bert_model_2/bert/encoder/layer_._6/output/LayerNorm/beta:0', 'tf_bert_model_2/bert/encoder/layer_._7/attention/self/query/kernel:0', 'tf_bert_model_2/bert/encoder/layer_._7/attention/self/query/bias:0', 'tf_bert_model_2/bert/encoder/layer_._7/attention/self/key/kernel:0', 'tf_bert_model_2/bert/encoder/layer_._7/attention/self/key/bias:0', 'tf_bert_model_2/bert/encoder/layer_._7/attention/self/value/kernel:0', 'tf_bert_model_2/bert/encoder/layer_._7/attention/self/value/bias:0', 'tf_bert_model_2/bert/encoder/layer_._7/attention/output/dense/kernel:0', 'tf_bert_model_2/bert/encoder/layer_._7/attention/output/dense/bias:0', 'tf_bert_model_2/bert/encoder/layer_._7/attention/output/LayerNorm/gamma:0', 'tf_bert_model_2/bert/encoder/layer_._7/attention/output/LayerNorm/beta:0', 'tf_bert_model_2/bert/encoder/layer_._7/intermediate/dense/kernel:0', 'tf_bert_model_2/bert/encoder/layer_._7/intermediate/dense/bias:0', 'tf_bert_model_2/bert/encoder/layer_._7/output/dense/kernel:0', 'tf_bert_model_2/bert/encoder/layer_._7/output/dense/bias:0', 'tf_bert_model_2/bert/encoder/layer_._7/output/LayerNorm/gamma:0', 'tf_bert_model_2/bert/encoder/layer_._7/output/LayerNorm/beta:0', 'tf_bert_model_2/bert/pooler/dense/kernel:0', 'tf_bert_model_2/bert/pooler/dense/bias:0'] when minimizing the loss. If you're using `model.compile()`, did you forget to provide a `loss` argument?\n"
          ]
        },
        {
          "output_type": "stream",
          "name": "stdout",
          "text": [
            "625/625 [==============================] - 376s 579ms/step - loss: 0.3730 - accuracy: 0.8325 - val_loss: 0.3053 - val_accuracy: 0.8670\n",
            "Epoch 2/2\n",
            "625/625 [==============================] - 361s 577ms/step - loss: 0.2810 - accuracy: 0.8801 - val_loss: 0.3338 - val_accuracy: 0.8598\n"
          ]
        }
      ],
      "source": [
        "#let's get a fresh instance of the bert_model -- good practice\n",
        "bert_model = TFBertModel.from_pretrained(checkpoint)\n",
        "bert_classification_model = create_bert_classification_model(bert_model, num_train_layers=4)\n",
        "\n",
        "bert_classification_model_history = bert_classification_model.fit(\n",
        "    [x_train.input_ids, x_train.token_type_ids, x_train.attention_mask],\n",
        "    y_train,\n",
        "    validation_data=([x_test.input_ids, x_test.token_type_ids, x_test.attention_mask], y_test),\n",
        "    batch_size=32,\n",
        "    epochs=2\n",
        ")"
      ]
    },
    {
      "cell_type": "markdown",
      "source": [
        "Now let's allow all of the layers to be modified as part of fitting the model."
      ],
      "metadata": {
        "id": "Xp5rgAQRF9ii"
      }
    },
    {
      "cell_type": "code",
      "source": [
        "#let's get a fresh instance of the bert_model -- good practice\n",
        "bert_model = TFBertModel.from_pretrained(checkpoint)\n",
        "bert_classification_model = create_bert_classification_model(bert_model, num_train_layers=12)"
      ],
      "metadata": {
        "id": "eWaiu0ZAtxF8"
      },
      "execution_count": 36,
      "outputs": []
    },
    {
      "cell_type": "code",
      "source": [
        "bert_classification_model.summary()"
      ],
      "metadata": {
        "colab": {
          "base_uri": "https://localhost:8080/"
        },
        "id": "vhH5ThT9uBKq",
        "outputId": "90a2475f-3119-456b-e174-56b4efee5064"
      },
      "execution_count": 37,
      "outputs": [
        {
          "output_type": "stream",
          "name": "stdout",
          "text": [
            "Model: \"model_2\"\n",
            "__________________________________________________________________________________________________\n",
            " Layer (type)                Output Shape                 Param #   Connected to                  \n",
            "==================================================================================================\n",
            " attention_mask_layer (Inpu  [(None, 128)]                0         []                            \n",
            " tLayer)                                                                                          \n",
            "                                                                                                  \n",
            " input_ids_layer (InputLaye  [(None, 128)]                0         []                            \n",
            " r)                                                                                               \n",
            "                                                                                                  \n",
            " token_type_ids_layer (Inpu  [(None, 128)]                0         []                            \n",
            " tLayer)                                                                                          \n",
            "                                                                                                  \n",
            " tf_bert_model_3 (TFBertMod  TFBaseModelOutputWithPooli   1083102   ['attention_mask_layer[0][0]',\n",
            " el)                         ngAndCrossAttentions(last_   72         'input_ids_layer[0][0]',     \n",
            "                             hidden_state=(None, 128, 7              'token_type_ids_layer[0][0]']\n",
            "                             68),                                                                 \n",
            "                              pooler_output=(None, 768)                                           \n",
            "                             , past_key_values=None, hi                                           \n",
            "                             dden_states=None, attentio                                           \n",
            "                             ns=None, cross_attentions=                                           \n",
            "                             None)                                                                \n",
            "                                                                                                  \n",
            " hidden_layer (Dense)        (None, 200)                  153800    ['tf_bert_model_3[0][1]']     \n",
            "                                                                                                  \n",
            " dropout_150 (Dropout)       (None, 200)                  0         ['hidden_layer[0][0]']        \n",
            "                                                                                                  \n",
            " classification_layer (Dens  (None, 1)                    201       ['dropout_150[0][0]']         \n",
            " e)                                                                                               \n",
            "                                                                                                  \n",
            "==================================================================================================\n",
            "Total params: 108464273 (413.76 MB)\n",
            "Trainable params: 108464273 (413.76 MB)\n",
            "Non-trainable params: 0 (0.00 Byte)\n",
            "__________________________________________________________________________________________________\n"
          ]
        }
      ]
    },
    {
      "cell_type": "code",
      "execution_count": 38,
      "metadata": {
        "colab": {
          "base_uri": "https://localhost:8080/"
        },
        "id": "lxE7W7hdoEYA",
        "outputId": "d82b5599-0de5-4202-ccf9-bfccb1584c59"
      },
      "outputs": [
        {
          "output_type": "stream",
          "name": "stdout",
          "text": [
            "Epoch 1/2\n",
            "625/625 [==============================] - 627s 943ms/step - loss: 0.3817 - accuracy: 0.8254 - val_loss: 0.3224 - val_accuracy: 0.8646\n",
            "Epoch 2/2\n",
            "625/625 [==============================] - 586s 938ms/step - loss: 0.2258 - accuracy: 0.9097 - val_loss: 0.3068 - val_accuracy: 0.8744\n"
          ]
        }
      ],
      "source": [
        "bert_classification_model_history = bert_classification_model.fit(\n",
        "    [x_train.input_ids, x_train.token_type_ids, x_train.attention_mask],\n",
        "    y_train,\n",
        "    validation_data=([x_test.input_ids, x_test.token_type_ids, x_test.attention_mask], y_test),\n",
        "    batch_size=32,\n",
        "    epochs=2\n",
        ")"
      ]
    },
    {
      "cell_type": "markdown",
      "metadata": {
        "id": "NXXwtueHhILN"
      },
      "source": [
        "And that is one way to do text classification with BERT. There are multiple ways (see Assignment 2.)"
      ]
    }
  ],
  "metadata": {
    "accelerator": "GPU",
    "colab": {
      "provenance": []
    },
    "kernelspec": {
      "display_name": "Python 3",
      "language": "python",
      "name": "python3"
    },
    "language_info": {
      "codemirror_mode": {
        "name": "ipython",
        "version": 3
      },
      "file_extension": ".py",
      "mimetype": "text/x-python",
      "name": "python",
      "nbconvert_exporter": "python",
      "pygments_lexer": "ipython3",
      "version": "3.8.5"
    },
    "widgets": {
      "application/vnd.jupyter.widget-state+json": {
        "17d38baf61314261b89b3901f126dccf": {
          "model_module": "@jupyter-widgets/controls",
          "model_name": "HBoxModel",
          "model_module_version": "1.5.0",
          "state": {
            "_dom_classes": [],
            "_model_module": "@jupyter-widgets/controls",
            "_model_module_version": "1.5.0",
            "_model_name": "HBoxModel",
            "_view_count": null,
            "_view_module": "@jupyter-widgets/controls",
            "_view_module_version": "1.5.0",
            "_view_name": "HBoxView",
            "box_style": "",
            "children": [
              "IPY_MODEL_80cc86d54a9947fb97cb5cfe668e178e",
              "IPY_MODEL_232b01cd4d9343748d3a8bab0552c1ef",
              "IPY_MODEL_95171c6cce0043d685b90858b47f2ef8"
            ],
            "layout": "IPY_MODEL_744bdf4c3a0249e1b1fb7353f9a86e2b"
          }
        },
        "80cc86d54a9947fb97cb5cfe668e178e": {
          "model_module": "@jupyter-widgets/controls",
          "model_name": "HTMLModel",
          "model_module_version": "1.5.0",
          "state": {
            "_dom_classes": [],
            "_model_module": "@jupyter-widgets/controls",
            "_model_module_version": "1.5.0",
            "_model_name": "HTMLModel",
            "_view_count": null,
            "_view_module": "@jupyter-widgets/controls",
            "_view_module_version": "1.5.0",
            "_view_name": "HTMLView",
            "description": "",
            "description_tooltip": null,
            "layout": "IPY_MODEL_ad7f8b2b9d6f4033baa7819c3f15297a",
            "placeholder": "​",
            "style": "IPY_MODEL_1e088e5f622c4e74b34b173e02267d1d",
            "value": "Dl Completed...: 100%"
          }
        },
        "232b01cd4d9343748d3a8bab0552c1ef": {
          "model_module": "@jupyter-widgets/controls",
          "model_name": "FloatProgressModel",
          "model_module_version": "1.5.0",
          "state": {
            "_dom_classes": [],
            "_model_module": "@jupyter-widgets/controls",
            "_model_module_version": "1.5.0",
            "_model_name": "FloatProgressModel",
            "_view_count": null,
            "_view_module": "@jupyter-widgets/controls",
            "_view_module_version": "1.5.0",
            "_view_name": "ProgressView",
            "bar_style": "success",
            "description": "",
            "description_tooltip": null,
            "layout": "IPY_MODEL_cd5188fb259e4e87b7c093869047a26f",
            "max": 1,
            "min": 0,
            "orientation": "horizontal",
            "style": "IPY_MODEL_5cd1744ddf57426eb85f5aa2804523e7",
            "value": 1
          }
        },
        "95171c6cce0043d685b90858b47f2ef8": {
          "model_module": "@jupyter-widgets/controls",
          "model_name": "HTMLModel",
          "model_module_version": "1.5.0",
          "state": {
            "_dom_classes": [],
            "_model_module": "@jupyter-widgets/controls",
            "_model_module_version": "1.5.0",
            "_model_name": "HTMLModel",
            "_view_count": null,
            "_view_module": "@jupyter-widgets/controls",
            "_view_module_version": "1.5.0",
            "_view_name": "HTMLView",
            "description": "",
            "description_tooltip": null,
            "layout": "IPY_MODEL_3a42b742fe8440f2b27aae3aac289a8b",
            "placeholder": "​",
            "style": "IPY_MODEL_bdf3c589134b4bfea5cc32e9a7f88112",
            "value": " 1/1 [00:02&lt;00:00,  2.32s/ url]"
          }
        },
        "744bdf4c3a0249e1b1fb7353f9a86e2b": {
          "model_module": "@jupyter-widgets/base",
          "model_name": "LayoutModel",
          "model_module_version": "1.2.0",
          "state": {
            "_model_module": "@jupyter-widgets/base",
            "_model_module_version": "1.2.0",
            "_model_name": "LayoutModel",
            "_view_count": null,
            "_view_module": "@jupyter-widgets/base",
            "_view_module_version": "1.2.0",
            "_view_name": "LayoutView",
            "align_content": null,
            "align_items": null,
            "align_self": null,
            "border": null,
            "bottom": null,
            "display": null,
            "flex": null,
            "flex_flow": null,
            "grid_area": null,
            "grid_auto_columns": null,
            "grid_auto_flow": null,
            "grid_auto_rows": null,
            "grid_column": null,
            "grid_gap": null,
            "grid_row": null,
            "grid_template_areas": null,
            "grid_template_columns": null,
            "grid_template_rows": null,
            "height": null,
            "justify_content": null,
            "justify_items": null,
            "left": null,
            "margin": null,
            "max_height": null,
            "max_width": null,
            "min_height": null,
            "min_width": null,
            "object_fit": null,
            "object_position": null,
            "order": null,
            "overflow": null,
            "overflow_x": null,
            "overflow_y": null,
            "padding": null,
            "right": null,
            "top": null,
            "visibility": null,
            "width": null
          }
        },
        "ad7f8b2b9d6f4033baa7819c3f15297a": {
          "model_module": "@jupyter-widgets/base",
          "model_name": "LayoutModel",
          "model_module_version": "1.2.0",
          "state": {
            "_model_module": "@jupyter-widgets/base",
            "_model_module_version": "1.2.0",
            "_model_name": "LayoutModel",
            "_view_count": null,
            "_view_module": "@jupyter-widgets/base",
            "_view_module_version": "1.2.0",
            "_view_name": "LayoutView",
            "align_content": null,
            "align_items": null,
            "align_self": null,
            "border": null,
            "bottom": null,
            "display": null,
            "flex": null,
            "flex_flow": null,
            "grid_area": null,
            "grid_auto_columns": null,
            "grid_auto_flow": null,
            "grid_auto_rows": null,
            "grid_column": null,
            "grid_gap": null,
            "grid_row": null,
            "grid_template_areas": null,
            "grid_template_columns": null,
            "grid_template_rows": null,
            "height": null,
            "justify_content": null,
            "justify_items": null,
            "left": null,
            "margin": null,
            "max_height": null,
            "max_width": null,
            "min_height": null,
            "min_width": null,
            "object_fit": null,
            "object_position": null,
            "order": null,
            "overflow": null,
            "overflow_x": null,
            "overflow_y": null,
            "padding": null,
            "right": null,
            "top": null,
            "visibility": null,
            "width": null
          }
        },
        "1e088e5f622c4e74b34b173e02267d1d": {
          "model_module": "@jupyter-widgets/controls",
          "model_name": "DescriptionStyleModel",
          "model_module_version": "1.5.0",
          "state": {
            "_model_module": "@jupyter-widgets/controls",
            "_model_module_version": "1.5.0",
            "_model_name": "DescriptionStyleModel",
            "_view_count": null,
            "_view_module": "@jupyter-widgets/base",
            "_view_module_version": "1.2.0",
            "_view_name": "StyleView",
            "description_width": ""
          }
        },
        "cd5188fb259e4e87b7c093869047a26f": {
          "model_module": "@jupyter-widgets/base",
          "model_name": "LayoutModel",
          "model_module_version": "1.2.0",
          "state": {
            "_model_module": "@jupyter-widgets/base",
            "_model_module_version": "1.2.0",
            "_model_name": "LayoutModel",
            "_view_count": null,
            "_view_module": "@jupyter-widgets/base",
            "_view_module_version": "1.2.0",
            "_view_name": "LayoutView",
            "align_content": null,
            "align_items": null,
            "align_self": null,
            "border": null,
            "bottom": null,
            "display": null,
            "flex": null,
            "flex_flow": null,
            "grid_area": null,
            "grid_auto_columns": null,
            "grid_auto_flow": null,
            "grid_auto_rows": null,
            "grid_column": null,
            "grid_gap": null,
            "grid_row": null,
            "grid_template_areas": null,
            "grid_template_columns": null,
            "grid_template_rows": null,
            "height": null,
            "justify_content": null,
            "justify_items": null,
            "left": null,
            "margin": null,
            "max_height": null,
            "max_width": null,
            "min_height": null,
            "min_width": null,
            "object_fit": null,
            "object_position": null,
            "order": null,
            "overflow": null,
            "overflow_x": null,
            "overflow_y": null,
            "padding": null,
            "right": null,
            "top": null,
            "visibility": null,
            "width": "20px"
          }
        },
        "5cd1744ddf57426eb85f5aa2804523e7": {
          "model_module": "@jupyter-widgets/controls",
          "model_name": "ProgressStyleModel",
          "model_module_version": "1.5.0",
          "state": {
            "_model_module": "@jupyter-widgets/controls",
            "_model_module_version": "1.5.0",
            "_model_name": "ProgressStyleModel",
            "_view_count": null,
            "_view_module": "@jupyter-widgets/base",
            "_view_module_version": "1.2.0",
            "_view_name": "StyleView",
            "bar_color": null,
            "description_width": ""
          }
        },
        "3a42b742fe8440f2b27aae3aac289a8b": {
          "model_module": "@jupyter-widgets/base",
          "model_name": "LayoutModel",
          "model_module_version": "1.2.0",
          "state": {
            "_model_module": "@jupyter-widgets/base",
            "_model_module_version": "1.2.0",
            "_model_name": "LayoutModel",
            "_view_count": null,
            "_view_module": "@jupyter-widgets/base",
            "_view_module_version": "1.2.0",
            "_view_name": "LayoutView",
            "align_content": null,
            "align_items": null,
            "align_self": null,
            "border": null,
            "bottom": null,
            "display": null,
            "flex": null,
            "flex_flow": null,
            "grid_area": null,
            "grid_auto_columns": null,
            "grid_auto_flow": null,
            "grid_auto_rows": null,
            "grid_column": null,
            "grid_gap": null,
            "grid_row": null,
            "grid_template_areas": null,
            "grid_template_columns": null,
            "grid_template_rows": null,
            "height": null,
            "justify_content": null,
            "justify_items": null,
            "left": null,
            "margin": null,
            "max_height": null,
            "max_width": null,
            "min_height": null,
            "min_width": null,
            "object_fit": null,
            "object_position": null,
            "order": null,
            "overflow": null,
            "overflow_x": null,
            "overflow_y": null,
            "padding": null,
            "right": null,
            "top": null,
            "visibility": null,
            "width": null
          }
        },
        "bdf3c589134b4bfea5cc32e9a7f88112": {
          "model_module": "@jupyter-widgets/controls",
          "model_name": "DescriptionStyleModel",
          "model_module_version": "1.5.0",
          "state": {
            "_model_module": "@jupyter-widgets/controls",
            "_model_module_version": "1.5.0",
            "_model_name": "DescriptionStyleModel",
            "_view_count": null,
            "_view_module": "@jupyter-widgets/base",
            "_view_module_version": "1.2.0",
            "_view_name": "StyleView",
            "description_width": ""
          }
        },
        "9c63ee5cc78b45739d59d733f9fdcca1": {
          "model_module": "@jupyter-widgets/controls",
          "model_name": "HBoxModel",
          "model_module_version": "1.5.0",
          "state": {
            "_dom_classes": [],
            "_model_module": "@jupyter-widgets/controls",
            "_model_module_version": "1.5.0",
            "_model_name": "HBoxModel",
            "_view_count": null,
            "_view_module": "@jupyter-widgets/controls",
            "_view_module_version": "1.5.0",
            "_view_name": "HBoxView",
            "box_style": "",
            "children": [
              "IPY_MODEL_daebc71a5ee944bea666aa525683fc16",
              "IPY_MODEL_bb846e364f804a29afe2e1407c10410b",
              "IPY_MODEL_2cd9a27134fd43a9a9f8cccf191e2b0b"
            ],
            "layout": "IPY_MODEL_f76f9af0387e43358c7ec12a3d22038e"
          }
        },
        "daebc71a5ee944bea666aa525683fc16": {
          "model_module": "@jupyter-widgets/controls",
          "model_name": "HTMLModel",
          "model_module_version": "1.5.0",
          "state": {
            "_dom_classes": [],
            "_model_module": "@jupyter-widgets/controls",
            "_model_module_version": "1.5.0",
            "_model_name": "HTMLModel",
            "_view_count": null,
            "_view_module": "@jupyter-widgets/controls",
            "_view_module_version": "1.5.0",
            "_view_name": "HTMLView",
            "description": "",
            "description_tooltip": null,
            "layout": "IPY_MODEL_9e924c7c9a1947eab51714cae66602c4",
            "placeholder": "​",
            "style": "IPY_MODEL_8048209413d24594879b9bacd27bbd9d",
            "value": "Dl Size...: 100%"
          }
        },
        "bb846e364f804a29afe2e1407c10410b": {
          "model_module": "@jupyter-widgets/controls",
          "model_name": "FloatProgressModel",
          "model_module_version": "1.5.0",
          "state": {
            "_dom_classes": [],
            "_model_module": "@jupyter-widgets/controls",
            "_model_module_version": "1.5.0",
            "_model_name": "FloatProgressModel",
            "_view_count": null,
            "_view_module": "@jupyter-widgets/controls",
            "_view_module_version": "1.5.0",
            "_view_name": "ProgressView",
            "bar_style": "success",
            "description": "",
            "description_tooltip": null,
            "layout": "IPY_MODEL_90e4ccd377c147f3992dbaaf3b6d1592",
            "max": 1,
            "min": 0,
            "orientation": "horizontal",
            "style": "IPY_MODEL_b1eec22b352148779876086c977a6739",
            "value": 1
          }
        },
        "2cd9a27134fd43a9a9f8cccf191e2b0b": {
          "model_module": "@jupyter-widgets/controls",
          "model_name": "HTMLModel",
          "model_module_version": "1.5.0",
          "state": {
            "_dom_classes": [],
            "_model_module": "@jupyter-widgets/controls",
            "_model_module_version": "1.5.0",
            "_model_name": "HTMLModel",
            "_view_count": null,
            "_view_module": "@jupyter-widgets/controls",
            "_view_module_version": "1.5.0",
            "_view_name": "HTMLView",
            "description": "",
            "description_tooltip": null,
            "layout": "IPY_MODEL_4364a1a5c7744f7fbe7176f0118d779d",
            "placeholder": "​",
            "style": "IPY_MODEL_6eb4101c780a497ea63bf69e8ce3e9b1",
            "value": " 80/80 [00:02&lt;00:00, 58.33 MiB/s]"
          }
        },
        "f76f9af0387e43358c7ec12a3d22038e": {
          "model_module": "@jupyter-widgets/base",
          "model_name": "LayoutModel",
          "model_module_version": "1.2.0",
          "state": {
            "_model_module": "@jupyter-widgets/base",
            "_model_module_version": "1.2.0",
            "_model_name": "LayoutModel",
            "_view_count": null,
            "_view_module": "@jupyter-widgets/base",
            "_view_module_version": "1.2.0",
            "_view_name": "LayoutView",
            "align_content": null,
            "align_items": null,
            "align_self": null,
            "border": null,
            "bottom": null,
            "display": null,
            "flex": null,
            "flex_flow": null,
            "grid_area": null,
            "grid_auto_columns": null,
            "grid_auto_flow": null,
            "grid_auto_rows": null,
            "grid_column": null,
            "grid_gap": null,
            "grid_row": null,
            "grid_template_areas": null,
            "grid_template_columns": null,
            "grid_template_rows": null,
            "height": null,
            "justify_content": null,
            "justify_items": null,
            "left": null,
            "margin": null,
            "max_height": null,
            "max_width": null,
            "min_height": null,
            "min_width": null,
            "object_fit": null,
            "object_position": null,
            "order": null,
            "overflow": null,
            "overflow_x": null,
            "overflow_y": null,
            "padding": null,
            "right": null,
            "top": null,
            "visibility": null,
            "width": null
          }
        },
        "9e924c7c9a1947eab51714cae66602c4": {
          "model_module": "@jupyter-widgets/base",
          "model_name": "LayoutModel",
          "model_module_version": "1.2.0",
          "state": {
            "_model_module": "@jupyter-widgets/base",
            "_model_module_version": "1.2.0",
            "_model_name": "LayoutModel",
            "_view_count": null,
            "_view_module": "@jupyter-widgets/base",
            "_view_module_version": "1.2.0",
            "_view_name": "LayoutView",
            "align_content": null,
            "align_items": null,
            "align_self": null,
            "border": null,
            "bottom": null,
            "display": null,
            "flex": null,
            "flex_flow": null,
            "grid_area": null,
            "grid_auto_columns": null,
            "grid_auto_flow": null,
            "grid_auto_rows": null,
            "grid_column": null,
            "grid_gap": null,
            "grid_row": null,
            "grid_template_areas": null,
            "grid_template_columns": null,
            "grid_template_rows": null,
            "height": null,
            "justify_content": null,
            "justify_items": null,
            "left": null,
            "margin": null,
            "max_height": null,
            "max_width": null,
            "min_height": null,
            "min_width": null,
            "object_fit": null,
            "object_position": null,
            "order": null,
            "overflow": null,
            "overflow_x": null,
            "overflow_y": null,
            "padding": null,
            "right": null,
            "top": null,
            "visibility": null,
            "width": null
          }
        },
        "8048209413d24594879b9bacd27bbd9d": {
          "model_module": "@jupyter-widgets/controls",
          "model_name": "DescriptionStyleModel",
          "model_module_version": "1.5.0",
          "state": {
            "_model_module": "@jupyter-widgets/controls",
            "_model_module_version": "1.5.0",
            "_model_name": "DescriptionStyleModel",
            "_view_count": null,
            "_view_module": "@jupyter-widgets/base",
            "_view_module_version": "1.2.0",
            "_view_name": "StyleView",
            "description_width": ""
          }
        },
        "90e4ccd377c147f3992dbaaf3b6d1592": {
          "model_module": "@jupyter-widgets/base",
          "model_name": "LayoutModel",
          "model_module_version": "1.2.0",
          "state": {
            "_model_module": "@jupyter-widgets/base",
            "_model_module_version": "1.2.0",
            "_model_name": "LayoutModel",
            "_view_count": null,
            "_view_module": "@jupyter-widgets/base",
            "_view_module_version": "1.2.0",
            "_view_name": "LayoutView",
            "align_content": null,
            "align_items": null,
            "align_self": null,
            "border": null,
            "bottom": null,
            "display": null,
            "flex": null,
            "flex_flow": null,
            "grid_area": null,
            "grid_auto_columns": null,
            "grid_auto_flow": null,
            "grid_auto_rows": null,
            "grid_column": null,
            "grid_gap": null,
            "grid_row": null,
            "grid_template_areas": null,
            "grid_template_columns": null,
            "grid_template_rows": null,
            "height": null,
            "justify_content": null,
            "justify_items": null,
            "left": null,
            "margin": null,
            "max_height": null,
            "max_width": null,
            "min_height": null,
            "min_width": null,
            "object_fit": null,
            "object_position": null,
            "order": null,
            "overflow": null,
            "overflow_x": null,
            "overflow_y": null,
            "padding": null,
            "right": null,
            "top": null,
            "visibility": null,
            "width": "20px"
          }
        },
        "b1eec22b352148779876086c977a6739": {
          "model_module": "@jupyter-widgets/controls",
          "model_name": "ProgressStyleModel",
          "model_module_version": "1.5.0",
          "state": {
            "_model_module": "@jupyter-widgets/controls",
            "_model_module_version": "1.5.0",
            "_model_name": "ProgressStyleModel",
            "_view_count": null,
            "_view_module": "@jupyter-widgets/base",
            "_view_module_version": "1.2.0",
            "_view_name": "StyleView",
            "bar_color": null,
            "description_width": ""
          }
        },
        "4364a1a5c7744f7fbe7176f0118d779d": {
          "model_module": "@jupyter-widgets/base",
          "model_name": "LayoutModel",
          "model_module_version": "1.2.0",
          "state": {
            "_model_module": "@jupyter-widgets/base",
            "_model_module_version": "1.2.0",
            "_model_name": "LayoutModel",
            "_view_count": null,
            "_view_module": "@jupyter-widgets/base",
            "_view_module_version": "1.2.0",
            "_view_name": "LayoutView",
            "align_content": null,
            "align_items": null,
            "align_self": null,
            "border": null,
            "bottom": null,
            "display": null,
            "flex": null,
            "flex_flow": null,
            "grid_area": null,
            "grid_auto_columns": null,
            "grid_auto_flow": null,
            "grid_auto_rows": null,
            "grid_column": null,
            "grid_gap": null,
            "grid_row": null,
            "grid_template_areas": null,
            "grid_template_columns": null,
            "grid_template_rows": null,
            "height": null,
            "justify_content": null,
            "justify_items": null,
            "left": null,
            "margin": null,
            "max_height": null,
            "max_width": null,
            "min_height": null,
            "min_width": null,
            "object_fit": null,
            "object_position": null,
            "order": null,
            "overflow": null,
            "overflow_x": null,
            "overflow_y": null,
            "padding": null,
            "right": null,
            "top": null,
            "visibility": null,
            "width": null
          }
        },
        "6eb4101c780a497ea63bf69e8ce3e9b1": {
          "model_module": "@jupyter-widgets/controls",
          "model_name": "DescriptionStyleModel",
          "model_module_version": "1.5.0",
          "state": {
            "_model_module": "@jupyter-widgets/controls",
            "_model_module_version": "1.5.0",
            "_model_name": "DescriptionStyleModel",
            "_view_count": null,
            "_view_module": "@jupyter-widgets/base",
            "_view_module_version": "1.2.0",
            "_view_name": "StyleView",
            "description_width": ""
          }
        },
        "078fc14112924d8e807e4d4aaf46dcd8": {
          "model_module": "@jupyter-widgets/controls",
          "model_name": "HBoxModel",
          "model_module_version": "1.5.0",
          "state": {
            "_dom_classes": [],
            "_model_module": "@jupyter-widgets/controls",
            "_model_module_version": "1.5.0",
            "_model_name": "HBoxModel",
            "_view_count": null,
            "_view_module": "@jupyter-widgets/controls",
            "_view_module_version": "1.5.0",
            "_view_name": "HBoxView",
            "box_style": "",
            "children": [
              "IPY_MODEL_0b5f9d9bc6ab4162aa987986f60267ac",
              "IPY_MODEL_503cadface0642518697f9600608ee48",
              "IPY_MODEL_946e9395bb7b44878967ce5143a23feb"
            ],
            "layout": "IPY_MODEL_e1a3874bc3bb468887918d2bb70cb887"
          }
        },
        "0b5f9d9bc6ab4162aa987986f60267ac": {
          "model_module": "@jupyter-widgets/controls",
          "model_name": "HTMLModel",
          "model_module_version": "1.5.0",
          "state": {
            "_dom_classes": [],
            "_model_module": "@jupyter-widgets/controls",
            "_model_module_version": "1.5.0",
            "_model_name": "HTMLModel",
            "_view_count": null,
            "_view_module": "@jupyter-widgets/controls",
            "_view_module_version": "1.5.0",
            "_view_name": "HTMLView",
            "description": "",
            "description_tooltip": null,
            "layout": "IPY_MODEL_0f9dfbfdc6a6491094f0daa36442308a",
            "placeholder": "​",
            "style": "IPY_MODEL_1183160c626343f4a124b349d91c05d0",
            "value": "Generating splits...: 100%"
          }
        },
        "503cadface0642518697f9600608ee48": {
          "model_module": "@jupyter-widgets/controls",
          "model_name": "FloatProgressModel",
          "model_module_version": "1.5.0",
          "state": {
            "_dom_classes": [],
            "_model_module": "@jupyter-widgets/controls",
            "_model_module_version": "1.5.0",
            "_model_name": "FloatProgressModel",
            "_view_count": null,
            "_view_module": "@jupyter-widgets/controls",
            "_view_module_version": "1.5.0",
            "_view_name": "ProgressView",
            "bar_style": "",
            "description": "",
            "description_tooltip": null,
            "layout": "IPY_MODEL_4a090ba8aca247198b6d40c56eca121c",
            "max": 3,
            "min": 0,
            "orientation": "horizontal",
            "style": "IPY_MODEL_41a4e83f8b3c4071a65b2cf28cc7a36d",
            "value": 3
          }
        },
        "946e9395bb7b44878967ce5143a23feb": {
          "model_module": "@jupyter-widgets/controls",
          "model_name": "HTMLModel",
          "model_module_version": "1.5.0",
          "state": {
            "_dom_classes": [],
            "_model_module": "@jupyter-widgets/controls",
            "_model_module_version": "1.5.0",
            "_model_name": "HTMLModel",
            "_view_count": null,
            "_view_module": "@jupyter-widgets/controls",
            "_view_module_version": "1.5.0",
            "_view_name": "HTMLView",
            "description": "",
            "description_tooltip": null,
            "layout": "IPY_MODEL_5c03df6b0de14c7d8e06610c46155753",
            "placeholder": "​",
            "style": "IPY_MODEL_bc682dce9e834443a2b8dbed058d61da",
            "value": " 3/3 [00:41&lt;00:00, 14.45s/ splits]"
          }
        },
        "e1a3874bc3bb468887918d2bb70cb887": {
          "model_module": "@jupyter-widgets/base",
          "model_name": "LayoutModel",
          "model_module_version": "1.2.0",
          "state": {
            "_model_module": "@jupyter-widgets/base",
            "_model_module_version": "1.2.0",
            "_model_name": "LayoutModel",
            "_view_count": null,
            "_view_module": "@jupyter-widgets/base",
            "_view_module_version": "1.2.0",
            "_view_name": "LayoutView",
            "align_content": null,
            "align_items": null,
            "align_self": null,
            "border": null,
            "bottom": null,
            "display": null,
            "flex": null,
            "flex_flow": null,
            "grid_area": null,
            "grid_auto_columns": null,
            "grid_auto_flow": null,
            "grid_auto_rows": null,
            "grid_column": null,
            "grid_gap": null,
            "grid_row": null,
            "grid_template_areas": null,
            "grid_template_columns": null,
            "grid_template_rows": null,
            "height": null,
            "justify_content": null,
            "justify_items": null,
            "left": null,
            "margin": null,
            "max_height": null,
            "max_width": null,
            "min_height": null,
            "min_width": null,
            "object_fit": null,
            "object_position": null,
            "order": null,
            "overflow": null,
            "overflow_x": null,
            "overflow_y": null,
            "padding": null,
            "right": null,
            "top": null,
            "visibility": "hidden",
            "width": null
          }
        },
        "0f9dfbfdc6a6491094f0daa36442308a": {
          "model_module": "@jupyter-widgets/base",
          "model_name": "LayoutModel",
          "model_module_version": "1.2.0",
          "state": {
            "_model_module": "@jupyter-widgets/base",
            "_model_module_version": "1.2.0",
            "_model_name": "LayoutModel",
            "_view_count": null,
            "_view_module": "@jupyter-widgets/base",
            "_view_module_version": "1.2.0",
            "_view_name": "LayoutView",
            "align_content": null,
            "align_items": null,
            "align_self": null,
            "border": null,
            "bottom": null,
            "display": null,
            "flex": null,
            "flex_flow": null,
            "grid_area": null,
            "grid_auto_columns": null,
            "grid_auto_flow": null,
            "grid_auto_rows": null,
            "grid_column": null,
            "grid_gap": null,
            "grid_row": null,
            "grid_template_areas": null,
            "grid_template_columns": null,
            "grid_template_rows": null,
            "height": null,
            "justify_content": null,
            "justify_items": null,
            "left": null,
            "margin": null,
            "max_height": null,
            "max_width": null,
            "min_height": null,
            "min_width": null,
            "object_fit": null,
            "object_position": null,
            "order": null,
            "overflow": null,
            "overflow_x": null,
            "overflow_y": null,
            "padding": null,
            "right": null,
            "top": null,
            "visibility": null,
            "width": null
          }
        },
        "1183160c626343f4a124b349d91c05d0": {
          "model_module": "@jupyter-widgets/controls",
          "model_name": "DescriptionStyleModel",
          "model_module_version": "1.5.0",
          "state": {
            "_model_module": "@jupyter-widgets/controls",
            "_model_module_version": "1.5.0",
            "_model_name": "DescriptionStyleModel",
            "_view_count": null,
            "_view_module": "@jupyter-widgets/base",
            "_view_module_version": "1.2.0",
            "_view_name": "StyleView",
            "description_width": ""
          }
        },
        "4a090ba8aca247198b6d40c56eca121c": {
          "model_module": "@jupyter-widgets/base",
          "model_name": "LayoutModel",
          "model_module_version": "1.2.0",
          "state": {
            "_model_module": "@jupyter-widgets/base",
            "_model_module_version": "1.2.0",
            "_model_name": "LayoutModel",
            "_view_count": null,
            "_view_module": "@jupyter-widgets/base",
            "_view_module_version": "1.2.0",
            "_view_name": "LayoutView",
            "align_content": null,
            "align_items": null,
            "align_self": null,
            "border": null,
            "bottom": null,
            "display": null,
            "flex": null,
            "flex_flow": null,
            "grid_area": null,
            "grid_auto_columns": null,
            "grid_auto_flow": null,
            "grid_auto_rows": null,
            "grid_column": null,
            "grid_gap": null,
            "grid_row": null,
            "grid_template_areas": null,
            "grid_template_columns": null,
            "grid_template_rows": null,
            "height": null,
            "justify_content": null,
            "justify_items": null,
            "left": null,
            "margin": null,
            "max_height": null,
            "max_width": null,
            "min_height": null,
            "min_width": null,
            "object_fit": null,
            "object_position": null,
            "order": null,
            "overflow": null,
            "overflow_x": null,
            "overflow_y": null,
            "padding": null,
            "right": null,
            "top": null,
            "visibility": null,
            "width": null
          }
        },
        "41a4e83f8b3c4071a65b2cf28cc7a36d": {
          "model_module": "@jupyter-widgets/controls",
          "model_name": "ProgressStyleModel",
          "model_module_version": "1.5.0",
          "state": {
            "_model_module": "@jupyter-widgets/controls",
            "_model_module_version": "1.5.0",
            "_model_name": "ProgressStyleModel",
            "_view_count": null,
            "_view_module": "@jupyter-widgets/base",
            "_view_module_version": "1.2.0",
            "_view_name": "StyleView",
            "bar_color": null,
            "description_width": ""
          }
        },
        "5c03df6b0de14c7d8e06610c46155753": {
          "model_module": "@jupyter-widgets/base",
          "model_name": "LayoutModel",
          "model_module_version": "1.2.0",
          "state": {
            "_model_module": "@jupyter-widgets/base",
            "_model_module_version": "1.2.0",
            "_model_name": "LayoutModel",
            "_view_count": null,
            "_view_module": "@jupyter-widgets/base",
            "_view_module_version": "1.2.0",
            "_view_name": "LayoutView",
            "align_content": null,
            "align_items": null,
            "align_self": null,
            "border": null,
            "bottom": null,
            "display": null,
            "flex": null,
            "flex_flow": null,
            "grid_area": null,
            "grid_auto_columns": null,
            "grid_auto_flow": null,
            "grid_auto_rows": null,
            "grid_column": null,
            "grid_gap": null,
            "grid_row": null,
            "grid_template_areas": null,
            "grid_template_columns": null,
            "grid_template_rows": null,
            "height": null,
            "justify_content": null,
            "justify_items": null,
            "left": null,
            "margin": null,
            "max_height": null,
            "max_width": null,
            "min_height": null,
            "min_width": null,
            "object_fit": null,
            "object_position": null,
            "order": null,
            "overflow": null,
            "overflow_x": null,
            "overflow_y": null,
            "padding": null,
            "right": null,
            "top": null,
            "visibility": null,
            "width": null
          }
        },
        "bc682dce9e834443a2b8dbed058d61da": {
          "model_module": "@jupyter-widgets/controls",
          "model_name": "DescriptionStyleModel",
          "model_module_version": "1.5.0",
          "state": {
            "_model_module": "@jupyter-widgets/controls",
            "_model_module_version": "1.5.0",
            "_model_name": "DescriptionStyleModel",
            "_view_count": null,
            "_view_module": "@jupyter-widgets/base",
            "_view_module_version": "1.2.0",
            "_view_name": "StyleView",
            "description_width": ""
          }
        },
        "392b5fc4582b4ff7bcd1654b46b671ed": {
          "model_module": "@jupyter-widgets/controls",
          "model_name": "HBoxModel",
          "model_module_version": "1.5.0",
          "state": {
            "_dom_classes": [],
            "_model_module": "@jupyter-widgets/controls",
            "_model_module_version": "1.5.0",
            "_model_name": "HBoxModel",
            "_view_count": null,
            "_view_module": "@jupyter-widgets/controls",
            "_view_module_version": "1.5.0",
            "_view_name": "HBoxView",
            "box_style": "",
            "children": [
              "IPY_MODEL_c6f8e70193c04fabb999e2e2eaf0270e",
              "IPY_MODEL_0fb3518d91f040658a7da45ea3ccf25e",
              "IPY_MODEL_94341841933b4219b9f3988cdbd3c363"
            ],
            "layout": "IPY_MODEL_63782a4ec62c4ddf8fc9d39e0005f23c"
          }
        },
        "c6f8e70193c04fabb999e2e2eaf0270e": {
          "model_module": "@jupyter-widgets/controls",
          "model_name": "HTMLModel",
          "model_module_version": "1.5.0",
          "state": {
            "_dom_classes": [],
            "_model_module": "@jupyter-widgets/controls",
            "_model_module_version": "1.5.0",
            "_model_name": "HTMLModel",
            "_view_count": null,
            "_view_module": "@jupyter-widgets/controls",
            "_view_module_version": "1.5.0",
            "_view_name": "HTMLView",
            "description": "",
            "description_tooltip": null,
            "layout": "IPY_MODEL_fd40ecaa7b784f7eb77f97f9c9cf8ca1",
            "placeholder": "​",
            "style": "IPY_MODEL_926d2651f2a149fb8916207e224fa15c",
            "value": "Generating train examples...:  98%"
          }
        },
        "0fb3518d91f040658a7da45ea3ccf25e": {
          "model_module": "@jupyter-widgets/controls",
          "model_name": "FloatProgressModel",
          "model_module_version": "1.5.0",
          "state": {
            "_dom_classes": [],
            "_model_module": "@jupyter-widgets/controls",
            "_model_module_version": "1.5.0",
            "_model_name": "FloatProgressModel",
            "_view_count": null,
            "_view_module": "@jupyter-widgets/controls",
            "_view_module_version": "1.5.0",
            "_view_name": "ProgressView",
            "bar_style": "",
            "description": "",
            "description_tooltip": null,
            "layout": "IPY_MODEL_0cc8919eb8114e84bff54bdceffdf00c",
            "max": 25000,
            "min": 0,
            "orientation": "horizontal",
            "style": "IPY_MODEL_0c3bc14a4bbf4210b05e6b68b5722820",
            "value": 25000
          }
        },
        "94341841933b4219b9f3988cdbd3c363": {
          "model_module": "@jupyter-widgets/controls",
          "model_name": "HTMLModel",
          "model_module_version": "1.5.0",
          "state": {
            "_dom_classes": [],
            "_model_module": "@jupyter-widgets/controls",
            "_model_module_version": "1.5.0",
            "_model_name": "HTMLModel",
            "_view_count": null,
            "_view_module": "@jupyter-widgets/controls",
            "_view_module_version": "1.5.0",
            "_view_name": "HTMLView",
            "description": "",
            "description_tooltip": null,
            "layout": "IPY_MODEL_ca71127d9cde403393f8a850811971df",
            "placeholder": "​",
            "style": "IPY_MODEL_45522db9f0c845658c8e2d9ea033a893",
            "value": " 24531/25000 [00:07&lt;00:00, 4660.47 examples/s]"
          }
        },
        "63782a4ec62c4ddf8fc9d39e0005f23c": {
          "model_module": "@jupyter-widgets/base",
          "model_name": "LayoutModel",
          "model_module_version": "1.2.0",
          "state": {
            "_model_module": "@jupyter-widgets/base",
            "_model_module_version": "1.2.0",
            "_model_name": "LayoutModel",
            "_view_count": null,
            "_view_module": "@jupyter-widgets/base",
            "_view_module_version": "1.2.0",
            "_view_name": "LayoutView",
            "align_content": null,
            "align_items": null,
            "align_self": null,
            "border": null,
            "bottom": null,
            "display": null,
            "flex": null,
            "flex_flow": null,
            "grid_area": null,
            "grid_auto_columns": null,
            "grid_auto_flow": null,
            "grid_auto_rows": null,
            "grid_column": null,
            "grid_gap": null,
            "grid_row": null,
            "grid_template_areas": null,
            "grid_template_columns": null,
            "grid_template_rows": null,
            "height": null,
            "justify_content": null,
            "justify_items": null,
            "left": null,
            "margin": null,
            "max_height": null,
            "max_width": null,
            "min_height": null,
            "min_width": null,
            "object_fit": null,
            "object_position": null,
            "order": null,
            "overflow": null,
            "overflow_x": null,
            "overflow_y": null,
            "padding": null,
            "right": null,
            "top": null,
            "visibility": "hidden",
            "width": null
          }
        },
        "fd40ecaa7b784f7eb77f97f9c9cf8ca1": {
          "model_module": "@jupyter-widgets/base",
          "model_name": "LayoutModel",
          "model_module_version": "1.2.0",
          "state": {
            "_model_module": "@jupyter-widgets/base",
            "_model_module_version": "1.2.0",
            "_model_name": "LayoutModel",
            "_view_count": null,
            "_view_module": "@jupyter-widgets/base",
            "_view_module_version": "1.2.0",
            "_view_name": "LayoutView",
            "align_content": null,
            "align_items": null,
            "align_self": null,
            "border": null,
            "bottom": null,
            "display": null,
            "flex": null,
            "flex_flow": null,
            "grid_area": null,
            "grid_auto_columns": null,
            "grid_auto_flow": null,
            "grid_auto_rows": null,
            "grid_column": null,
            "grid_gap": null,
            "grid_row": null,
            "grid_template_areas": null,
            "grid_template_columns": null,
            "grid_template_rows": null,
            "height": null,
            "justify_content": null,
            "justify_items": null,
            "left": null,
            "margin": null,
            "max_height": null,
            "max_width": null,
            "min_height": null,
            "min_width": null,
            "object_fit": null,
            "object_position": null,
            "order": null,
            "overflow": null,
            "overflow_x": null,
            "overflow_y": null,
            "padding": null,
            "right": null,
            "top": null,
            "visibility": null,
            "width": null
          }
        },
        "926d2651f2a149fb8916207e224fa15c": {
          "model_module": "@jupyter-widgets/controls",
          "model_name": "DescriptionStyleModel",
          "model_module_version": "1.5.0",
          "state": {
            "_model_module": "@jupyter-widgets/controls",
            "_model_module_version": "1.5.0",
            "_model_name": "DescriptionStyleModel",
            "_view_count": null,
            "_view_module": "@jupyter-widgets/base",
            "_view_module_version": "1.2.0",
            "_view_name": "StyleView",
            "description_width": ""
          }
        },
        "0cc8919eb8114e84bff54bdceffdf00c": {
          "model_module": "@jupyter-widgets/base",
          "model_name": "LayoutModel",
          "model_module_version": "1.2.0",
          "state": {
            "_model_module": "@jupyter-widgets/base",
            "_model_module_version": "1.2.0",
            "_model_name": "LayoutModel",
            "_view_count": null,
            "_view_module": "@jupyter-widgets/base",
            "_view_module_version": "1.2.0",
            "_view_name": "LayoutView",
            "align_content": null,
            "align_items": null,
            "align_self": null,
            "border": null,
            "bottom": null,
            "display": null,
            "flex": null,
            "flex_flow": null,
            "grid_area": null,
            "grid_auto_columns": null,
            "grid_auto_flow": null,
            "grid_auto_rows": null,
            "grid_column": null,
            "grid_gap": null,
            "grid_row": null,
            "grid_template_areas": null,
            "grid_template_columns": null,
            "grid_template_rows": null,
            "height": null,
            "justify_content": null,
            "justify_items": null,
            "left": null,
            "margin": null,
            "max_height": null,
            "max_width": null,
            "min_height": null,
            "min_width": null,
            "object_fit": null,
            "object_position": null,
            "order": null,
            "overflow": null,
            "overflow_x": null,
            "overflow_y": null,
            "padding": null,
            "right": null,
            "top": null,
            "visibility": null,
            "width": null
          }
        },
        "0c3bc14a4bbf4210b05e6b68b5722820": {
          "model_module": "@jupyter-widgets/controls",
          "model_name": "ProgressStyleModel",
          "model_module_version": "1.5.0",
          "state": {
            "_model_module": "@jupyter-widgets/controls",
            "_model_module_version": "1.5.0",
            "_model_name": "ProgressStyleModel",
            "_view_count": null,
            "_view_module": "@jupyter-widgets/base",
            "_view_module_version": "1.2.0",
            "_view_name": "StyleView",
            "bar_color": null,
            "description_width": ""
          }
        },
        "ca71127d9cde403393f8a850811971df": {
          "model_module": "@jupyter-widgets/base",
          "model_name": "LayoutModel",
          "model_module_version": "1.2.0",
          "state": {
            "_model_module": "@jupyter-widgets/base",
            "_model_module_version": "1.2.0",
            "_model_name": "LayoutModel",
            "_view_count": null,
            "_view_module": "@jupyter-widgets/base",
            "_view_module_version": "1.2.0",
            "_view_name": "LayoutView",
            "align_content": null,
            "align_items": null,
            "align_self": null,
            "border": null,
            "bottom": null,
            "display": null,
            "flex": null,
            "flex_flow": null,
            "grid_area": null,
            "grid_auto_columns": null,
            "grid_auto_flow": null,
            "grid_auto_rows": null,
            "grid_column": null,
            "grid_gap": null,
            "grid_row": null,
            "grid_template_areas": null,
            "grid_template_columns": null,
            "grid_template_rows": null,
            "height": null,
            "justify_content": null,
            "justify_items": null,
            "left": null,
            "margin": null,
            "max_height": null,
            "max_width": null,
            "min_height": null,
            "min_width": null,
            "object_fit": null,
            "object_position": null,
            "order": null,
            "overflow": null,
            "overflow_x": null,
            "overflow_y": null,
            "padding": null,
            "right": null,
            "top": null,
            "visibility": null,
            "width": null
          }
        },
        "45522db9f0c845658c8e2d9ea033a893": {
          "model_module": "@jupyter-widgets/controls",
          "model_name": "DescriptionStyleModel",
          "model_module_version": "1.5.0",
          "state": {
            "_model_module": "@jupyter-widgets/controls",
            "_model_module_version": "1.5.0",
            "_model_name": "DescriptionStyleModel",
            "_view_count": null,
            "_view_module": "@jupyter-widgets/base",
            "_view_module_version": "1.2.0",
            "_view_name": "StyleView",
            "description_width": ""
          }
        },
        "e2d22162c1a949c9b50d672934b7d7f4": {
          "model_module": "@jupyter-widgets/controls",
          "model_name": "HBoxModel",
          "model_module_version": "1.5.0",
          "state": {
            "_dom_classes": [],
            "_model_module": "@jupyter-widgets/controls",
            "_model_module_version": "1.5.0",
            "_model_name": "HBoxModel",
            "_view_count": null,
            "_view_module": "@jupyter-widgets/controls",
            "_view_module_version": "1.5.0",
            "_view_name": "HBoxView",
            "box_style": "",
            "children": [
              "IPY_MODEL_2652a48dcd89441b90f6931b4425d03d",
              "IPY_MODEL_ce81f1b0202e474485123200daa6f70e",
              "IPY_MODEL_ccd69cb101144b77baedda04e28b2ae9"
            ],
            "layout": "IPY_MODEL_bd121cc353e24fe18f7d08a0e23c7b53"
          }
        },
        "2652a48dcd89441b90f6931b4425d03d": {
          "model_module": "@jupyter-widgets/controls",
          "model_name": "HTMLModel",
          "model_module_version": "1.5.0",
          "state": {
            "_dom_classes": [],
            "_model_module": "@jupyter-widgets/controls",
            "_model_module_version": "1.5.0",
            "_model_name": "HTMLModel",
            "_view_count": null,
            "_view_module": "@jupyter-widgets/controls",
            "_view_module_version": "1.5.0",
            "_view_name": "HTMLView",
            "description": "",
            "description_tooltip": null,
            "layout": "IPY_MODEL_bcc906121d8349cd9a5b4ed2ee97ef02",
            "placeholder": "​",
            "style": "IPY_MODEL_883ca9a2599343deb4eb5d7e8a974553",
            "value": "Shuffling /root/tensorflow_datasets/imdb_reviews/plain_text/1.0.0.incompleteVHNWAV/imdb_reviews-train.tfrecord*...:  87%"
          }
        },
        "ce81f1b0202e474485123200daa6f70e": {
          "model_module": "@jupyter-widgets/controls",
          "model_name": "FloatProgressModel",
          "model_module_version": "1.5.0",
          "state": {
            "_dom_classes": [],
            "_model_module": "@jupyter-widgets/controls",
            "_model_module_version": "1.5.0",
            "_model_name": "FloatProgressModel",
            "_view_count": null,
            "_view_module": "@jupyter-widgets/controls",
            "_view_module_version": "1.5.0",
            "_view_name": "ProgressView",
            "bar_style": "",
            "description": "",
            "description_tooltip": null,
            "layout": "IPY_MODEL_8f37c9de83e74bd3b3cc1ca842d16046",
            "max": 25000,
            "min": 0,
            "orientation": "horizontal",
            "style": "IPY_MODEL_c706cf76e07943ddbd7505b943b1c25a",
            "value": 25000
          }
        },
        "ccd69cb101144b77baedda04e28b2ae9": {
          "model_module": "@jupyter-widgets/controls",
          "model_name": "HTMLModel",
          "model_module_version": "1.5.0",
          "state": {
            "_dom_classes": [],
            "_model_module": "@jupyter-widgets/controls",
            "_model_module_version": "1.5.0",
            "_model_name": "HTMLModel",
            "_view_count": null,
            "_view_module": "@jupyter-widgets/controls",
            "_view_module_version": "1.5.0",
            "_view_name": "HTMLView",
            "description": "",
            "description_tooltip": null,
            "layout": "IPY_MODEL_50e8563993b44d63ad126aa37396af56",
            "placeholder": "​",
            "style": "IPY_MODEL_f0fc8bd4d62a499c99e06056f425feeb",
            "value": " 21679/25000 [00:00&lt;00:00, 113511.21 examples/s]"
          }
        },
        "bd121cc353e24fe18f7d08a0e23c7b53": {
          "model_module": "@jupyter-widgets/base",
          "model_name": "LayoutModel",
          "model_module_version": "1.2.0",
          "state": {
            "_model_module": "@jupyter-widgets/base",
            "_model_module_version": "1.2.0",
            "_model_name": "LayoutModel",
            "_view_count": null,
            "_view_module": "@jupyter-widgets/base",
            "_view_module_version": "1.2.0",
            "_view_name": "LayoutView",
            "align_content": null,
            "align_items": null,
            "align_self": null,
            "border": null,
            "bottom": null,
            "display": null,
            "flex": null,
            "flex_flow": null,
            "grid_area": null,
            "grid_auto_columns": null,
            "grid_auto_flow": null,
            "grid_auto_rows": null,
            "grid_column": null,
            "grid_gap": null,
            "grid_row": null,
            "grid_template_areas": null,
            "grid_template_columns": null,
            "grid_template_rows": null,
            "height": null,
            "justify_content": null,
            "justify_items": null,
            "left": null,
            "margin": null,
            "max_height": null,
            "max_width": null,
            "min_height": null,
            "min_width": null,
            "object_fit": null,
            "object_position": null,
            "order": null,
            "overflow": null,
            "overflow_x": null,
            "overflow_y": null,
            "padding": null,
            "right": null,
            "top": null,
            "visibility": "hidden",
            "width": null
          }
        },
        "bcc906121d8349cd9a5b4ed2ee97ef02": {
          "model_module": "@jupyter-widgets/base",
          "model_name": "LayoutModel",
          "model_module_version": "1.2.0",
          "state": {
            "_model_module": "@jupyter-widgets/base",
            "_model_module_version": "1.2.0",
            "_model_name": "LayoutModel",
            "_view_count": null,
            "_view_module": "@jupyter-widgets/base",
            "_view_module_version": "1.2.0",
            "_view_name": "LayoutView",
            "align_content": null,
            "align_items": null,
            "align_self": null,
            "border": null,
            "bottom": null,
            "display": null,
            "flex": null,
            "flex_flow": null,
            "grid_area": null,
            "grid_auto_columns": null,
            "grid_auto_flow": null,
            "grid_auto_rows": null,
            "grid_column": null,
            "grid_gap": null,
            "grid_row": null,
            "grid_template_areas": null,
            "grid_template_columns": null,
            "grid_template_rows": null,
            "height": null,
            "justify_content": null,
            "justify_items": null,
            "left": null,
            "margin": null,
            "max_height": null,
            "max_width": null,
            "min_height": null,
            "min_width": null,
            "object_fit": null,
            "object_position": null,
            "order": null,
            "overflow": null,
            "overflow_x": null,
            "overflow_y": null,
            "padding": null,
            "right": null,
            "top": null,
            "visibility": null,
            "width": null
          }
        },
        "883ca9a2599343deb4eb5d7e8a974553": {
          "model_module": "@jupyter-widgets/controls",
          "model_name": "DescriptionStyleModel",
          "model_module_version": "1.5.0",
          "state": {
            "_model_module": "@jupyter-widgets/controls",
            "_model_module_version": "1.5.0",
            "_model_name": "DescriptionStyleModel",
            "_view_count": null,
            "_view_module": "@jupyter-widgets/base",
            "_view_module_version": "1.2.0",
            "_view_name": "StyleView",
            "description_width": ""
          }
        },
        "8f37c9de83e74bd3b3cc1ca842d16046": {
          "model_module": "@jupyter-widgets/base",
          "model_name": "LayoutModel",
          "model_module_version": "1.2.0",
          "state": {
            "_model_module": "@jupyter-widgets/base",
            "_model_module_version": "1.2.0",
            "_model_name": "LayoutModel",
            "_view_count": null,
            "_view_module": "@jupyter-widgets/base",
            "_view_module_version": "1.2.0",
            "_view_name": "LayoutView",
            "align_content": null,
            "align_items": null,
            "align_self": null,
            "border": null,
            "bottom": null,
            "display": null,
            "flex": null,
            "flex_flow": null,
            "grid_area": null,
            "grid_auto_columns": null,
            "grid_auto_flow": null,
            "grid_auto_rows": null,
            "grid_column": null,
            "grid_gap": null,
            "grid_row": null,
            "grid_template_areas": null,
            "grid_template_columns": null,
            "grid_template_rows": null,
            "height": null,
            "justify_content": null,
            "justify_items": null,
            "left": null,
            "margin": null,
            "max_height": null,
            "max_width": null,
            "min_height": null,
            "min_width": null,
            "object_fit": null,
            "object_position": null,
            "order": null,
            "overflow": null,
            "overflow_x": null,
            "overflow_y": null,
            "padding": null,
            "right": null,
            "top": null,
            "visibility": null,
            "width": null
          }
        },
        "c706cf76e07943ddbd7505b943b1c25a": {
          "model_module": "@jupyter-widgets/controls",
          "model_name": "ProgressStyleModel",
          "model_module_version": "1.5.0",
          "state": {
            "_model_module": "@jupyter-widgets/controls",
            "_model_module_version": "1.5.0",
            "_model_name": "ProgressStyleModel",
            "_view_count": null,
            "_view_module": "@jupyter-widgets/base",
            "_view_module_version": "1.2.0",
            "_view_name": "StyleView",
            "bar_color": null,
            "description_width": ""
          }
        },
        "50e8563993b44d63ad126aa37396af56": {
          "model_module": "@jupyter-widgets/base",
          "model_name": "LayoutModel",
          "model_module_version": "1.2.0",
          "state": {
            "_model_module": "@jupyter-widgets/base",
            "_model_module_version": "1.2.0",
            "_model_name": "LayoutModel",
            "_view_count": null,
            "_view_module": "@jupyter-widgets/base",
            "_view_module_version": "1.2.0",
            "_view_name": "LayoutView",
            "align_content": null,
            "align_items": null,
            "align_self": null,
            "border": null,
            "bottom": null,
            "display": null,
            "flex": null,
            "flex_flow": null,
            "grid_area": null,
            "grid_auto_columns": null,
            "grid_auto_flow": null,
            "grid_auto_rows": null,
            "grid_column": null,
            "grid_gap": null,
            "grid_row": null,
            "grid_template_areas": null,
            "grid_template_columns": null,
            "grid_template_rows": null,
            "height": null,
            "justify_content": null,
            "justify_items": null,
            "left": null,
            "margin": null,
            "max_height": null,
            "max_width": null,
            "min_height": null,
            "min_width": null,
            "object_fit": null,
            "object_position": null,
            "order": null,
            "overflow": null,
            "overflow_x": null,
            "overflow_y": null,
            "padding": null,
            "right": null,
            "top": null,
            "visibility": null,
            "width": null
          }
        },
        "f0fc8bd4d62a499c99e06056f425feeb": {
          "model_module": "@jupyter-widgets/controls",
          "model_name": "DescriptionStyleModel",
          "model_module_version": "1.5.0",
          "state": {
            "_model_module": "@jupyter-widgets/controls",
            "_model_module_version": "1.5.0",
            "_model_name": "DescriptionStyleModel",
            "_view_count": null,
            "_view_module": "@jupyter-widgets/base",
            "_view_module_version": "1.2.0",
            "_view_name": "StyleView",
            "description_width": ""
          }
        },
        "3b84e2671caa4418b1028855b15d0614": {
          "model_module": "@jupyter-widgets/controls",
          "model_name": "HBoxModel",
          "model_module_version": "1.5.0",
          "state": {
            "_dom_classes": [],
            "_model_module": "@jupyter-widgets/controls",
            "_model_module_version": "1.5.0",
            "_model_name": "HBoxModel",
            "_view_count": null,
            "_view_module": "@jupyter-widgets/controls",
            "_view_module_version": "1.5.0",
            "_view_name": "HBoxView",
            "box_style": "",
            "children": [
              "IPY_MODEL_ccb6be87e81c4713bd157782bca2af26",
              "IPY_MODEL_598602e0592047dcaea0f3e40a6c39fc",
              "IPY_MODEL_41da30caa413420498e6c637eec96266"
            ],
            "layout": "IPY_MODEL_3241df07dfbe4fd4ba5452854c923abe"
          }
        },
        "ccb6be87e81c4713bd157782bca2af26": {
          "model_module": "@jupyter-widgets/controls",
          "model_name": "HTMLModel",
          "model_module_version": "1.5.0",
          "state": {
            "_dom_classes": [],
            "_model_module": "@jupyter-widgets/controls",
            "_model_module_version": "1.5.0",
            "_model_name": "HTMLModel",
            "_view_count": null,
            "_view_module": "@jupyter-widgets/controls",
            "_view_module_version": "1.5.0",
            "_view_name": "HTMLView",
            "description": "",
            "description_tooltip": null,
            "layout": "IPY_MODEL_5eb67f883dd44a4684d3ebaca11de311",
            "placeholder": "​",
            "style": "IPY_MODEL_3ad08a79824b439d9ca0283d13e57f7a",
            "value": "Generating test examples...:  99%"
          }
        },
        "598602e0592047dcaea0f3e40a6c39fc": {
          "model_module": "@jupyter-widgets/controls",
          "model_name": "FloatProgressModel",
          "model_module_version": "1.5.0",
          "state": {
            "_dom_classes": [],
            "_model_module": "@jupyter-widgets/controls",
            "_model_module_version": "1.5.0",
            "_model_name": "FloatProgressModel",
            "_view_count": null,
            "_view_module": "@jupyter-widgets/controls",
            "_view_module_version": "1.5.0",
            "_view_name": "ProgressView",
            "bar_style": "",
            "description": "",
            "description_tooltip": null,
            "layout": "IPY_MODEL_f76a6ad52ddf44aab85e73bc47f5829d",
            "max": 25000,
            "min": 0,
            "orientation": "horizontal",
            "style": "IPY_MODEL_9c38fe599a6149abab0b56caac1d1d9f",
            "value": 25000
          }
        },
        "41da30caa413420498e6c637eec96266": {
          "model_module": "@jupyter-widgets/controls",
          "model_name": "HTMLModel",
          "model_module_version": "1.5.0",
          "state": {
            "_dom_classes": [],
            "_model_module": "@jupyter-widgets/controls",
            "_model_module_version": "1.5.0",
            "_model_name": "HTMLModel",
            "_view_count": null,
            "_view_module": "@jupyter-widgets/controls",
            "_view_module_version": "1.5.0",
            "_view_name": "HTMLView",
            "description": "",
            "description_tooltip": null,
            "layout": "IPY_MODEL_899c1a41afcb4bda9c4906e15f6c7a96",
            "placeholder": "​",
            "style": "IPY_MODEL_26d4d6be501e4e56978e3a259eac7221",
            "value": " 24803/25000 [00:06&lt;00:00, 4854.46 examples/s]"
          }
        },
        "3241df07dfbe4fd4ba5452854c923abe": {
          "model_module": "@jupyter-widgets/base",
          "model_name": "LayoutModel",
          "model_module_version": "1.2.0",
          "state": {
            "_model_module": "@jupyter-widgets/base",
            "_model_module_version": "1.2.0",
            "_model_name": "LayoutModel",
            "_view_count": null,
            "_view_module": "@jupyter-widgets/base",
            "_view_module_version": "1.2.0",
            "_view_name": "LayoutView",
            "align_content": null,
            "align_items": null,
            "align_self": null,
            "border": null,
            "bottom": null,
            "display": null,
            "flex": null,
            "flex_flow": null,
            "grid_area": null,
            "grid_auto_columns": null,
            "grid_auto_flow": null,
            "grid_auto_rows": null,
            "grid_column": null,
            "grid_gap": null,
            "grid_row": null,
            "grid_template_areas": null,
            "grid_template_columns": null,
            "grid_template_rows": null,
            "height": null,
            "justify_content": null,
            "justify_items": null,
            "left": null,
            "margin": null,
            "max_height": null,
            "max_width": null,
            "min_height": null,
            "min_width": null,
            "object_fit": null,
            "object_position": null,
            "order": null,
            "overflow": null,
            "overflow_x": null,
            "overflow_y": null,
            "padding": null,
            "right": null,
            "top": null,
            "visibility": "hidden",
            "width": null
          }
        },
        "5eb67f883dd44a4684d3ebaca11de311": {
          "model_module": "@jupyter-widgets/base",
          "model_name": "LayoutModel",
          "model_module_version": "1.2.0",
          "state": {
            "_model_module": "@jupyter-widgets/base",
            "_model_module_version": "1.2.0",
            "_model_name": "LayoutModel",
            "_view_count": null,
            "_view_module": "@jupyter-widgets/base",
            "_view_module_version": "1.2.0",
            "_view_name": "LayoutView",
            "align_content": null,
            "align_items": null,
            "align_self": null,
            "border": null,
            "bottom": null,
            "display": null,
            "flex": null,
            "flex_flow": null,
            "grid_area": null,
            "grid_auto_columns": null,
            "grid_auto_flow": null,
            "grid_auto_rows": null,
            "grid_column": null,
            "grid_gap": null,
            "grid_row": null,
            "grid_template_areas": null,
            "grid_template_columns": null,
            "grid_template_rows": null,
            "height": null,
            "justify_content": null,
            "justify_items": null,
            "left": null,
            "margin": null,
            "max_height": null,
            "max_width": null,
            "min_height": null,
            "min_width": null,
            "object_fit": null,
            "object_position": null,
            "order": null,
            "overflow": null,
            "overflow_x": null,
            "overflow_y": null,
            "padding": null,
            "right": null,
            "top": null,
            "visibility": null,
            "width": null
          }
        },
        "3ad08a79824b439d9ca0283d13e57f7a": {
          "model_module": "@jupyter-widgets/controls",
          "model_name": "DescriptionStyleModel",
          "model_module_version": "1.5.0",
          "state": {
            "_model_module": "@jupyter-widgets/controls",
            "_model_module_version": "1.5.0",
            "_model_name": "DescriptionStyleModel",
            "_view_count": null,
            "_view_module": "@jupyter-widgets/base",
            "_view_module_version": "1.2.0",
            "_view_name": "StyleView",
            "description_width": ""
          }
        },
        "f76a6ad52ddf44aab85e73bc47f5829d": {
          "model_module": "@jupyter-widgets/base",
          "model_name": "LayoutModel",
          "model_module_version": "1.2.0",
          "state": {
            "_model_module": "@jupyter-widgets/base",
            "_model_module_version": "1.2.0",
            "_model_name": "LayoutModel",
            "_view_count": null,
            "_view_module": "@jupyter-widgets/base",
            "_view_module_version": "1.2.0",
            "_view_name": "LayoutView",
            "align_content": null,
            "align_items": null,
            "align_self": null,
            "border": null,
            "bottom": null,
            "display": null,
            "flex": null,
            "flex_flow": null,
            "grid_area": null,
            "grid_auto_columns": null,
            "grid_auto_flow": null,
            "grid_auto_rows": null,
            "grid_column": null,
            "grid_gap": null,
            "grid_row": null,
            "grid_template_areas": null,
            "grid_template_columns": null,
            "grid_template_rows": null,
            "height": null,
            "justify_content": null,
            "justify_items": null,
            "left": null,
            "margin": null,
            "max_height": null,
            "max_width": null,
            "min_height": null,
            "min_width": null,
            "object_fit": null,
            "object_position": null,
            "order": null,
            "overflow": null,
            "overflow_x": null,
            "overflow_y": null,
            "padding": null,
            "right": null,
            "top": null,
            "visibility": null,
            "width": null
          }
        },
        "9c38fe599a6149abab0b56caac1d1d9f": {
          "model_module": "@jupyter-widgets/controls",
          "model_name": "ProgressStyleModel",
          "model_module_version": "1.5.0",
          "state": {
            "_model_module": "@jupyter-widgets/controls",
            "_model_module_version": "1.5.0",
            "_model_name": "ProgressStyleModel",
            "_view_count": null,
            "_view_module": "@jupyter-widgets/base",
            "_view_module_version": "1.2.0",
            "_view_name": "StyleView",
            "bar_color": null,
            "description_width": ""
          }
        },
        "899c1a41afcb4bda9c4906e15f6c7a96": {
          "model_module": "@jupyter-widgets/base",
          "model_name": "LayoutModel",
          "model_module_version": "1.2.0",
          "state": {
            "_model_module": "@jupyter-widgets/base",
            "_model_module_version": "1.2.0",
            "_model_name": "LayoutModel",
            "_view_count": null,
            "_view_module": "@jupyter-widgets/base",
            "_view_module_version": "1.2.0",
            "_view_name": "LayoutView",
            "align_content": null,
            "align_items": null,
            "align_self": null,
            "border": null,
            "bottom": null,
            "display": null,
            "flex": null,
            "flex_flow": null,
            "grid_area": null,
            "grid_auto_columns": null,
            "grid_auto_flow": null,
            "grid_auto_rows": null,
            "grid_column": null,
            "grid_gap": null,
            "grid_row": null,
            "grid_template_areas": null,
            "grid_template_columns": null,
            "grid_template_rows": null,
            "height": null,
            "justify_content": null,
            "justify_items": null,
            "left": null,
            "margin": null,
            "max_height": null,
            "max_width": null,
            "min_height": null,
            "min_width": null,
            "object_fit": null,
            "object_position": null,
            "order": null,
            "overflow": null,
            "overflow_x": null,
            "overflow_y": null,
            "padding": null,
            "right": null,
            "top": null,
            "visibility": null,
            "width": null
          }
        },
        "26d4d6be501e4e56978e3a259eac7221": {
          "model_module": "@jupyter-widgets/controls",
          "model_name": "DescriptionStyleModel",
          "model_module_version": "1.5.0",
          "state": {
            "_model_module": "@jupyter-widgets/controls",
            "_model_module_version": "1.5.0",
            "_model_name": "DescriptionStyleModel",
            "_view_count": null,
            "_view_module": "@jupyter-widgets/base",
            "_view_module_version": "1.2.0",
            "_view_name": "StyleView",
            "description_width": ""
          }
        },
        "a57721b42c6d4db59d1dc822d6f9d295": {
          "model_module": "@jupyter-widgets/controls",
          "model_name": "HBoxModel",
          "model_module_version": "1.5.0",
          "state": {
            "_dom_classes": [],
            "_model_module": "@jupyter-widgets/controls",
            "_model_module_version": "1.5.0",
            "_model_name": "HBoxModel",
            "_view_count": null,
            "_view_module": "@jupyter-widgets/controls",
            "_view_module_version": "1.5.0",
            "_view_name": "HBoxView",
            "box_style": "",
            "children": [
              "IPY_MODEL_835aa66a979c49b6a86817ef1a5bd594",
              "IPY_MODEL_70456d59257b48b6aed9361a4217430d",
              "IPY_MODEL_c40eaadf55134a76bc300a8287602fe7"
            ],
            "layout": "IPY_MODEL_e451837c05414f1d88092ba852bab4ca"
          }
        },
        "835aa66a979c49b6a86817ef1a5bd594": {
          "model_module": "@jupyter-widgets/controls",
          "model_name": "HTMLModel",
          "model_module_version": "1.5.0",
          "state": {
            "_dom_classes": [],
            "_model_module": "@jupyter-widgets/controls",
            "_model_module_version": "1.5.0",
            "_model_name": "HTMLModel",
            "_view_count": null,
            "_view_module": "@jupyter-widgets/controls",
            "_view_module_version": "1.5.0",
            "_view_name": "HTMLView",
            "description": "",
            "description_tooltip": null,
            "layout": "IPY_MODEL_4ef9d5595b4f485884206ec944615ec0",
            "placeholder": "​",
            "style": "IPY_MODEL_b194adfe3add47ac836a14f3545eee3d",
            "value": "Shuffling /root/tensorflow_datasets/imdb_reviews/plain_text/1.0.0.incompleteVHNWAV/imdb_reviews-test.tfrecord*...:  54%"
          }
        },
        "70456d59257b48b6aed9361a4217430d": {
          "model_module": "@jupyter-widgets/controls",
          "model_name": "FloatProgressModel",
          "model_module_version": "1.5.0",
          "state": {
            "_dom_classes": [],
            "_model_module": "@jupyter-widgets/controls",
            "_model_module_version": "1.5.0",
            "_model_name": "FloatProgressModel",
            "_view_count": null,
            "_view_module": "@jupyter-widgets/controls",
            "_view_module_version": "1.5.0",
            "_view_name": "ProgressView",
            "bar_style": "",
            "description": "",
            "description_tooltip": null,
            "layout": "IPY_MODEL_cb07160e8fab4670aeb15f14808a7a5c",
            "max": 25000,
            "min": 0,
            "orientation": "horizontal",
            "style": "IPY_MODEL_5726d85e5e09472fb822e41fdeb081e5",
            "value": 25000
          }
        },
        "c40eaadf55134a76bc300a8287602fe7": {
          "model_module": "@jupyter-widgets/controls",
          "model_name": "HTMLModel",
          "model_module_version": "1.5.0",
          "state": {
            "_dom_classes": [],
            "_model_module": "@jupyter-widgets/controls",
            "_model_module_version": "1.5.0",
            "_model_name": "HTMLModel",
            "_view_count": null,
            "_view_module": "@jupyter-widgets/controls",
            "_view_module_version": "1.5.0",
            "_view_name": "HTMLView",
            "description": "",
            "description_tooltip": null,
            "layout": "IPY_MODEL_4f6abedba9bb47539fe3d4a61237f085",
            "placeholder": "​",
            "style": "IPY_MODEL_ed8ac28233ff4978a5837fa638d38d01",
            "value": " 13545/25000 [00:00&lt;00:00, 135429.79 examples/s]"
          }
        },
        "e451837c05414f1d88092ba852bab4ca": {
          "model_module": "@jupyter-widgets/base",
          "model_name": "LayoutModel",
          "model_module_version": "1.2.0",
          "state": {
            "_model_module": "@jupyter-widgets/base",
            "_model_module_version": "1.2.0",
            "_model_name": "LayoutModel",
            "_view_count": null,
            "_view_module": "@jupyter-widgets/base",
            "_view_module_version": "1.2.0",
            "_view_name": "LayoutView",
            "align_content": null,
            "align_items": null,
            "align_self": null,
            "border": null,
            "bottom": null,
            "display": null,
            "flex": null,
            "flex_flow": null,
            "grid_area": null,
            "grid_auto_columns": null,
            "grid_auto_flow": null,
            "grid_auto_rows": null,
            "grid_column": null,
            "grid_gap": null,
            "grid_row": null,
            "grid_template_areas": null,
            "grid_template_columns": null,
            "grid_template_rows": null,
            "height": null,
            "justify_content": null,
            "justify_items": null,
            "left": null,
            "margin": null,
            "max_height": null,
            "max_width": null,
            "min_height": null,
            "min_width": null,
            "object_fit": null,
            "object_position": null,
            "order": null,
            "overflow": null,
            "overflow_x": null,
            "overflow_y": null,
            "padding": null,
            "right": null,
            "top": null,
            "visibility": "hidden",
            "width": null
          }
        },
        "4ef9d5595b4f485884206ec944615ec0": {
          "model_module": "@jupyter-widgets/base",
          "model_name": "LayoutModel",
          "model_module_version": "1.2.0",
          "state": {
            "_model_module": "@jupyter-widgets/base",
            "_model_module_version": "1.2.0",
            "_model_name": "LayoutModel",
            "_view_count": null,
            "_view_module": "@jupyter-widgets/base",
            "_view_module_version": "1.2.0",
            "_view_name": "LayoutView",
            "align_content": null,
            "align_items": null,
            "align_self": null,
            "border": null,
            "bottom": null,
            "display": null,
            "flex": null,
            "flex_flow": null,
            "grid_area": null,
            "grid_auto_columns": null,
            "grid_auto_flow": null,
            "grid_auto_rows": null,
            "grid_column": null,
            "grid_gap": null,
            "grid_row": null,
            "grid_template_areas": null,
            "grid_template_columns": null,
            "grid_template_rows": null,
            "height": null,
            "justify_content": null,
            "justify_items": null,
            "left": null,
            "margin": null,
            "max_height": null,
            "max_width": null,
            "min_height": null,
            "min_width": null,
            "object_fit": null,
            "object_position": null,
            "order": null,
            "overflow": null,
            "overflow_x": null,
            "overflow_y": null,
            "padding": null,
            "right": null,
            "top": null,
            "visibility": null,
            "width": null
          }
        },
        "b194adfe3add47ac836a14f3545eee3d": {
          "model_module": "@jupyter-widgets/controls",
          "model_name": "DescriptionStyleModel",
          "model_module_version": "1.5.0",
          "state": {
            "_model_module": "@jupyter-widgets/controls",
            "_model_module_version": "1.5.0",
            "_model_name": "DescriptionStyleModel",
            "_view_count": null,
            "_view_module": "@jupyter-widgets/base",
            "_view_module_version": "1.2.0",
            "_view_name": "StyleView",
            "description_width": ""
          }
        },
        "cb07160e8fab4670aeb15f14808a7a5c": {
          "model_module": "@jupyter-widgets/base",
          "model_name": "LayoutModel",
          "model_module_version": "1.2.0",
          "state": {
            "_model_module": "@jupyter-widgets/base",
            "_model_module_version": "1.2.0",
            "_model_name": "LayoutModel",
            "_view_count": null,
            "_view_module": "@jupyter-widgets/base",
            "_view_module_version": "1.2.0",
            "_view_name": "LayoutView",
            "align_content": null,
            "align_items": null,
            "align_self": null,
            "border": null,
            "bottom": null,
            "display": null,
            "flex": null,
            "flex_flow": null,
            "grid_area": null,
            "grid_auto_columns": null,
            "grid_auto_flow": null,
            "grid_auto_rows": null,
            "grid_column": null,
            "grid_gap": null,
            "grid_row": null,
            "grid_template_areas": null,
            "grid_template_columns": null,
            "grid_template_rows": null,
            "height": null,
            "justify_content": null,
            "justify_items": null,
            "left": null,
            "margin": null,
            "max_height": null,
            "max_width": null,
            "min_height": null,
            "min_width": null,
            "object_fit": null,
            "object_position": null,
            "order": null,
            "overflow": null,
            "overflow_x": null,
            "overflow_y": null,
            "padding": null,
            "right": null,
            "top": null,
            "visibility": null,
            "width": null
          }
        },
        "5726d85e5e09472fb822e41fdeb081e5": {
          "model_module": "@jupyter-widgets/controls",
          "model_name": "ProgressStyleModel",
          "model_module_version": "1.5.0",
          "state": {
            "_model_module": "@jupyter-widgets/controls",
            "_model_module_version": "1.5.0",
            "_model_name": "ProgressStyleModel",
            "_view_count": null,
            "_view_module": "@jupyter-widgets/base",
            "_view_module_version": "1.2.0",
            "_view_name": "StyleView",
            "bar_color": null,
            "description_width": ""
          }
        },
        "4f6abedba9bb47539fe3d4a61237f085": {
          "model_module": "@jupyter-widgets/base",
          "model_name": "LayoutModel",
          "model_module_version": "1.2.0",
          "state": {
            "_model_module": "@jupyter-widgets/base",
            "_model_module_version": "1.2.0",
            "_model_name": "LayoutModel",
            "_view_count": null,
            "_view_module": "@jupyter-widgets/base",
            "_view_module_version": "1.2.0",
            "_view_name": "LayoutView",
            "align_content": null,
            "align_items": null,
            "align_self": null,
            "border": null,
            "bottom": null,
            "display": null,
            "flex": null,
            "flex_flow": null,
            "grid_area": null,
            "grid_auto_columns": null,
            "grid_auto_flow": null,
            "grid_auto_rows": null,
            "grid_column": null,
            "grid_gap": null,
            "grid_row": null,
            "grid_template_areas": null,
            "grid_template_columns": null,
            "grid_template_rows": null,
            "height": null,
            "justify_content": null,
            "justify_items": null,
            "left": null,
            "margin": null,
            "max_height": null,
            "max_width": null,
            "min_height": null,
            "min_width": null,
            "object_fit": null,
            "object_position": null,
            "order": null,
            "overflow": null,
            "overflow_x": null,
            "overflow_y": null,
            "padding": null,
            "right": null,
            "top": null,
            "visibility": null,
            "width": null
          }
        },
        "ed8ac28233ff4978a5837fa638d38d01": {
          "model_module": "@jupyter-widgets/controls",
          "model_name": "DescriptionStyleModel",
          "model_module_version": "1.5.0",
          "state": {
            "_model_module": "@jupyter-widgets/controls",
            "_model_module_version": "1.5.0",
            "_model_name": "DescriptionStyleModel",
            "_view_count": null,
            "_view_module": "@jupyter-widgets/base",
            "_view_module_version": "1.2.0",
            "_view_name": "StyleView",
            "description_width": ""
          }
        },
        "35e586eda90147c28b3c98f49681088c": {
          "model_module": "@jupyter-widgets/controls",
          "model_name": "HBoxModel",
          "model_module_version": "1.5.0",
          "state": {
            "_dom_classes": [],
            "_model_module": "@jupyter-widgets/controls",
            "_model_module_version": "1.5.0",
            "_model_name": "HBoxModel",
            "_view_count": null,
            "_view_module": "@jupyter-widgets/controls",
            "_view_module_version": "1.5.0",
            "_view_name": "HBoxView",
            "box_style": "",
            "children": [
              "IPY_MODEL_f2038564063a42e79a2cba7de70b7888",
              "IPY_MODEL_03ac8d87cd2a4f2e92b848762c8eee45",
              "IPY_MODEL_700bd4cde4994103acaf96dcf359b6db"
            ],
            "layout": "IPY_MODEL_62076ffe9f994d67b0271e00007bfac7"
          }
        },
        "f2038564063a42e79a2cba7de70b7888": {
          "model_module": "@jupyter-widgets/controls",
          "model_name": "HTMLModel",
          "model_module_version": "1.5.0",
          "state": {
            "_dom_classes": [],
            "_model_module": "@jupyter-widgets/controls",
            "_model_module_version": "1.5.0",
            "_model_name": "HTMLModel",
            "_view_count": null,
            "_view_module": "@jupyter-widgets/controls",
            "_view_module_version": "1.5.0",
            "_view_name": "HTMLView",
            "description": "",
            "description_tooltip": null,
            "layout": "IPY_MODEL_c3690b3dd4dd48ef8f1e63562e59fd0f",
            "placeholder": "​",
            "style": "IPY_MODEL_a7d8a2b22638403f95aac0383ea66298",
            "value": "Generating unsupervised examples...:  99%"
          }
        },
        "03ac8d87cd2a4f2e92b848762c8eee45": {
          "model_module": "@jupyter-widgets/controls",
          "model_name": "FloatProgressModel",
          "model_module_version": "1.5.0",
          "state": {
            "_dom_classes": [],
            "_model_module": "@jupyter-widgets/controls",
            "_model_module_version": "1.5.0",
            "_model_name": "FloatProgressModel",
            "_view_count": null,
            "_view_module": "@jupyter-widgets/controls",
            "_view_module_version": "1.5.0",
            "_view_name": "ProgressView",
            "bar_style": "",
            "description": "",
            "description_tooltip": null,
            "layout": "IPY_MODEL_3ee4f6beb0854f508b7cca3c33a2f150",
            "max": 50000,
            "min": 0,
            "orientation": "horizontal",
            "style": "IPY_MODEL_9c00358e07b34fb38ee160d9f37566f1",
            "value": 50000
          }
        },
        "700bd4cde4994103acaf96dcf359b6db": {
          "model_module": "@jupyter-widgets/controls",
          "model_name": "HTMLModel",
          "model_module_version": "1.5.0",
          "state": {
            "_dom_classes": [],
            "_model_module": "@jupyter-widgets/controls",
            "_model_module_version": "1.5.0",
            "_model_name": "HTMLModel",
            "_view_count": null,
            "_view_module": "@jupyter-widgets/controls",
            "_view_module_version": "1.5.0",
            "_view_name": "HTMLView",
            "description": "",
            "description_tooltip": null,
            "layout": "IPY_MODEL_fffaf9559d444cbbbc080f43cfedd445",
            "placeholder": "​",
            "style": "IPY_MODEL_3799b400f6e1430586c53b5b901c636f",
            "value": " 49604/50000 [00:17&lt;00:00, 4287.30 examples/s]"
          }
        },
        "62076ffe9f994d67b0271e00007bfac7": {
          "model_module": "@jupyter-widgets/base",
          "model_name": "LayoutModel",
          "model_module_version": "1.2.0",
          "state": {
            "_model_module": "@jupyter-widgets/base",
            "_model_module_version": "1.2.0",
            "_model_name": "LayoutModel",
            "_view_count": null,
            "_view_module": "@jupyter-widgets/base",
            "_view_module_version": "1.2.0",
            "_view_name": "LayoutView",
            "align_content": null,
            "align_items": null,
            "align_self": null,
            "border": null,
            "bottom": null,
            "display": null,
            "flex": null,
            "flex_flow": null,
            "grid_area": null,
            "grid_auto_columns": null,
            "grid_auto_flow": null,
            "grid_auto_rows": null,
            "grid_column": null,
            "grid_gap": null,
            "grid_row": null,
            "grid_template_areas": null,
            "grid_template_columns": null,
            "grid_template_rows": null,
            "height": null,
            "justify_content": null,
            "justify_items": null,
            "left": null,
            "margin": null,
            "max_height": null,
            "max_width": null,
            "min_height": null,
            "min_width": null,
            "object_fit": null,
            "object_position": null,
            "order": null,
            "overflow": null,
            "overflow_x": null,
            "overflow_y": null,
            "padding": null,
            "right": null,
            "top": null,
            "visibility": "hidden",
            "width": null
          }
        },
        "c3690b3dd4dd48ef8f1e63562e59fd0f": {
          "model_module": "@jupyter-widgets/base",
          "model_name": "LayoutModel",
          "model_module_version": "1.2.0",
          "state": {
            "_model_module": "@jupyter-widgets/base",
            "_model_module_version": "1.2.0",
            "_model_name": "LayoutModel",
            "_view_count": null,
            "_view_module": "@jupyter-widgets/base",
            "_view_module_version": "1.2.0",
            "_view_name": "LayoutView",
            "align_content": null,
            "align_items": null,
            "align_self": null,
            "border": null,
            "bottom": null,
            "display": null,
            "flex": null,
            "flex_flow": null,
            "grid_area": null,
            "grid_auto_columns": null,
            "grid_auto_flow": null,
            "grid_auto_rows": null,
            "grid_column": null,
            "grid_gap": null,
            "grid_row": null,
            "grid_template_areas": null,
            "grid_template_columns": null,
            "grid_template_rows": null,
            "height": null,
            "justify_content": null,
            "justify_items": null,
            "left": null,
            "margin": null,
            "max_height": null,
            "max_width": null,
            "min_height": null,
            "min_width": null,
            "object_fit": null,
            "object_position": null,
            "order": null,
            "overflow": null,
            "overflow_x": null,
            "overflow_y": null,
            "padding": null,
            "right": null,
            "top": null,
            "visibility": null,
            "width": null
          }
        },
        "a7d8a2b22638403f95aac0383ea66298": {
          "model_module": "@jupyter-widgets/controls",
          "model_name": "DescriptionStyleModel",
          "model_module_version": "1.5.0",
          "state": {
            "_model_module": "@jupyter-widgets/controls",
            "_model_module_version": "1.5.0",
            "_model_name": "DescriptionStyleModel",
            "_view_count": null,
            "_view_module": "@jupyter-widgets/base",
            "_view_module_version": "1.2.0",
            "_view_name": "StyleView",
            "description_width": ""
          }
        },
        "3ee4f6beb0854f508b7cca3c33a2f150": {
          "model_module": "@jupyter-widgets/base",
          "model_name": "LayoutModel",
          "model_module_version": "1.2.0",
          "state": {
            "_model_module": "@jupyter-widgets/base",
            "_model_module_version": "1.2.0",
            "_model_name": "LayoutModel",
            "_view_count": null,
            "_view_module": "@jupyter-widgets/base",
            "_view_module_version": "1.2.0",
            "_view_name": "LayoutView",
            "align_content": null,
            "align_items": null,
            "align_self": null,
            "border": null,
            "bottom": null,
            "display": null,
            "flex": null,
            "flex_flow": null,
            "grid_area": null,
            "grid_auto_columns": null,
            "grid_auto_flow": null,
            "grid_auto_rows": null,
            "grid_column": null,
            "grid_gap": null,
            "grid_row": null,
            "grid_template_areas": null,
            "grid_template_columns": null,
            "grid_template_rows": null,
            "height": null,
            "justify_content": null,
            "justify_items": null,
            "left": null,
            "margin": null,
            "max_height": null,
            "max_width": null,
            "min_height": null,
            "min_width": null,
            "object_fit": null,
            "object_position": null,
            "order": null,
            "overflow": null,
            "overflow_x": null,
            "overflow_y": null,
            "padding": null,
            "right": null,
            "top": null,
            "visibility": null,
            "width": null
          }
        },
        "9c00358e07b34fb38ee160d9f37566f1": {
          "model_module": "@jupyter-widgets/controls",
          "model_name": "ProgressStyleModel",
          "model_module_version": "1.5.0",
          "state": {
            "_model_module": "@jupyter-widgets/controls",
            "_model_module_version": "1.5.0",
            "_model_name": "ProgressStyleModel",
            "_view_count": null,
            "_view_module": "@jupyter-widgets/base",
            "_view_module_version": "1.2.0",
            "_view_name": "StyleView",
            "bar_color": null,
            "description_width": ""
          }
        },
        "fffaf9559d444cbbbc080f43cfedd445": {
          "model_module": "@jupyter-widgets/base",
          "model_name": "LayoutModel",
          "model_module_version": "1.2.0",
          "state": {
            "_model_module": "@jupyter-widgets/base",
            "_model_module_version": "1.2.0",
            "_model_name": "LayoutModel",
            "_view_count": null,
            "_view_module": "@jupyter-widgets/base",
            "_view_module_version": "1.2.0",
            "_view_name": "LayoutView",
            "align_content": null,
            "align_items": null,
            "align_self": null,
            "border": null,
            "bottom": null,
            "display": null,
            "flex": null,
            "flex_flow": null,
            "grid_area": null,
            "grid_auto_columns": null,
            "grid_auto_flow": null,
            "grid_auto_rows": null,
            "grid_column": null,
            "grid_gap": null,
            "grid_row": null,
            "grid_template_areas": null,
            "grid_template_columns": null,
            "grid_template_rows": null,
            "height": null,
            "justify_content": null,
            "justify_items": null,
            "left": null,
            "margin": null,
            "max_height": null,
            "max_width": null,
            "min_height": null,
            "min_width": null,
            "object_fit": null,
            "object_position": null,
            "order": null,
            "overflow": null,
            "overflow_x": null,
            "overflow_y": null,
            "padding": null,
            "right": null,
            "top": null,
            "visibility": null,
            "width": null
          }
        },
        "3799b400f6e1430586c53b5b901c636f": {
          "model_module": "@jupyter-widgets/controls",
          "model_name": "DescriptionStyleModel",
          "model_module_version": "1.5.0",
          "state": {
            "_model_module": "@jupyter-widgets/controls",
            "_model_module_version": "1.5.0",
            "_model_name": "DescriptionStyleModel",
            "_view_count": null,
            "_view_module": "@jupyter-widgets/base",
            "_view_module_version": "1.2.0",
            "_view_name": "StyleView",
            "description_width": ""
          }
        },
        "27a25e22531a4a62bda60c9d8c932974": {
          "model_module": "@jupyter-widgets/controls",
          "model_name": "HBoxModel",
          "model_module_version": "1.5.0",
          "state": {
            "_dom_classes": [],
            "_model_module": "@jupyter-widgets/controls",
            "_model_module_version": "1.5.0",
            "_model_name": "HBoxModel",
            "_view_count": null,
            "_view_module": "@jupyter-widgets/controls",
            "_view_module_version": "1.5.0",
            "_view_name": "HBoxView",
            "box_style": "",
            "children": [
              "IPY_MODEL_10e5b2d6888d493d95dcd1d7c49bf6ca",
              "IPY_MODEL_7957c97aabea4ea6b1cd328f65bf0e2c",
              "IPY_MODEL_bcc1d335f49c4194a1945f9d4abcc49d"
            ],
            "layout": "IPY_MODEL_583333a3ecf24d179986f2271f9aa298"
          }
        },
        "10e5b2d6888d493d95dcd1d7c49bf6ca": {
          "model_module": "@jupyter-widgets/controls",
          "model_name": "HTMLModel",
          "model_module_version": "1.5.0",
          "state": {
            "_dom_classes": [],
            "_model_module": "@jupyter-widgets/controls",
            "_model_module_version": "1.5.0",
            "_model_name": "HTMLModel",
            "_view_count": null,
            "_view_module": "@jupyter-widgets/controls",
            "_view_module_version": "1.5.0",
            "_view_name": "HTMLView",
            "description": "",
            "description_tooltip": null,
            "layout": "IPY_MODEL_806c642810824fbe9eec92c3dae387c5",
            "placeholder": "​",
            "style": "IPY_MODEL_c88761bc40d64c469610dbed97222507",
            "value": "Shuffling /root/tensorflow_datasets/imdb_reviews/plain_text/1.0.0.incompleteVHNWAV/imdb_reviews-unsupervised.tfrecord*...:  64%"
          }
        },
        "7957c97aabea4ea6b1cd328f65bf0e2c": {
          "model_module": "@jupyter-widgets/controls",
          "model_name": "FloatProgressModel",
          "model_module_version": "1.5.0",
          "state": {
            "_dom_classes": [],
            "_model_module": "@jupyter-widgets/controls",
            "_model_module_version": "1.5.0",
            "_model_name": "FloatProgressModel",
            "_view_count": null,
            "_view_module": "@jupyter-widgets/controls",
            "_view_module_version": "1.5.0",
            "_view_name": "ProgressView",
            "bar_style": "",
            "description": "",
            "description_tooltip": null,
            "layout": "IPY_MODEL_ff8c209435d74dbf8989c33d6ce8d6d8",
            "max": 50000,
            "min": 0,
            "orientation": "horizontal",
            "style": "IPY_MODEL_fad0f4c31cc74fee832839eb51da3396",
            "value": 50000
          }
        },
        "bcc1d335f49c4194a1945f9d4abcc49d": {
          "model_module": "@jupyter-widgets/controls",
          "model_name": "HTMLModel",
          "model_module_version": "1.5.0",
          "state": {
            "_dom_classes": [],
            "_model_module": "@jupyter-widgets/controls",
            "_model_module_version": "1.5.0",
            "_model_name": "HTMLModel",
            "_view_count": null,
            "_view_module": "@jupyter-widgets/controls",
            "_view_module_version": "1.5.0",
            "_view_name": "HTMLView",
            "description": "",
            "description_tooltip": null,
            "layout": "IPY_MODEL_b85e5be2c2a444ad90674bcd76b4897d",
            "placeholder": "​",
            "style": "IPY_MODEL_86d3d16420cc4296a87408d5358e1f9d",
            "value": " 31990/50000 [00:00&lt;00:00, 174516.55 examples/s]"
          }
        },
        "583333a3ecf24d179986f2271f9aa298": {
          "model_module": "@jupyter-widgets/base",
          "model_name": "LayoutModel",
          "model_module_version": "1.2.0",
          "state": {
            "_model_module": "@jupyter-widgets/base",
            "_model_module_version": "1.2.0",
            "_model_name": "LayoutModel",
            "_view_count": null,
            "_view_module": "@jupyter-widgets/base",
            "_view_module_version": "1.2.0",
            "_view_name": "LayoutView",
            "align_content": null,
            "align_items": null,
            "align_self": null,
            "border": null,
            "bottom": null,
            "display": null,
            "flex": null,
            "flex_flow": null,
            "grid_area": null,
            "grid_auto_columns": null,
            "grid_auto_flow": null,
            "grid_auto_rows": null,
            "grid_column": null,
            "grid_gap": null,
            "grid_row": null,
            "grid_template_areas": null,
            "grid_template_columns": null,
            "grid_template_rows": null,
            "height": null,
            "justify_content": null,
            "justify_items": null,
            "left": null,
            "margin": null,
            "max_height": null,
            "max_width": null,
            "min_height": null,
            "min_width": null,
            "object_fit": null,
            "object_position": null,
            "order": null,
            "overflow": null,
            "overflow_x": null,
            "overflow_y": null,
            "padding": null,
            "right": null,
            "top": null,
            "visibility": "hidden",
            "width": null
          }
        },
        "806c642810824fbe9eec92c3dae387c5": {
          "model_module": "@jupyter-widgets/base",
          "model_name": "LayoutModel",
          "model_module_version": "1.2.0",
          "state": {
            "_model_module": "@jupyter-widgets/base",
            "_model_module_version": "1.2.0",
            "_model_name": "LayoutModel",
            "_view_count": null,
            "_view_module": "@jupyter-widgets/base",
            "_view_module_version": "1.2.0",
            "_view_name": "LayoutView",
            "align_content": null,
            "align_items": null,
            "align_self": null,
            "border": null,
            "bottom": null,
            "display": null,
            "flex": null,
            "flex_flow": null,
            "grid_area": null,
            "grid_auto_columns": null,
            "grid_auto_flow": null,
            "grid_auto_rows": null,
            "grid_column": null,
            "grid_gap": null,
            "grid_row": null,
            "grid_template_areas": null,
            "grid_template_columns": null,
            "grid_template_rows": null,
            "height": null,
            "justify_content": null,
            "justify_items": null,
            "left": null,
            "margin": null,
            "max_height": null,
            "max_width": null,
            "min_height": null,
            "min_width": null,
            "object_fit": null,
            "object_position": null,
            "order": null,
            "overflow": null,
            "overflow_x": null,
            "overflow_y": null,
            "padding": null,
            "right": null,
            "top": null,
            "visibility": null,
            "width": null
          }
        },
        "c88761bc40d64c469610dbed97222507": {
          "model_module": "@jupyter-widgets/controls",
          "model_name": "DescriptionStyleModel",
          "model_module_version": "1.5.0",
          "state": {
            "_model_module": "@jupyter-widgets/controls",
            "_model_module_version": "1.5.0",
            "_model_name": "DescriptionStyleModel",
            "_view_count": null,
            "_view_module": "@jupyter-widgets/base",
            "_view_module_version": "1.2.0",
            "_view_name": "StyleView",
            "description_width": ""
          }
        },
        "ff8c209435d74dbf8989c33d6ce8d6d8": {
          "model_module": "@jupyter-widgets/base",
          "model_name": "LayoutModel",
          "model_module_version": "1.2.0",
          "state": {
            "_model_module": "@jupyter-widgets/base",
            "_model_module_version": "1.2.0",
            "_model_name": "LayoutModel",
            "_view_count": null,
            "_view_module": "@jupyter-widgets/base",
            "_view_module_version": "1.2.0",
            "_view_name": "LayoutView",
            "align_content": null,
            "align_items": null,
            "align_self": null,
            "border": null,
            "bottom": null,
            "display": null,
            "flex": null,
            "flex_flow": null,
            "grid_area": null,
            "grid_auto_columns": null,
            "grid_auto_flow": null,
            "grid_auto_rows": null,
            "grid_column": null,
            "grid_gap": null,
            "grid_row": null,
            "grid_template_areas": null,
            "grid_template_columns": null,
            "grid_template_rows": null,
            "height": null,
            "justify_content": null,
            "justify_items": null,
            "left": null,
            "margin": null,
            "max_height": null,
            "max_width": null,
            "min_height": null,
            "min_width": null,
            "object_fit": null,
            "object_position": null,
            "order": null,
            "overflow": null,
            "overflow_x": null,
            "overflow_y": null,
            "padding": null,
            "right": null,
            "top": null,
            "visibility": null,
            "width": null
          }
        },
        "fad0f4c31cc74fee832839eb51da3396": {
          "model_module": "@jupyter-widgets/controls",
          "model_name": "ProgressStyleModel",
          "model_module_version": "1.5.0",
          "state": {
            "_model_module": "@jupyter-widgets/controls",
            "_model_module_version": "1.5.0",
            "_model_name": "ProgressStyleModel",
            "_view_count": null,
            "_view_module": "@jupyter-widgets/base",
            "_view_module_version": "1.2.0",
            "_view_name": "StyleView",
            "bar_color": null,
            "description_width": ""
          }
        },
        "b85e5be2c2a444ad90674bcd76b4897d": {
          "model_module": "@jupyter-widgets/base",
          "model_name": "LayoutModel",
          "model_module_version": "1.2.0",
          "state": {
            "_model_module": "@jupyter-widgets/base",
            "_model_module_version": "1.2.0",
            "_model_name": "LayoutModel",
            "_view_count": null,
            "_view_module": "@jupyter-widgets/base",
            "_view_module_version": "1.2.0",
            "_view_name": "LayoutView",
            "align_content": null,
            "align_items": null,
            "align_self": null,
            "border": null,
            "bottom": null,
            "display": null,
            "flex": null,
            "flex_flow": null,
            "grid_area": null,
            "grid_auto_columns": null,
            "grid_auto_flow": null,
            "grid_auto_rows": null,
            "grid_column": null,
            "grid_gap": null,
            "grid_row": null,
            "grid_template_areas": null,
            "grid_template_columns": null,
            "grid_template_rows": null,
            "height": null,
            "justify_content": null,
            "justify_items": null,
            "left": null,
            "margin": null,
            "max_height": null,
            "max_width": null,
            "min_height": null,
            "min_width": null,
            "object_fit": null,
            "object_position": null,
            "order": null,
            "overflow": null,
            "overflow_x": null,
            "overflow_y": null,
            "padding": null,
            "right": null,
            "top": null,
            "visibility": null,
            "width": null
          }
        },
        "86d3d16420cc4296a87408d5358e1f9d": {
          "model_module": "@jupyter-widgets/controls",
          "model_name": "DescriptionStyleModel",
          "model_module_version": "1.5.0",
          "state": {
            "_model_module": "@jupyter-widgets/controls",
            "_model_module_version": "1.5.0",
            "_model_name": "DescriptionStyleModel",
            "_view_count": null,
            "_view_module": "@jupyter-widgets/base",
            "_view_module_version": "1.2.0",
            "_view_name": "StyleView",
            "description_width": ""
          }
        },
        "d78005d8296e405ca29edda808524a0d": {
          "model_module": "@jupyter-widgets/controls",
          "model_name": "HBoxModel",
          "model_module_version": "1.5.0",
          "state": {
            "_dom_classes": [],
            "_model_module": "@jupyter-widgets/controls",
            "_model_module_version": "1.5.0",
            "_model_name": "HBoxModel",
            "_view_count": null,
            "_view_module": "@jupyter-widgets/controls",
            "_view_module_version": "1.5.0",
            "_view_name": "HBoxView",
            "box_style": "",
            "children": [
              "IPY_MODEL_5b65fe19eabc4abab2c843ce60e25fb2",
              "IPY_MODEL_65dafe0e95a14f01b44866ca43a48b4a",
              "IPY_MODEL_068fb162a44b4d0b8781e062a9eed3e8"
            ],
            "layout": "IPY_MODEL_e4a75800d07b4d1cb4c6e77565d5f4a0"
          }
        },
        "5b65fe19eabc4abab2c843ce60e25fb2": {
          "model_module": "@jupyter-widgets/controls",
          "model_name": "HTMLModel",
          "model_module_version": "1.5.0",
          "state": {
            "_dom_classes": [],
            "_model_module": "@jupyter-widgets/controls",
            "_model_module_version": "1.5.0",
            "_model_name": "HTMLModel",
            "_view_count": null,
            "_view_module": "@jupyter-widgets/controls",
            "_view_module_version": "1.5.0",
            "_view_name": "HTMLView",
            "description": "",
            "description_tooltip": null,
            "layout": "IPY_MODEL_042da8ea648f408db239f7ec860a9e83",
            "placeholder": "​",
            "style": "IPY_MODEL_db7b774a4ee1414fb01740f07672555e",
            "value": "Downloading: 100%"
          }
        },
        "65dafe0e95a14f01b44866ca43a48b4a": {
          "model_module": "@jupyter-widgets/controls",
          "model_name": "FloatProgressModel",
          "model_module_version": "1.5.0",
          "state": {
            "_dom_classes": [],
            "_model_module": "@jupyter-widgets/controls",
            "_model_module_version": "1.5.0",
            "_model_name": "FloatProgressModel",
            "_view_count": null,
            "_view_module": "@jupyter-widgets/controls",
            "_view_module_version": "1.5.0",
            "_view_name": "ProgressView",
            "bar_style": "success",
            "description": "",
            "description_tooltip": null,
            "layout": "IPY_MODEL_b2f507b422744835b0a8eb0b030bc63d",
            "max": 213450,
            "min": 0,
            "orientation": "horizontal",
            "style": "IPY_MODEL_2d54cf9f7a524f4c8504ffb545f9fd7f",
            "value": 213450
          }
        },
        "068fb162a44b4d0b8781e062a9eed3e8": {
          "model_module": "@jupyter-widgets/controls",
          "model_name": "HTMLModel",
          "model_module_version": "1.5.0",
          "state": {
            "_dom_classes": [],
            "_model_module": "@jupyter-widgets/controls",
            "_model_module_version": "1.5.0",
            "_model_name": "HTMLModel",
            "_view_count": null,
            "_view_module": "@jupyter-widgets/controls",
            "_view_module_version": "1.5.0",
            "_view_name": "HTMLView",
            "description": "",
            "description_tooltip": null,
            "layout": "IPY_MODEL_e155fa9cf60b4e4c871b0d5d541a444d",
            "placeholder": "​",
            "style": "IPY_MODEL_23da74b09016422eab2ede0d226563bd",
            "value": " 208k/208k [00:00&lt;00:00, 3.04MB/s]"
          }
        },
        "e4a75800d07b4d1cb4c6e77565d5f4a0": {
          "model_module": "@jupyter-widgets/base",
          "model_name": "LayoutModel",
          "model_module_version": "1.2.0",
          "state": {
            "_model_module": "@jupyter-widgets/base",
            "_model_module_version": "1.2.0",
            "_model_name": "LayoutModel",
            "_view_count": null,
            "_view_module": "@jupyter-widgets/base",
            "_view_module_version": "1.2.0",
            "_view_name": "LayoutView",
            "align_content": null,
            "align_items": null,
            "align_self": null,
            "border": null,
            "bottom": null,
            "display": null,
            "flex": null,
            "flex_flow": null,
            "grid_area": null,
            "grid_auto_columns": null,
            "grid_auto_flow": null,
            "grid_auto_rows": null,
            "grid_column": null,
            "grid_gap": null,
            "grid_row": null,
            "grid_template_areas": null,
            "grid_template_columns": null,
            "grid_template_rows": null,
            "height": null,
            "justify_content": null,
            "justify_items": null,
            "left": null,
            "margin": null,
            "max_height": null,
            "max_width": null,
            "min_height": null,
            "min_width": null,
            "object_fit": null,
            "object_position": null,
            "order": null,
            "overflow": null,
            "overflow_x": null,
            "overflow_y": null,
            "padding": null,
            "right": null,
            "top": null,
            "visibility": null,
            "width": null
          }
        },
        "042da8ea648f408db239f7ec860a9e83": {
          "model_module": "@jupyter-widgets/base",
          "model_name": "LayoutModel",
          "model_module_version": "1.2.0",
          "state": {
            "_model_module": "@jupyter-widgets/base",
            "_model_module_version": "1.2.0",
            "_model_name": "LayoutModel",
            "_view_count": null,
            "_view_module": "@jupyter-widgets/base",
            "_view_module_version": "1.2.0",
            "_view_name": "LayoutView",
            "align_content": null,
            "align_items": null,
            "align_self": null,
            "border": null,
            "bottom": null,
            "display": null,
            "flex": null,
            "flex_flow": null,
            "grid_area": null,
            "grid_auto_columns": null,
            "grid_auto_flow": null,
            "grid_auto_rows": null,
            "grid_column": null,
            "grid_gap": null,
            "grid_row": null,
            "grid_template_areas": null,
            "grid_template_columns": null,
            "grid_template_rows": null,
            "height": null,
            "justify_content": null,
            "justify_items": null,
            "left": null,
            "margin": null,
            "max_height": null,
            "max_width": null,
            "min_height": null,
            "min_width": null,
            "object_fit": null,
            "object_position": null,
            "order": null,
            "overflow": null,
            "overflow_x": null,
            "overflow_y": null,
            "padding": null,
            "right": null,
            "top": null,
            "visibility": null,
            "width": null
          }
        },
        "db7b774a4ee1414fb01740f07672555e": {
          "model_module": "@jupyter-widgets/controls",
          "model_name": "DescriptionStyleModel",
          "model_module_version": "1.5.0",
          "state": {
            "_model_module": "@jupyter-widgets/controls",
            "_model_module_version": "1.5.0",
            "_model_name": "DescriptionStyleModel",
            "_view_count": null,
            "_view_module": "@jupyter-widgets/base",
            "_view_module_version": "1.2.0",
            "_view_name": "StyleView",
            "description_width": ""
          }
        },
        "b2f507b422744835b0a8eb0b030bc63d": {
          "model_module": "@jupyter-widgets/base",
          "model_name": "LayoutModel",
          "model_module_version": "1.2.0",
          "state": {
            "_model_module": "@jupyter-widgets/base",
            "_model_module_version": "1.2.0",
            "_model_name": "LayoutModel",
            "_view_count": null,
            "_view_module": "@jupyter-widgets/base",
            "_view_module_version": "1.2.0",
            "_view_name": "LayoutView",
            "align_content": null,
            "align_items": null,
            "align_self": null,
            "border": null,
            "bottom": null,
            "display": null,
            "flex": null,
            "flex_flow": null,
            "grid_area": null,
            "grid_auto_columns": null,
            "grid_auto_flow": null,
            "grid_auto_rows": null,
            "grid_column": null,
            "grid_gap": null,
            "grid_row": null,
            "grid_template_areas": null,
            "grid_template_columns": null,
            "grid_template_rows": null,
            "height": null,
            "justify_content": null,
            "justify_items": null,
            "left": null,
            "margin": null,
            "max_height": null,
            "max_width": null,
            "min_height": null,
            "min_width": null,
            "object_fit": null,
            "object_position": null,
            "order": null,
            "overflow": null,
            "overflow_x": null,
            "overflow_y": null,
            "padding": null,
            "right": null,
            "top": null,
            "visibility": null,
            "width": null
          }
        },
        "2d54cf9f7a524f4c8504ffb545f9fd7f": {
          "model_module": "@jupyter-widgets/controls",
          "model_name": "ProgressStyleModel",
          "model_module_version": "1.5.0",
          "state": {
            "_model_module": "@jupyter-widgets/controls",
            "_model_module_version": "1.5.0",
            "_model_name": "ProgressStyleModel",
            "_view_count": null,
            "_view_module": "@jupyter-widgets/base",
            "_view_module_version": "1.2.0",
            "_view_name": "StyleView",
            "bar_color": null,
            "description_width": ""
          }
        },
        "e155fa9cf60b4e4c871b0d5d541a444d": {
          "model_module": "@jupyter-widgets/base",
          "model_name": "LayoutModel",
          "model_module_version": "1.2.0",
          "state": {
            "_model_module": "@jupyter-widgets/base",
            "_model_module_version": "1.2.0",
            "_model_name": "LayoutModel",
            "_view_count": null,
            "_view_module": "@jupyter-widgets/base",
            "_view_module_version": "1.2.0",
            "_view_name": "LayoutView",
            "align_content": null,
            "align_items": null,
            "align_self": null,
            "border": null,
            "bottom": null,
            "display": null,
            "flex": null,
            "flex_flow": null,
            "grid_area": null,
            "grid_auto_columns": null,
            "grid_auto_flow": null,
            "grid_auto_rows": null,
            "grid_column": null,
            "grid_gap": null,
            "grid_row": null,
            "grid_template_areas": null,
            "grid_template_columns": null,
            "grid_template_rows": null,
            "height": null,
            "justify_content": null,
            "justify_items": null,
            "left": null,
            "margin": null,
            "max_height": null,
            "max_width": null,
            "min_height": null,
            "min_width": null,
            "object_fit": null,
            "object_position": null,
            "order": null,
            "overflow": null,
            "overflow_x": null,
            "overflow_y": null,
            "padding": null,
            "right": null,
            "top": null,
            "visibility": null,
            "width": null
          }
        },
        "23da74b09016422eab2ede0d226563bd": {
          "model_module": "@jupyter-widgets/controls",
          "model_name": "DescriptionStyleModel",
          "model_module_version": "1.5.0",
          "state": {
            "_model_module": "@jupyter-widgets/controls",
            "_model_module_version": "1.5.0",
            "_model_name": "DescriptionStyleModel",
            "_view_count": null,
            "_view_module": "@jupyter-widgets/base",
            "_view_module_version": "1.2.0",
            "_view_name": "StyleView",
            "description_width": ""
          }
        },
        "cdf9e06a4ff0456f883b29b2aa3959e2": {
          "model_module": "@jupyter-widgets/controls",
          "model_name": "HBoxModel",
          "model_module_version": "1.5.0",
          "state": {
            "_dom_classes": [],
            "_model_module": "@jupyter-widgets/controls",
            "_model_module_version": "1.5.0",
            "_model_name": "HBoxModel",
            "_view_count": null,
            "_view_module": "@jupyter-widgets/controls",
            "_view_module_version": "1.5.0",
            "_view_name": "HBoxView",
            "box_style": "",
            "children": [
              "IPY_MODEL_389beda6e6de421c84628bac0fa573fe",
              "IPY_MODEL_ad1371956c17421592da1b6e41d6fa13",
              "IPY_MODEL_ec030386c08947f7ac9238fa3d0bf55e"
            ],
            "layout": "IPY_MODEL_e5b34766103a46589156358ee3738267"
          }
        },
        "389beda6e6de421c84628bac0fa573fe": {
          "model_module": "@jupyter-widgets/controls",
          "model_name": "HTMLModel",
          "model_module_version": "1.5.0",
          "state": {
            "_dom_classes": [],
            "_model_module": "@jupyter-widgets/controls",
            "_model_module_version": "1.5.0",
            "_model_name": "HTMLModel",
            "_view_count": null,
            "_view_module": "@jupyter-widgets/controls",
            "_view_module_version": "1.5.0",
            "_view_name": "HTMLView",
            "description": "",
            "description_tooltip": null,
            "layout": "IPY_MODEL_6b7861386ad9456da25707bfa1eb9911",
            "placeholder": "​",
            "style": "IPY_MODEL_24741973c28043cb846017ddb80af68e",
            "value": "Downloading: 100%"
          }
        },
        "ad1371956c17421592da1b6e41d6fa13": {
          "model_module": "@jupyter-widgets/controls",
          "model_name": "FloatProgressModel",
          "model_module_version": "1.5.0",
          "state": {
            "_dom_classes": [],
            "_model_module": "@jupyter-widgets/controls",
            "_model_module_version": "1.5.0",
            "_model_name": "FloatProgressModel",
            "_view_count": null,
            "_view_module": "@jupyter-widgets/controls",
            "_view_module_version": "1.5.0",
            "_view_name": "ProgressView",
            "bar_style": "success",
            "description": "",
            "description_tooltip": null,
            "layout": "IPY_MODEL_3e50377586174da18ce59843c39a681e",
            "max": 49,
            "min": 0,
            "orientation": "horizontal",
            "style": "IPY_MODEL_b1024adf4bed4334b28047f6bcf7d848",
            "value": 49
          }
        },
        "ec030386c08947f7ac9238fa3d0bf55e": {
          "model_module": "@jupyter-widgets/controls",
          "model_name": "HTMLModel",
          "model_module_version": "1.5.0",
          "state": {
            "_dom_classes": [],
            "_model_module": "@jupyter-widgets/controls",
            "_model_module_version": "1.5.0",
            "_model_name": "HTMLModel",
            "_view_count": null,
            "_view_module": "@jupyter-widgets/controls",
            "_view_module_version": "1.5.0",
            "_view_name": "HTMLView",
            "description": "",
            "description_tooltip": null,
            "layout": "IPY_MODEL_39e8928436da415a8c6e2827aaf8dcbd",
            "placeholder": "​",
            "style": "IPY_MODEL_64a76530ab5741e4a04e10d5aec8ad6c",
            "value": " 49.0/49.0 [00:00&lt;00:00, 1.55kB/s]"
          }
        },
        "e5b34766103a46589156358ee3738267": {
          "model_module": "@jupyter-widgets/base",
          "model_name": "LayoutModel",
          "model_module_version": "1.2.0",
          "state": {
            "_model_module": "@jupyter-widgets/base",
            "_model_module_version": "1.2.0",
            "_model_name": "LayoutModel",
            "_view_count": null,
            "_view_module": "@jupyter-widgets/base",
            "_view_module_version": "1.2.0",
            "_view_name": "LayoutView",
            "align_content": null,
            "align_items": null,
            "align_self": null,
            "border": null,
            "bottom": null,
            "display": null,
            "flex": null,
            "flex_flow": null,
            "grid_area": null,
            "grid_auto_columns": null,
            "grid_auto_flow": null,
            "grid_auto_rows": null,
            "grid_column": null,
            "grid_gap": null,
            "grid_row": null,
            "grid_template_areas": null,
            "grid_template_columns": null,
            "grid_template_rows": null,
            "height": null,
            "justify_content": null,
            "justify_items": null,
            "left": null,
            "margin": null,
            "max_height": null,
            "max_width": null,
            "min_height": null,
            "min_width": null,
            "object_fit": null,
            "object_position": null,
            "order": null,
            "overflow": null,
            "overflow_x": null,
            "overflow_y": null,
            "padding": null,
            "right": null,
            "top": null,
            "visibility": null,
            "width": null
          }
        },
        "6b7861386ad9456da25707bfa1eb9911": {
          "model_module": "@jupyter-widgets/base",
          "model_name": "LayoutModel",
          "model_module_version": "1.2.0",
          "state": {
            "_model_module": "@jupyter-widgets/base",
            "_model_module_version": "1.2.0",
            "_model_name": "LayoutModel",
            "_view_count": null,
            "_view_module": "@jupyter-widgets/base",
            "_view_module_version": "1.2.0",
            "_view_name": "LayoutView",
            "align_content": null,
            "align_items": null,
            "align_self": null,
            "border": null,
            "bottom": null,
            "display": null,
            "flex": null,
            "flex_flow": null,
            "grid_area": null,
            "grid_auto_columns": null,
            "grid_auto_flow": null,
            "grid_auto_rows": null,
            "grid_column": null,
            "grid_gap": null,
            "grid_row": null,
            "grid_template_areas": null,
            "grid_template_columns": null,
            "grid_template_rows": null,
            "height": null,
            "justify_content": null,
            "justify_items": null,
            "left": null,
            "margin": null,
            "max_height": null,
            "max_width": null,
            "min_height": null,
            "min_width": null,
            "object_fit": null,
            "object_position": null,
            "order": null,
            "overflow": null,
            "overflow_x": null,
            "overflow_y": null,
            "padding": null,
            "right": null,
            "top": null,
            "visibility": null,
            "width": null
          }
        },
        "24741973c28043cb846017ddb80af68e": {
          "model_module": "@jupyter-widgets/controls",
          "model_name": "DescriptionStyleModel",
          "model_module_version": "1.5.0",
          "state": {
            "_model_module": "@jupyter-widgets/controls",
            "_model_module_version": "1.5.0",
            "_model_name": "DescriptionStyleModel",
            "_view_count": null,
            "_view_module": "@jupyter-widgets/base",
            "_view_module_version": "1.2.0",
            "_view_name": "StyleView",
            "description_width": ""
          }
        },
        "3e50377586174da18ce59843c39a681e": {
          "model_module": "@jupyter-widgets/base",
          "model_name": "LayoutModel",
          "model_module_version": "1.2.0",
          "state": {
            "_model_module": "@jupyter-widgets/base",
            "_model_module_version": "1.2.0",
            "_model_name": "LayoutModel",
            "_view_count": null,
            "_view_module": "@jupyter-widgets/base",
            "_view_module_version": "1.2.0",
            "_view_name": "LayoutView",
            "align_content": null,
            "align_items": null,
            "align_self": null,
            "border": null,
            "bottom": null,
            "display": null,
            "flex": null,
            "flex_flow": null,
            "grid_area": null,
            "grid_auto_columns": null,
            "grid_auto_flow": null,
            "grid_auto_rows": null,
            "grid_column": null,
            "grid_gap": null,
            "grid_row": null,
            "grid_template_areas": null,
            "grid_template_columns": null,
            "grid_template_rows": null,
            "height": null,
            "justify_content": null,
            "justify_items": null,
            "left": null,
            "margin": null,
            "max_height": null,
            "max_width": null,
            "min_height": null,
            "min_width": null,
            "object_fit": null,
            "object_position": null,
            "order": null,
            "overflow": null,
            "overflow_x": null,
            "overflow_y": null,
            "padding": null,
            "right": null,
            "top": null,
            "visibility": null,
            "width": null
          }
        },
        "b1024adf4bed4334b28047f6bcf7d848": {
          "model_module": "@jupyter-widgets/controls",
          "model_name": "ProgressStyleModel",
          "model_module_version": "1.5.0",
          "state": {
            "_model_module": "@jupyter-widgets/controls",
            "_model_module_version": "1.5.0",
            "_model_name": "ProgressStyleModel",
            "_view_count": null,
            "_view_module": "@jupyter-widgets/base",
            "_view_module_version": "1.2.0",
            "_view_name": "StyleView",
            "bar_color": null,
            "description_width": ""
          }
        },
        "39e8928436da415a8c6e2827aaf8dcbd": {
          "model_module": "@jupyter-widgets/base",
          "model_name": "LayoutModel",
          "model_module_version": "1.2.0",
          "state": {
            "_model_module": "@jupyter-widgets/base",
            "_model_module_version": "1.2.0",
            "_model_name": "LayoutModel",
            "_view_count": null,
            "_view_module": "@jupyter-widgets/base",
            "_view_module_version": "1.2.0",
            "_view_name": "LayoutView",
            "align_content": null,
            "align_items": null,
            "align_self": null,
            "border": null,
            "bottom": null,
            "display": null,
            "flex": null,
            "flex_flow": null,
            "grid_area": null,
            "grid_auto_columns": null,
            "grid_auto_flow": null,
            "grid_auto_rows": null,
            "grid_column": null,
            "grid_gap": null,
            "grid_row": null,
            "grid_template_areas": null,
            "grid_template_columns": null,
            "grid_template_rows": null,
            "height": null,
            "justify_content": null,
            "justify_items": null,
            "left": null,
            "margin": null,
            "max_height": null,
            "max_width": null,
            "min_height": null,
            "min_width": null,
            "object_fit": null,
            "object_position": null,
            "order": null,
            "overflow": null,
            "overflow_x": null,
            "overflow_y": null,
            "padding": null,
            "right": null,
            "top": null,
            "visibility": null,
            "width": null
          }
        },
        "64a76530ab5741e4a04e10d5aec8ad6c": {
          "model_module": "@jupyter-widgets/controls",
          "model_name": "DescriptionStyleModel",
          "model_module_version": "1.5.0",
          "state": {
            "_model_module": "@jupyter-widgets/controls",
            "_model_module_version": "1.5.0",
            "_model_name": "DescriptionStyleModel",
            "_view_count": null,
            "_view_module": "@jupyter-widgets/base",
            "_view_module_version": "1.2.0",
            "_view_name": "StyleView",
            "description_width": ""
          }
        },
        "a229276c63bc434f947c8f3e6f8b3066": {
          "model_module": "@jupyter-widgets/controls",
          "model_name": "HBoxModel",
          "model_module_version": "1.5.0",
          "state": {
            "_dom_classes": [],
            "_model_module": "@jupyter-widgets/controls",
            "_model_module_version": "1.5.0",
            "_model_name": "HBoxModel",
            "_view_count": null,
            "_view_module": "@jupyter-widgets/controls",
            "_view_module_version": "1.5.0",
            "_view_name": "HBoxView",
            "box_style": "",
            "children": [
              "IPY_MODEL_859a23f79ef042da87b17101ab9bd58b",
              "IPY_MODEL_b185538d16b54dac8a9a8d5a4e13c991",
              "IPY_MODEL_5678a320cd4f457383918ae84858a2e0"
            ],
            "layout": "IPY_MODEL_217ee14501974d0ea0d80eced5b9076a"
          }
        },
        "859a23f79ef042da87b17101ab9bd58b": {
          "model_module": "@jupyter-widgets/controls",
          "model_name": "HTMLModel",
          "model_module_version": "1.5.0",
          "state": {
            "_dom_classes": [],
            "_model_module": "@jupyter-widgets/controls",
            "_model_module_version": "1.5.0",
            "_model_name": "HTMLModel",
            "_view_count": null,
            "_view_module": "@jupyter-widgets/controls",
            "_view_module_version": "1.5.0",
            "_view_name": "HTMLView",
            "description": "",
            "description_tooltip": null,
            "layout": "IPY_MODEL_3292b68f676a43e9b77ab8d91095417d",
            "placeholder": "​",
            "style": "IPY_MODEL_a9e360d6296648509f6df17757c401c9",
            "value": "Downloading: 100%"
          }
        },
        "b185538d16b54dac8a9a8d5a4e13c991": {
          "model_module": "@jupyter-widgets/controls",
          "model_name": "FloatProgressModel",
          "model_module_version": "1.5.0",
          "state": {
            "_dom_classes": [],
            "_model_module": "@jupyter-widgets/controls",
            "_model_module_version": "1.5.0",
            "_model_name": "FloatProgressModel",
            "_view_count": null,
            "_view_module": "@jupyter-widgets/controls",
            "_view_module_version": "1.5.0",
            "_view_name": "ProgressView",
            "bar_style": "success",
            "description": "",
            "description_tooltip": null,
            "layout": "IPY_MODEL_cc0480a105c14bfc9f182a74dd267a4d",
            "max": 570,
            "min": 0,
            "orientation": "horizontal",
            "style": "IPY_MODEL_86fde83212ae47e48e817664b6885646",
            "value": 570
          }
        },
        "5678a320cd4f457383918ae84858a2e0": {
          "model_module": "@jupyter-widgets/controls",
          "model_name": "HTMLModel",
          "model_module_version": "1.5.0",
          "state": {
            "_dom_classes": [],
            "_model_module": "@jupyter-widgets/controls",
            "_model_module_version": "1.5.0",
            "_model_name": "HTMLModel",
            "_view_count": null,
            "_view_module": "@jupyter-widgets/controls",
            "_view_module_version": "1.5.0",
            "_view_name": "HTMLView",
            "description": "",
            "description_tooltip": null,
            "layout": "IPY_MODEL_92ff5a5a0de441cba9e5be9a5e4d502b",
            "placeholder": "​",
            "style": "IPY_MODEL_553188ebdeee4845bc0a6e5a1b9203a0",
            "value": " 570/570 [00:00&lt;00:00, 23.2kB/s]"
          }
        },
        "217ee14501974d0ea0d80eced5b9076a": {
          "model_module": "@jupyter-widgets/base",
          "model_name": "LayoutModel",
          "model_module_version": "1.2.0",
          "state": {
            "_model_module": "@jupyter-widgets/base",
            "_model_module_version": "1.2.0",
            "_model_name": "LayoutModel",
            "_view_count": null,
            "_view_module": "@jupyter-widgets/base",
            "_view_module_version": "1.2.0",
            "_view_name": "LayoutView",
            "align_content": null,
            "align_items": null,
            "align_self": null,
            "border": null,
            "bottom": null,
            "display": null,
            "flex": null,
            "flex_flow": null,
            "grid_area": null,
            "grid_auto_columns": null,
            "grid_auto_flow": null,
            "grid_auto_rows": null,
            "grid_column": null,
            "grid_gap": null,
            "grid_row": null,
            "grid_template_areas": null,
            "grid_template_columns": null,
            "grid_template_rows": null,
            "height": null,
            "justify_content": null,
            "justify_items": null,
            "left": null,
            "margin": null,
            "max_height": null,
            "max_width": null,
            "min_height": null,
            "min_width": null,
            "object_fit": null,
            "object_position": null,
            "order": null,
            "overflow": null,
            "overflow_x": null,
            "overflow_y": null,
            "padding": null,
            "right": null,
            "top": null,
            "visibility": null,
            "width": null
          }
        },
        "3292b68f676a43e9b77ab8d91095417d": {
          "model_module": "@jupyter-widgets/base",
          "model_name": "LayoutModel",
          "model_module_version": "1.2.0",
          "state": {
            "_model_module": "@jupyter-widgets/base",
            "_model_module_version": "1.2.0",
            "_model_name": "LayoutModel",
            "_view_count": null,
            "_view_module": "@jupyter-widgets/base",
            "_view_module_version": "1.2.0",
            "_view_name": "LayoutView",
            "align_content": null,
            "align_items": null,
            "align_self": null,
            "border": null,
            "bottom": null,
            "display": null,
            "flex": null,
            "flex_flow": null,
            "grid_area": null,
            "grid_auto_columns": null,
            "grid_auto_flow": null,
            "grid_auto_rows": null,
            "grid_column": null,
            "grid_gap": null,
            "grid_row": null,
            "grid_template_areas": null,
            "grid_template_columns": null,
            "grid_template_rows": null,
            "height": null,
            "justify_content": null,
            "justify_items": null,
            "left": null,
            "margin": null,
            "max_height": null,
            "max_width": null,
            "min_height": null,
            "min_width": null,
            "object_fit": null,
            "object_position": null,
            "order": null,
            "overflow": null,
            "overflow_x": null,
            "overflow_y": null,
            "padding": null,
            "right": null,
            "top": null,
            "visibility": null,
            "width": null
          }
        },
        "a9e360d6296648509f6df17757c401c9": {
          "model_module": "@jupyter-widgets/controls",
          "model_name": "DescriptionStyleModel",
          "model_module_version": "1.5.0",
          "state": {
            "_model_module": "@jupyter-widgets/controls",
            "_model_module_version": "1.5.0",
            "_model_name": "DescriptionStyleModel",
            "_view_count": null,
            "_view_module": "@jupyter-widgets/base",
            "_view_module_version": "1.2.0",
            "_view_name": "StyleView",
            "description_width": ""
          }
        },
        "cc0480a105c14bfc9f182a74dd267a4d": {
          "model_module": "@jupyter-widgets/base",
          "model_name": "LayoutModel",
          "model_module_version": "1.2.0",
          "state": {
            "_model_module": "@jupyter-widgets/base",
            "_model_module_version": "1.2.0",
            "_model_name": "LayoutModel",
            "_view_count": null,
            "_view_module": "@jupyter-widgets/base",
            "_view_module_version": "1.2.0",
            "_view_name": "LayoutView",
            "align_content": null,
            "align_items": null,
            "align_self": null,
            "border": null,
            "bottom": null,
            "display": null,
            "flex": null,
            "flex_flow": null,
            "grid_area": null,
            "grid_auto_columns": null,
            "grid_auto_flow": null,
            "grid_auto_rows": null,
            "grid_column": null,
            "grid_gap": null,
            "grid_row": null,
            "grid_template_areas": null,
            "grid_template_columns": null,
            "grid_template_rows": null,
            "height": null,
            "justify_content": null,
            "justify_items": null,
            "left": null,
            "margin": null,
            "max_height": null,
            "max_width": null,
            "min_height": null,
            "min_width": null,
            "object_fit": null,
            "object_position": null,
            "order": null,
            "overflow": null,
            "overflow_x": null,
            "overflow_y": null,
            "padding": null,
            "right": null,
            "top": null,
            "visibility": null,
            "width": null
          }
        },
        "86fde83212ae47e48e817664b6885646": {
          "model_module": "@jupyter-widgets/controls",
          "model_name": "ProgressStyleModel",
          "model_module_version": "1.5.0",
          "state": {
            "_model_module": "@jupyter-widgets/controls",
            "_model_module_version": "1.5.0",
            "_model_name": "ProgressStyleModel",
            "_view_count": null,
            "_view_module": "@jupyter-widgets/base",
            "_view_module_version": "1.2.0",
            "_view_name": "StyleView",
            "bar_color": null,
            "description_width": ""
          }
        },
        "92ff5a5a0de441cba9e5be9a5e4d502b": {
          "model_module": "@jupyter-widgets/base",
          "model_name": "LayoutModel",
          "model_module_version": "1.2.0",
          "state": {
            "_model_module": "@jupyter-widgets/base",
            "_model_module_version": "1.2.0",
            "_model_name": "LayoutModel",
            "_view_count": null,
            "_view_module": "@jupyter-widgets/base",
            "_view_module_version": "1.2.0",
            "_view_name": "LayoutView",
            "align_content": null,
            "align_items": null,
            "align_self": null,
            "border": null,
            "bottom": null,
            "display": null,
            "flex": null,
            "flex_flow": null,
            "grid_area": null,
            "grid_auto_columns": null,
            "grid_auto_flow": null,
            "grid_auto_rows": null,
            "grid_column": null,
            "grid_gap": null,
            "grid_row": null,
            "grid_template_areas": null,
            "grid_template_columns": null,
            "grid_template_rows": null,
            "height": null,
            "justify_content": null,
            "justify_items": null,
            "left": null,
            "margin": null,
            "max_height": null,
            "max_width": null,
            "min_height": null,
            "min_width": null,
            "object_fit": null,
            "object_position": null,
            "order": null,
            "overflow": null,
            "overflow_x": null,
            "overflow_y": null,
            "padding": null,
            "right": null,
            "top": null,
            "visibility": null,
            "width": null
          }
        },
        "553188ebdeee4845bc0a6e5a1b9203a0": {
          "model_module": "@jupyter-widgets/controls",
          "model_name": "DescriptionStyleModel",
          "model_module_version": "1.5.0",
          "state": {
            "_model_module": "@jupyter-widgets/controls",
            "_model_module_version": "1.5.0",
            "_model_name": "DescriptionStyleModel",
            "_view_count": null,
            "_view_module": "@jupyter-widgets/base",
            "_view_module_version": "1.2.0",
            "_view_name": "StyleView",
            "description_width": ""
          }
        },
        "75777b66bcbb493a892450ac26bcbdf8": {
          "model_module": "@jupyter-widgets/controls",
          "model_name": "HBoxModel",
          "model_module_version": "1.5.0",
          "state": {
            "_dom_classes": [],
            "_model_module": "@jupyter-widgets/controls",
            "_model_module_version": "1.5.0",
            "_model_name": "HBoxModel",
            "_view_count": null,
            "_view_module": "@jupyter-widgets/controls",
            "_view_module_version": "1.5.0",
            "_view_name": "HBoxView",
            "box_style": "",
            "children": [
              "IPY_MODEL_44b1306b56604fc1b0466add52f038c3",
              "IPY_MODEL_7b8b74af44044d04a5d376058b66783c",
              "IPY_MODEL_d98dbdc235254d2894950a758e0425d1"
            ],
            "layout": "IPY_MODEL_f230ebf619924117974dfffabee3e81d"
          }
        },
        "44b1306b56604fc1b0466add52f038c3": {
          "model_module": "@jupyter-widgets/controls",
          "model_name": "HTMLModel",
          "model_module_version": "1.5.0",
          "state": {
            "_dom_classes": [],
            "_model_module": "@jupyter-widgets/controls",
            "_model_module_version": "1.5.0",
            "_model_name": "HTMLModel",
            "_view_count": null,
            "_view_module": "@jupyter-widgets/controls",
            "_view_module_version": "1.5.0",
            "_view_name": "HTMLView",
            "description": "",
            "description_tooltip": null,
            "layout": "IPY_MODEL_50b6f8fe99a749e48c12afdde80c9f7b",
            "placeholder": "​",
            "style": "IPY_MODEL_f10ccd632a754dbe96738d93d45217d9",
            "value": "Downloading: 100%"
          }
        },
        "7b8b74af44044d04a5d376058b66783c": {
          "model_module": "@jupyter-widgets/controls",
          "model_name": "FloatProgressModel",
          "model_module_version": "1.5.0",
          "state": {
            "_dom_classes": [],
            "_model_module": "@jupyter-widgets/controls",
            "_model_module_version": "1.5.0",
            "_model_name": "FloatProgressModel",
            "_view_count": null,
            "_view_module": "@jupyter-widgets/controls",
            "_view_module_version": "1.5.0",
            "_view_name": "ProgressView",
            "bar_style": "success",
            "description": "",
            "description_tooltip": null,
            "layout": "IPY_MODEL_a12ed5b052704de4b2f259e25a49d160",
            "max": 526681800,
            "min": 0,
            "orientation": "horizontal",
            "style": "IPY_MODEL_4abadc1b4032446b8f76a49a12bdf1f9",
            "value": 526681800
          }
        },
        "d98dbdc235254d2894950a758e0425d1": {
          "model_module": "@jupyter-widgets/controls",
          "model_name": "HTMLModel",
          "model_module_version": "1.5.0",
          "state": {
            "_dom_classes": [],
            "_model_module": "@jupyter-widgets/controls",
            "_model_module_version": "1.5.0",
            "_model_name": "HTMLModel",
            "_view_count": null,
            "_view_module": "@jupyter-widgets/controls",
            "_view_module_version": "1.5.0",
            "_view_name": "HTMLView",
            "description": "",
            "description_tooltip": null,
            "layout": "IPY_MODEL_ac734b954c63463d9abdf02c97cafe93",
            "placeholder": "​",
            "style": "IPY_MODEL_863e1936a46941bb88d93ae06c570412",
            "value": " 502M/502M [00:07&lt;00:00, 72.4MB/s]"
          }
        },
        "f230ebf619924117974dfffabee3e81d": {
          "model_module": "@jupyter-widgets/base",
          "model_name": "LayoutModel",
          "model_module_version": "1.2.0",
          "state": {
            "_model_module": "@jupyter-widgets/base",
            "_model_module_version": "1.2.0",
            "_model_name": "LayoutModel",
            "_view_count": null,
            "_view_module": "@jupyter-widgets/base",
            "_view_module_version": "1.2.0",
            "_view_name": "LayoutView",
            "align_content": null,
            "align_items": null,
            "align_self": null,
            "border": null,
            "bottom": null,
            "display": null,
            "flex": null,
            "flex_flow": null,
            "grid_area": null,
            "grid_auto_columns": null,
            "grid_auto_flow": null,
            "grid_auto_rows": null,
            "grid_column": null,
            "grid_gap": null,
            "grid_row": null,
            "grid_template_areas": null,
            "grid_template_columns": null,
            "grid_template_rows": null,
            "height": null,
            "justify_content": null,
            "justify_items": null,
            "left": null,
            "margin": null,
            "max_height": null,
            "max_width": null,
            "min_height": null,
            "min_width": null,
            "object_fit": null,
            "object_position": null,
            "order": null,
            "overflow": null,
            "overflow_x": null,
            "overflow_y": null,
            "padding": null,
            "right": null,
            "top": null,
            "visibility": null,
            "width": null
          }
        },
        "50b6f8fe99a749e48c12afdde80c9f7b": {
          "model_module": "@jupyter-widgets/base",
          "model_name": "LayoutModel",
          "model_module_version": "1.2.0",
          "state": {
            "_model_module": "@jupyter-widgets/base",
            "_model_module_version": "1.2.0",
            "_model_name": "LayoutModel",
            "_view_count": null,
            "_view_module": "@jupyter-widgets/base",
            "_view_module_version": "1.2.0",
            "_view_name": "LayoutView",
            "align_content": null,
            "align_items": null,
            "align_self": null,
            "border": null,
            "bottom": null,
            "display": null,
            "flex": null,
            "flex_flow": null,
            "grid_area": null,
            "grid_auto_columns": null,
            "grid_auto_flow": null,
            "grid_auto_rows": null,
            "grid_column": null,
            "grid_gap": null,
            "grid_row": null,
            "grid_template_areas": null,
            "grid_template_columns": null,
            "grid_template_rows": null,
            "height": null,
            "justify_content": null,
            "justify_items": null,
            "left": null,
            "margin": null,
            "max_height": null,
            "max_width": null,
            "min_height": null,
            "min_width": null,
            "object_fit": null,
            "object_position": null,
            "order": null,
            "overflow": null,
            "overflow_x": null,
            "overflow_y": null,
            "padding": null,
            "right": null,
            "top": null,
            "visibility": null,
            "width": null
          }
        },
        "f10ccd632a754dbe96738d93d45217d9": {
          "model_module": "@jupyter-widgets/controls",
          "model_name": "DescriptionStyleModel",
          "model_module_version": "1.5.0",
          "state": {
            "_model_module": "@jupyter-widgets/controls",
            "_model_module_version": "1.5.0",
            "_model_name": "DescriptionStyleModel",
            "_view_count": null,
            "_view_module": "@jupyter-widgets/base",
            "_view_module_version": "1.2.0",
            "_view_name": "StyleView",
            "description_width": ""
          }
        },
        "a12ed5b052704de4b2f259e25a49d160": {
          "model_module": "@jupyter-widgets/base",
          "model_name": "LayoutModel",
          "model_module_version": "1.2.0",
          "state": {
            "_model_module": "@jupyter-widgets/base",
            "_model_module_version": "1.2.0",
            "_model_name": "LayoutModel",
            "_view_count": null,
            "_view_module": "@jupyter-widgets/base",
            "_view_module_version": "1.2.0",
            "_view_name": "LayoutView",
            "align_content": null,
            "align_items": null,
            "align_self": null,
            "border": null,
            "bottom": null,
            "display": null,
            "flex": null,
            "flex_flow": null,
            "grid_area": null,
            "grid_auto_columns": null,
            "grid_auto_flow": null,
            "grid_auto_rows": null,
            "grid_column": null,
            "grid_gap": null,
            "grid_row": null,
            "grid_template_areas": null,
            "grid_template_columns": null,
            "grid_template_rows": null,
            "height": null,
            "justify_content": null,
            "justify_items": null,
            "left": null,
            "margin": null,
            "max_height": null,
            "max_width": null,
            "min_height": null,
            "min_width": null,
            "object_fit": null,
            "object_position": null,
            "order": null,
            "overflow": null,
            "overflow_x": null,
            "overflow_y": null,
            "padding": null,
            "right": null,
            "top": null,
            "visibility": null,
            "width": null
          }
        },
        "4abadc1b4032446b8f76a49a12bdf1f9": {
          "model_module": "@jupyter-widgets/controls",
          "model_name": "ProgressStyleModel",
          "model_module_version": "1.5.0",
          "state": {
            "_model_module": "@jupyter-widgets/controls",
            "_model_module_version": "1.5.0",
            "_model_name": "ProgressStyleModel",
            "_view_count": null,
            "_view_module": "@jupyter-widgets/base",
            "_view_module_version": "1.2.0",
            "_view_name": "StyleView",
            "bar_color": null,
            "description_width": ""
          }
        },
        "ac734b954c63463d9abdf02c97cafe93": {
          "model_module": "@jupyter-widgets/base",
          "model_name": "LayoutModel",
          "model_module_version": "1.2.0",
          "state": {
            "_model_module": "@jupyter-widgets/base",
            "_model_module_version": "1.2.0",
            "_model_name": "LayoutModel",
            "_view_count": null,
            "_view_module": "@jupyter-widgets/base",
            "_view_module_version": "1.2.0",
            "_view_name": "LayoutView",
            "align_content": null,
            "align_items": null,
            "align_self": null,
            "border": null,
            "bottom": null,
            "display": null,
            "flex": null,
            "flex_flow": null,
            "grid_area": null,
            "grid_auto_columns": null,
            "grid_auto_flow": null,
            "grid_auto_rows": null,
            "grid_column": null,
            "grid_gap": null,
            "grid_row": null,
            "grid_template_areas": null,
            "grid_template_columns": null,
            "grid_template_rows": null,
            "height": null,
            "justify_content": null,
            "justify_items": null,
            "left": null,
            "margin": null,
            "max_height": null,
            "max_width": null,
            "min_height": null,
            "min_width": null,
            "object_fit": null,
            "object_position": null,
            "order": null,
            "overflow": null,
            "overflow_x": null,
            "overflow_y": null,
            "padding": null,
            "right": null,
            "top": null,
            "visibility": null,
            "width": null
          }
        },
        "863e1936a46941bb88d93ae06c570412": {
          "model_module": "@jupyter-widgets/controls",
          "model_name": "DescriptionStyleModel",
          "model_module_version": "1.5.0",
          "state": {
            "_model_module": "@jupyter-widgets/controls",
            "_model_module_version": "1.5.0",
            "_model_name": "DescriptionStyleModel",
            "_view_count": null,
            "_view_module": "@jupyter-widgets/base",
            "_view_module_version": "1.2.0",
            "_view_name": "StyleView",
            "description_width": ""
          }
        }
      }
    },
    "gpuClass": "standard"
  },
  "nbformat": 4,
  "nbformat_minor": 0
}